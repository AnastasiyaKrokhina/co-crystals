{
  "nbformat": 4,
  "nbformat_minor": 0,
  "metadata": {
    "colab": {
      "provenance": [],
      "authorship_tag": "ABX9TyMc57w5ESDXg5fz6f9ZQMaJ",
      "include_colab_link": true
    },
    "kernelspec": {
      "name": "python3",
      "display_name": "Python 3"
    },
    "language_info": {
      "name": "python"
    }
  },
  "cells": [
    {
      "cell_type": "markdown",
      "metadata": {
        "id": "view-in-github",
        "colab_type": "text"
      },
      "source": [
        "<a href=\"https://colab.research.google.com/github/AnastasiyaKrokhina/co-crystals-by-a.krokhina/blob/main/1.ipynb\" target=\"_parent\"><img src=\"https://colab.research.google.com/assets/colab-badge.svg\" alt=\"Open In Colab\"/></a>"
      ]
    },
    {
      "cell_type": "markdown",
      "source": [
        "# Introduction\n",
        "$$ C(T) = a + b*T +\\frac{c}{T^2} , где $$\n",
        "\n",
        "$$a = 77.78$$\n",
        "$$b = 9.2*10^-4$$\n",
        "$$c = 0$$\n",
        "\n",
        "Зная теплоемкость Cp°, энтальпию H°, энтропию S° и энергию Гиббса G° можно рассчитать по известным формулам:\n",
        "$$H(T) = H^0 + \\int_{T_0}^{T} C(T) \\,dT$$\n",
        "$$S(T) = S^0 + \\int_{T_0}^{T} \\frac{C(T)}{T} \\,dT$$\n",
        "$$G(T) = H(T) - T\\cdot S(T)$$\n"
      ],
      "metadata": {
        "id": "Dqtv134VKnF0"
      }
    },
    {
      "cell_type": "markdown",
      "source": [
        "# Занятие №1"
      ],
      "metadata": {
        "id": "LXOJ5xKdLIl4"
      }
    },
    {
      "cell_type": "markdown",
      "source": [
        "str"
      ],
      "metadata": {
        "id": "m8emZZpTLQ-c"
      }
    },
    {
      "cell_type": "code",
      "source": [
        "print('Hello, world!')"
      ],
      "metadata": {
        "id": "0yxiLalvPIjm"
      },
      "execution_count": null,
      "outputs": []
    },
    {
      "cell_type": "code",
      "source": [
        "print('Hello, world!')\n",
        "\n",
        "print('Hello,', 'world!')\n",
        "\n",
        "print('Hello,' + ' ' + 'world!')\n",
        "\n",
        "print('Hello,', '\\t', 'world!')\n",
        "\n",
        "print('\\t', 'world')\n",
        "print()"
      ],
      "metadata": {
        "colab": {
          "base_uri": "https://localhost:8080/"
        },
        "id": "Op76H50mPLwo",
        "outputId": "565eb1f6-5fa8-4561-e44a-33c82c4db451"
      },
      "execution_count": 8,
      "outputs": [
        {
          "output_type": "stream",
          "name": "stdout",
          "text": [
            "Hello, world!\n",
            "Hello, world!\n",
            "Hello, world!\n",
            "Hello, \t world!\n",
            "\t world\n"
          ]
        }
      ]
    },
    {
      "cell_type": "code",
      "source": [
        "first = 'Hello'\n",
        "second = 'world'"
      ],
      "metadata": {
        "id": "sqqsSxtlPOPa"
      },
      "execution_count": 9,
      "outputs": []
    },
    {
      "cell_type": "code",
      "source": [
        "print(type(first))"
      ],
      "metadata": {
        "colab": {
          "base_uri": "https://localhost:8080/"
        },
        "id": "uc67S2uEWm4j",
        "outputId": "a7be9d03-4454-4508-f454-3c2ef79675c6"
      },
      "execution_count": 50,
      "outputs": [
        {
          "output_type": "stream",
          "name": "stdout",
          "text": [
            "<class 'str'>\n"
          ]
        }
      ]
    },
    {
      "cell_type": "code",
      "source": [
        "print('{}, {},/// {}!'.format(first, second, first))\n",
        "print()\n",
        "print(f'{first},\\n{second}!')"
      ],
      "metadata": {
        "colab": {
          "base_uri": "https://localhost:8080/"
        },
        "id": "S3IRZyHdPdPZ",
        "outputId": "f08f527c-d169-49fa-8093-307c6974ef2d"
      },
      "execution_count": 81,
      "outputs": [
        {
          "output_type": "stream",
          "name": "stdout",
          "text": [
            "Hello, world,/// Hello!\n",
            "\n",
            "Hello,\n",
            "world!\n"
          ]
        }
      ]
    },
    {
      "cell_type": "code",
      "source": [
        "first\n",
        "second"
      ],
      "metadata": {
        "colab": {
          "base_uri": "https://localhost:8080/",
          "height": 35
        },
        "id": "myPURoa3PrkY",
        "outputId": "e187597a-982d-43cb-dffe-73907ba3df7a"
      },
      "execution_count": 13,
      "outputs": [
        {
          "output_type": "execute_result",
          "data": {
            "text/plain": [
              "'world'"
            ],
            "application/vnd.google.colaboratory.intrinsic+json": {
              "type": "string"
            }
          },
          "metadata": {},
          "execution_count": 13
        }
      ]
    },
    {
      "cell_type": "code",
      "source": [
        "first_replace = first.replace('l', 'LL')\n",
        "print(first_replace)\n",
        "\n",
        "first_up = first.upper()\n",
        "print(first_up)\n",
        "\n",
        "first_low = first.lower()\n",
        "print(first_low)"
      ],
      "metadata": {
        "colab": {
          "base_uri": "https://localhost:8080/"
        },
        "id": "oT-SJ3gve_xq",
        "outputId": "fd6bc4f7-8fb5-4746-a2aa-72cfff6dfe37"
      },
      "execution_count": 121,
      "outputs": [
        {
          "output_type": "stream",
          "name": "stdout",
          "text": [
            "HeLLLLo\n",
            "HELLO\n",
            "hello\n"
          ]
        }
      ]
    },
    {
      "cell_type": "code",
      "source": [
        "first.count('l')"
      ],
      "metadata": {
        "colab": {
          "base_uri": "https://localhost:8080/"
        },
        "id": "w89Iri9ef7dL",
        "outputId": "6db9d59d-9b83-437b-df71-77c52a1afa2f"
      },
      "execution_count": 122,
      "outputs": [
        {
          "output_type": "execute_result",
          "data": {
            "text/plain": [
              "2"
            ]
          },
          "metadata": {},
          "execution_count": 122
        }
      ]
    },
    {
      "cell_type": "markdown",
      "source": [
        "Операция сложения двух рациональных чисел внезапно привела к неточному вычислению результата. Тот же самый результат выдадут и другие языки программирования. Такое поведение обуславливается ограничениями вычислительных мощностей. Объём памяти, в отличие от чисел, конечен (бесконечное количество чисел требует бесконечного количества памяти для своего хранения)."
      ],
      "metadata": {
        "id": "6PJvyIWSQ3YM"
      }
    },
    {
      "cell_type": "markdown",
      "source": [
        "int, float, bool"
      ],
      "metadata": {
        "id": "aDFc2h0lXg-U"
      }
    },
    {
      "cell_type": "code",
      "source": [
        "print(5.2 + 5.4)\n",
        "print(5 - 5)\n",
        "print(5 * 5)\n",
        "print(5 / 0)"
      ],
      "metadata": {
        "colab": {
          "base_uri": "https://localhost:8080/",
          "height": 253
        },
        "id": "mUXr6QYKP2w1",
        "outputId": "92a96223-a64d-4ad7-ca95-58a204d5ad6e"
      },
      "execution_count": 14,
      "outputs": [
        {
          "output_type": "stream",
          "name": "stdout",
          "text": [
            "10.600000000000001\n",
            "0\n",
            "25\n"
          ]
        },
        {
          "output_type": "error",
          "ename": "ZeroDivisionError",
          "evalue": "ignored",
          "traceback": [
            "\u001b[0;31m---------------------------------------------------------------------------\u001b[0m",
            "\u001b[0;31mZeroDivisionError\u001b[0m                         Traceback (most recent call last)",
            "\u001b[0;32m<ipython-input-14-d6e6c76d47ce>\u001b[0m in \u001b[0;36m<module>\u001b[0;34m\u001b[0m\n\u001b[1;32m      2\u001b[0m \u001b[0mprint\u001b[0m\u001b[0;34m(\u001b[0m\u001b[0;36m5\u001b[0m \u001b[0;34m-\u001b[0m \u001b[0;36m5\u001b[0m\u001b[0;34m)\u001b[0m\u001b[0;34m\u001b[0m\u001b[0;34m\u001b[0m\u001b[0m\n\u001b[1;32m      3\u001b[0m \u001b[0mprint\u001b[0m\u001b[0;34m(\u001b[0m\u001b[0;36m5\u001b[0m \u001b[0;34m*\u001b[0m \u001b[0;36m5\u001b[0m\u001b[0;34m)\u001b[0m\u001b[0;34m\u001b[0m\u001b[0;34m\u001b[0m\u001b[0m\n\u001b[0;32m----> 4\u001b[0;31m \u001b[0mprint\u001b[0m\u001b[0;34m(\u001b[0m\u001b[0;36m5\u001b[0m \u001b[0;34m/\u001b[0m \u001b[0;36m0\u001b[0m\u001b[0;34m)\u001b[0m\u001b[0;34m\u001b[0m\u001b[0;34m\u001b[0m\u001b[0m\n\u001b[0m",
            "\u001b[0;31mZeroDivisionError\u001b[0m: division by zero"
          ]
        }
      ]
    },
    {
      "cell_type": "code",
      "source": [
        "a = 5\n",
        "b = 6\n",
        "c = 3.5\n",
        "d = 1.2"
      ],
      "metadata": {
        "id": "6I8GpNA8QOvC"
      },
      "execution_count": 15,
      "outputs": []
    },
    {
      "cell_type": "code",
      "source": [
        "print(type(a))\n",
        "print(type(c))"
      ],
      "metadata": {
        "colab": {
          "base_uri": "https://localhost:8080/"
        },
        "id": "4Dg-OrJfWuUl",
        "outputId": "2cc77ef5-1c6e-48a1-cbdb-18e995c1f85c"
      },
      "execution_count": 51,
      "outputs": [
        {
          "output_type": "stream",
          "name": "stdout",
          "text": [
            "<class 'int'>\n",
            "<class 'float'>\n"
          ]
        }
      ]
    },
    {
      "cell_type": "code",
      "source": [
        "print('a равно', a)\n",
        "print('b равно', b)\n",
        "print()\n",
        "print('Сложение -', a + b)\n",
        "print('Вычитание -', a - b)\n",
        "print('Деление с остатком -', a / b)\n",
        "print('Целочисленное деление -', a // b)\n",
        "print('Умножение -', a * b)\n",
        "print('Остаток от деления -', a % b)\n",
        "print('Возведение в степень -', a**b)\n",
        "print('Модуль числа', abs(a - b))"
      ],
      "metadata": {
        "colab": {
          "base_uri": "https://localhost:8080/"
        },
        "id": "jhqSeDUCRNmV",
        "outputId": "66b3379a-86d6-47ba-981b-821f69a4a157"
      },
      "execution_count": 16,
      "outputs": [
        {
          "output_type": "stream",
          "name": "stdout",
          "text": [
            "a равно 5\n",
            "b равно 6\n",
            "\n",
            "Сложение - 11\n",
            "Вычитание - -1\n",
            "Деление с остатком - 0.8333333333333334\n",
            "Целочисленное деление - 0\n",
            "Умножение - 30\n",
            "Остаток от деления - 5\n",
            "Возведение в степень - 15625\n",
            "Модуль числа 1\n"
          ]
        }
      ]
    },
    {
      "cell_type": "code",
      "source": [
        "print('c равно', c)\n",
        "print('d равно', d)\n",
        "print()\n",
        "print('Сложение -', c + d)\n",
        "print('Вычитание -', c - d)\n",
        "print('Деление с остатком -', c / d)\n",
        "print('Целочисленное деление -', c // d)\n",
        "print('Умножение -', c * d)\n",
        "print('Остаток от деления -', c % d)\n",
        "print('Возведение в степень -', c**d)\n",
        "print('Модуль числа', abs(c - d))"
      ],
      "metadata": {
        "colab": {
          "base_uri": "https://localhost:8080/"
        },
        "id": "hntE-lpXRQpg",
        "outputId": "c86699d3-3557-416f-8f85-699bc98244e8"
      },
      "execution_count": 17,
      "outputs": [
        {
          "output_type": "stream",
          "name": "stdout",
          "text": [
            "c равно 3.5\n",
            "d равно 1.2\n",
            "\n",
            "Сложение - 4.7\n",
            "Вычитание - 2.3\n",
            "Деление с остатком - 2.916666666666667\n",
            "Целочисленное деление - 2.0\n",
            "Умножение - 4.2\n",
            "Остаток от деления - 1.1\n",
            "Возведение в степень - 4.496573049932038\n",
            "Модуль числа 2.3\n"
          ]
        }
      ]
    },
    {
      "cell_type": "code",
      "source": [
        "print(a > c)\n",
        "print(a == c)\n",
        "print(a >= c)"
      ],
      "metadata": {
        "colab": {
          "base_uri": "https://localhost:8080/"
        },
        "id": "9EO8BcPFXo5r",
        "outputId": "9584ae57-12f6-4bfa-fe98-9e0cc9629137"
      },
      "execution_count": 59,
      "outputs": [
        {
          "output_type": "stream",
          "name": "stdout",
          "text": [
            "True\n",
            "False\n",
            "True\n"
          ]
        }
      ]
    },
    {
      "cell_type": "code",
      "source": [
        "type(a > c)"
      ],
      "metadata": {
        "colab": {
          "base_uri": "https://localhost:8080/"
        },
        "id": "unBUBQHoXj_A",
        "outputId": "d50ed11b-f240-4a8c-cbbe-424e396564ff"
      },
      "execution_count": 56,
      "outputs": [
        {
          "output_type": "execute_result",
          "data": {
            "text/plain": [
              "bool"
            ]
          },
          "metadata": {},
          "execution_count": 56
        }
      ]
    },
    {
      "cell_type": "code",
      "source": [
        "x = c**d"
      ],
      "metadata": {
        "id": "TaAaozDoR4Z2"
      },
      "execution_count": 18,
      "outputs": []
    },
    {
      "cell_type": "markdown",
      "source": [
        "как установить необходимую точность:"
      ],
      "metadata": {
        "id": "eApviITFRaNW"
      }
    },
    {
      "cell_type": "code",
      "source": [
        "print(float('{:.4f}'.format(x)))\n",
        "print(float('{:.8f}'.format(x)))\n",
        "print(float('{:.2f}'.format(x))) # округлил\n",
        "print(float('{:.1f}'.format(x)))\n",
        "print(float('{:.3f}'.format(x)))"
      ],
      "metadata": {
        "colab": {
          "base_uri": "https://localhost:8080/"
        },
        "id": "7a2nkH-WRZQn",
        "outputId": "76d72910-86cb-4fd9-8a5a-57c119518947"
      },
      "execution_count": 24,
      "outputs": [
        {
          "output_type": "stream",
          "name": "stdout",
          "text": [
            "4.4966\n",
            "4.49657305\n",
            "4.5\n",
            "4.5\n",
            "4.497\n"
          ]
        }
      ]
    },
    {
      "cell_type": "code",
      "source": [
        "print(int(x))\n",
        "print(int(6.9))\n",
        "print(str(x))\n",
        "str(x)"
      ],
      "metadata": {
        "colab": {
          "base_uri": "https://localhost:8080/",
          "height": 87
        },
        "id": "B88F06tGSDrA",
        "outputId": "b547e893-cd43-44dd-92dc-7ccc17aca45f"
      },
      "execution_count": 83,
      "outputs": [
        {
          "output_type": "stream",
          "name": "stdout",
          "text": [
            "4\n",
            "6\n",
            "4.496573049932038\n"
          ]
        },
        {
          "output_type": "execute_result",
          "data": {
            "text/plain": [
              "'4.496573049932038'"
            ],
            "application/vnd.google.colaboratory.intrinsic+json": {
              "type": "string"
            }
          },
          "metadata": {},
          "execution_count": 83
        }
      ]
    },
    {
      "cell_type": "code",
      "source": [
        "x_str = str(x)\n",
        "print(type(x_str), f'x_str = {x_str}')\n",
        "\n",
        "x_str_int = float(x_str)\n",
        "\n",
        "print(type(x_str_int), f'x_str_int = {x_str_int}')"
      ],
      "metadata": {
        "colab": {
          "base_uri": "https://localhost:8080/"
        },
        "id": "VXICnYuIcDVl",
        "outputId": "53452039-3f24-4b5e-acd2-bb8aeefd2901"
      },
      "execution_count": 89,
      "outputs": [
        {
          "output_type": "stream",
          "name": "stdout",
          "text": [
            "<class 'str'> x_str = 4.496573049932038\n",
            "<class 'float'> x_str_int = 4.496573049932038\n"
          ]
        }
      ]
    },
    {
      "cell_type": "code",
      "source": [
        "6."
      ],
      "metadata": {
        "colab": {
          "base_uri": "https://localhost:8080/"
        },
        "id": "9sojYN1XSYwk",
        "outputId": "f4e6a3da-890f-4cac-88e7-e788380a932d"
      },
      "execution_count": 28,
      "outputs": [
        {
          "output_type": "execute_result",
          "data": {
            "text/plain": [
              "6.0"
            ]
          },
          "metadata": {},
          "execution_count": 28
        }
      ]
    },
    {
      "cell_type": "code",
      "source": [
        ".9"
      ],
      "metadata": {
        "colab": {
          "base_uri": "https://localhost:8080/"
        },
        "id": "dLCSv_Q4SqpZ",
        "outputId": "afbdbaeb-4b11-47f5-e241-3fb53af1f537"
      },
      "execution_count": 29,
      "outputs": [
        {
          "output_type": "execute_result",
          "data": {
            "text/plain": [
              "0.9"
            ]
          },
          "metadata": {},
          "execution_count": 29
        }
      ]
    },
    {
      "cell_type": "markdown",
      "source": [
        "list"
      ],
      "metadata": {
        "id": "PhIIR5l3SwZG"
      }
    },
    {
      "cell_type": "code",
      "source": [
        "lst = list()\n",
        "print(lst)\n",
        "\n",
        "lst_1 = []\n",
        "print(lst_1)"
      ],
      "metadata": {
        "colab": {
          "base_uri": "https://localhost:8080/"
        },
        "id": "JU4T0Q6rSv8f",
        "outputId": "ef5dbfd7-57b7-4c16-c802-e7221d695ebb"
      },
      "execution_count": 35,
      "outputs": [
        {
          "output_type": "stream",
          "name": "stdout",
          "text": [
            "[]\n",
            "[]\n"
          ]
        }
      ]
    },
    {
      "cell_type": "code",
      "source": [
        "first_lst = first.split('l')\n",
        "\n",
        "print(first_lst, type(first_lst))\n",
        "\n",
        "first_lst = first.split('ll')\n",
        "print(first_lst)\n",
        "\n",
        "first_join = 'll'.join(first_lst)\n",
        "\n",
        "print( first_join, type(first_join))"
      ],
      "metadata": {
        "colab": {
          "base_uri": "https://localhost:8080/"
        },
        "id": "A1DBwU1Sdc_t",
        "outputId": "a15298dd-a73a-47e7-cd15-b89615c3eadd"
      },
      "execution_count": 112,
      "outputs": [
        {
          "output_type": "stream",
          "name": "stdout",
          "text": [
            "['He', '', 'o'] <class 'list'>\n",
            "['He', 'o']\n",
            "Hello <class 'str'>\n"
          ]
        }
      ]
    },
    {
      "cell_type": "code",
      "source": [
        "lst = [a, x, b, c, d]\n",
        "print(lst)\n",
        "\n",
        "lst.append(first)\n",
        "print(lst)\n",
        "lst.append(a)\n",
        "print(lst)"
      ],
      "metadata": {
        "colab": {
          "base_uri": "https://localhost:8080/"
        },
        "id": "Nf33GAYBSr5x",
        "outputId": "d1780a15-b3e0-4804-d681-a74d386bc2f3"
      },
      "execution_count": 40,
      "outputs": [
        {
          "output_type": "stream",
          "name": "stdout",
          "text": [
            "[5, 4.496573049932038, 6, 3.5, 1.2]\n",
            "[5, 4.496573049932038, 6, 3.5, 1.2, 'Hello']\n",
            "[5, 4.496573049932038, 6, 3.5, 1.2, 'Hello', 5]\n"
          ]
        }
      ]
    },
    {
      "cell_type": "code",
      "source": [
        "lst_x2 = [lst, lst]\n",
        "lst_x2"
      ],
      "metadata": {
        "colab": {
          "base_uri": "https://localhost:8080/"
        },
        "id": "4gCmdXn5hzwD",
        "outputId": "75b63f5b-38b4-4f9d-ab84-e8e45483ce04"
      },
      "execution_count": 135,
      "outputs": [
        {
          "output_type": "execute_result",
          "data": {
            "text/plain": [
              "[[5, 4.496573049932038, 6, 3.5, 1.2, 'Hello', 5],\n",
              " [5, 4.496573049932038, 6, 3.5, 1.2, 'Hello', 5]]"
            ]
          },
          "metadata": {},
          "execution_count": 135
        }
      ]
    },
    {
      "cell_type": "code",
      "source": [
        "print(lst[0])\n",
        "print(lst[0:4])\n",
        "print(lst[2:4])\n",
        "print(lst[::2])\n",
        "print(lst[::-1])"
      ],
      "metadata": {
        "colab": {
          "base_uri": "https://localhost:8080/"
        },
        "id": "wH_Gqzt6TX99",
        "outputId": "98955d91-f887-42b0-c6fb-e57198aa53da"
      },
      "execution_count": 47,
      "outputs": [
        {
          "output_type": "stream",
          "name": "stdout",
          "text": [
            "5\n",
            "[5, 4.496573049932038, 6, 3.5]\n",
            "[6, 3.5]\n",
            "[5, 6, 1.2, 5]\n",
            "[5, 'Hello', 1.2, 3.5, 6, 4.496573049932038, 5]\n"
          ]
        }
      ]
    },
    {
      "cell_type": "code",
      "source": [
        "lst_2 = lst[::-1]"
      ],
      "metadata": {
        "id": "queKLUBqW8jN"
      },
      "execution_count": 52,
      "outputs": []
    },
    {
      "cell_type": "code",
      "source": [
        "len(lst)"
      ],
      "metadata": {
        "colab": {
          "base_uri": "https://localhost:8080/"
        },
        "id": "Mhy_w3CNXCwV",
        "outputId": "e4635f2f-a248-4a97-a21b-e8851ff35aff"
      },
      "execution_count": 53,
      "outputs": [
        {
          "output_type": "execute_result",
          "data": {
            "text/plain": [
              "7"
            ]
          },
          "metadata": {},
          "execution_count": 53
        }
      ]
    },
    {
      "cell_type": "code",
      "source": [
        "print(len(lst))\n",
        "print(len(lst_1))\n",
        "print(len(lst_2))"
      ],
      "metadata": {
        "colab": {
          "base_uri": "https://localhost:8080/"
        },
        "id": "Obh4BcrYXGsS",
        "outputId": "a1ebcbeb-92d3-49bb-d46c-7cb816e7bf12"
      },
      "execution_count": 54,
      "outputs": [
        {
          "output_type": "stream",
          "name": "stdout",
          "text": [
            "7\n",
            "0\n",
            "7\n"
          ]
        }
      ]
    },
    {
      "cell_type": "markdown",
      "source": [
        "Условия"
      ],
      "metadata": {
        "id": "LJ3V2mtgXTNk"
      }
    },
    {
      "cell_type": "code",
      "source": [
        "if len(lst_1) > 0:\n",
        "  print('Лист не пустой')\n",
        "else:\n",
        "  print('Лист пустой')"
      ],
      "metadata": {
        "colab": {
          "base_uri": "https://localhost:8080/"
        },
        "id": "SvGxYa3rXSzO",
        "outputId": "0d8bb182-c02b-4e5a-bc0a-ef7a35c8e795"
      },
      "execution_count": 61,
      "outputs": [
        {
          "output_type": "stream",
          "name": "stdout",
          "text": [
            "Лист пустой\n"
          ]
        }
      ]
    },
    {
      "cell_type": "code",
      "source": [
        "if a == 0:\n",
        "  print(' a = 0')\n",
        "elif a > 0 and a < 10:\n",
        "  print('a > 0 and a < 10')\n",
        "elif a > 10:\n",
        "  print(a)"
      ],
      "metadata": {
        "colab": {
          "base_uri": "https://localhost:8080/"
        },
        "id": "dGgE9r5HYLvE",
        "outputId": "291cdb8d-586f-43d3-a5a0-ff13cbf471bd"
      },
      "execution_count": 64,
      "outputs": [
        {
          "output_type": "stream",
          "name": "stdout",
          "text": [
            "a > 0 and a < 10\n"
          ]
        }
      ]
    },
    {
      "cell_type": "markdown",
      "source": [
        "Циклы"
      ],
      "metadata": {
        "id": "Ty6TKeNuY0fj"
      }
    },
    {
      "cell_type": "markdown",
      "source": [
        "https://pythontutor.com/render.html#mode=display"
      ],
      "metadata": {
        "id": "zyhFSEmoiCRu"
      }
    },
    {
      "cell_type": "code",
      "source": [
        "for i in range(5):\n",
        "  print(i)"
      ],
      "metadata": {
        "colab": {
          "base_uri": "https://localhost:8080/"
        },
        "id": "EzbtvyGPY0CN",
        "outputId": "ecee7978-2660-4edc-ad7a-c3a2d61e65d1"
      },
      "execution_count": 66,
      "outputs": [
        {
          "output_type": "stream",
          "name": "stdout",
          "text": [
            "0\n",
            "1\n",
            "2\n",
            "3\n",
            "4\n"
          ]
        }
      ]
    },
    {
      "cell_type": "code",
      "source": [
        "for i in range(3):\n",
        "  print('Hello, world!')"
      ],
      "metadata": {
        "colab": {
          "base_uri": "https://localhost:8080/"
        },
        "id": "eNDnx-6VY61M",
        "outputId": "604394e1-0d25-4405-d9b5-da02feaf70bd"
      },
      "execution_count": 68,
      "outputs": [
        {
          "output_type": "stream",
          "name": "stdout",
          "text": [
            "Hello, world!\n",
            "Hello, world!\n",
            "Hello, world!\n"
          ]
        }
      ]
    },
    {
      "cell_type": "code",
      "source": [
        "for i in range(len(lst)):\n",
        "  print(lst[i])"
      ],
      "metadata": {
        "colab": {
          "base_uri": "https://localhost:8080/"
        },
        "id": "L8-pQ3nkZApj",
        "outputId": "6f05750b-a4cb-49c7-fa30-68041d339433"
      },
      "execution_count": 70,
      "outputs": [
        {
          "output_type": "stream",
          "name": "stdout",
          "text": [
            "5\n",
            "4.496573049932038\n",
            "6\n",
            "3.5\n",
            "1.2\n",
            "Hello\n",
            "5\n"
          ]
        }
      ]
    },
    {
      "cell_type": "code",
      "source": [
        "for i in lst:\n",
        "  print(i)"
      ],
      "metadata": {
        "colab": {
          "base_uri": "https://localhost:8080/"
        },
        "id": "hvL6iGezZIks",
        "outputId": "0a1f7494-6664-47ed-e0b4-4b677724ad38"
      },
      "execution_count": 71,
      "outputs": [
        {
          "output_type": "stream",
          "name": "stdout",
          "text": [
            "5\n",
            "4.496573049932038\n",
            "6\n",
            "3.5\n",
            "1.2\n",
            "Hello\n",
            "5\n"
          ]
        }
      ]
    },
    {
      "cell_type": "code",
      "source": [
        "for i in 'Hello, World!':\n",
        "  print(i)"
      ],
      "metadata": {
        "colab": {
          "base_uri": "https://localhost:8080/"
        },
        "id": "-uQqyLpHZQE_",
        "outputId": "4a6385b3-f080-4ce8-90cb-8273214ac6be"
      },
      "execution_count": 72,
      "outputs": [
        {
          "output_type": "stream",
          "name": "stdout",
          "text": [
            "H\n",
            "e\n",
            "l\n",
            "l\n",
            "o\n",
            ",\n",
            " \n",
            "W\n",
            "o\n",
            "r\n",
            "l\n",
            "d\n",
            "!\n"
          ]
        }
      ]
    },
    {
      "cell_type": "code",
      "source": [
        "for i in 'Hello, World!':\n",
        "  print(i, end=' lol ')\n",
        "\n",
        "print('\\n')\n",
        "\n",
        "for i in 'Hello, World!':\n",
        "  print(i, end='')"
      ],
      "metadata": {
        "colab": {
          "base_uri": "https://localhost:8080/"
        },
        "id": "C0e_j5h1Zffb",
        "outputId": "f1239172-e8e3-4712-ed8f-ffb569c5eb9f"
      },
      "execution_count": 79,
      "outputs": [
        {
          "output_type": "stream",
          "name": "stdout",
          "text": [
            "H lol e lol l lol l lol o lol , lol   lol W lol o lol r lol l lol d lol ! lol \n",
            "\n",
            "Hello, World!"
          ]
        }
      ]
    },
    {
      "cell_type": "markdown",
      "source": [],
      "metadata": {
        "id": "JV5Wo57Jh_tD"
      }
    },
    {
      "cell_type": "code",
      "source": [
        "matrix = []\n",
        "for i in range(10):\n",
        "  cols = []\n",
        "  for j in range(10):\n",
        "    cols.append(j)\n",
        "  matrix.append(cols)\n",
        "\n",
        "matrix\n",
        "   "
      ],
      "metadata": {
        "colab": {
          "base_uri": "https://localhost:8080/"
        },
        "id": "0W8p_U42hp5U",
        "outputId": "6a812697-63be-47b9-a754-e87ce892dac4"
      },
      "execution_count": 133,
      "outputs": [
        {
          "output_type": "execute_result",
          "data": {
            "text/plain": [
              "[[0, 1, 2, 3, 4, 5, 6, 7, 8, 9],\n",
              " [0, 1, 2, 3, 4, 5, 6, 7, 8, 9],\n",
              " [0, 1, 2, 3, 4, 5, 6, 7, 8, 9],\n",
              " [0, 1, 2, 3, 4, 5, 6, 7, 8, 9],\n",
              " [0, 1, 2, 3, 4, 5, 6, 7, 8, 9],\n",
              " [0, 1, 2, 3, 4, 5, 6, 7, 8, 9],\n",
              " [0, 1, 2, 3, 4, 5, 6, 7, 8, 9],\n",
              " [0, 1, 2, 3, 4, 5, 6, 7, 8, 9],\n",
              " [0, 1, 2, 3, 4, 5, 6, 7, 8, 9],\n",
              " [0, 1, 2, 3, 4, 5, 6, 7, 8, 9]]"
            ]
          },
          "metadata": {},
          "execution_count": 133
        }
      ]
    },
    {
      "cell_type": "markdown",
      "source": [
        "## ![image.png](data:image/png;base64,iVBORw0KGgoAAAANSUhEUgAAAykAAACWCAYAAADaHsdXAAAgAElEQVR4XuydeUDN2fvHXy2WsTODIWuyM5YsWUt2JpE9yr6OsY4wxjJ8G4PszNiXEFEqxr5EyL7vGWVLlhFNitK9/c7t3ureRN2LpvnNuf/RZ32d53nO8z7L8zGKFz/kTxKQBCQBSUASkAQkAUlAEpAEJIFMQsBIipRM0hLyMSQBSUASkAQkAUlAEpAEJAFJIIGAFCnSECQBSUASkAQkAUlAEpAEJAFJIFMRkCIlUzWHfBhJQBKQBCQBSUASkAQkAUlAEpAiRdqAJCAJSAKSgCQgCUgCkoAkIAlkKgJSpGSq5pAPIwlIApKAJCAJSAKSgCQgCUgCUqRIG5AEJAFJQBKQBCQBSUASkAQkgUxFQIqUTNUc8mEkAUlAEpAEJAFJQBKQBCQBSUCKFGkDkoAkIAlIApKAJCAJSAKSgCSQqQhIkZKpmkM+jCQgCUgCkoAkIAlIApKAJCAJSJEibUASkAQkAUlAEpAEJAFJQBKQBDIVASlSMlVzyIeRBCQBSUASkAQkAUlAEpAEJIHML1Jiwnnw6CVv4z+ysYyMyVmoFIVzfuR15OmSgCQgCUgCkoAkIAlIApKAJPBZCWR6kaJ8fg6frQc5dciDFd6XeKkEo6xFqFK3LPmN3sfmNQ8vniP4b9XB2TFv1ode39ahcTsnbEqZfFag8uKSgCQgCfxrCMReY+0Pv3Kxpgu/9K5KDq0Hj7uzlZ9+PkCxYXMYVifXv+aV5INKApKAJCAJ/P8gkOlFShLmuKtMs6rJlHNvMS7cB9+7q7HL/p5GiLvGdKsaTFYdW0Qce1scK2dQ/n9YrHwLSUAS+GQElPfnY1t2FAHGlkwODGRqjazqaysfsLLdNwzaGcU3k09z5ufqmH6yu8oLSQKSgCQgCUgCaRP494gUovHsWoTuW/7GSA+RksVqBleOjae8nEBJ2xrkEZKAJPDfIhB3nTnN6uNyJJL8rRZwzHcYFbIpefrHIBp0WMW9Ih1Y5r+FPmVkAP1vGYZ8W0lAEpAE/nkC/yKR8ga/XiVwcH8GeoiUrNbzuH1oJCWM/3nY8gkkAUlAEshsBJTPjrN4wiSW+J0k1KQ45c2MefbEmEodhjJh/CCszeQcSmZrM/k8koAkIAn8FwhIkfJfaGX5jpKAJCAJpEkgjqjw57wyzkfBfNmQ4zppApMHSAKSgCQgCXxGAv9JkaJ4eQv/bZ743SzNsBlOlI8J4YD7anxO3ycmbzmsu/aju9XXSWuwYx9d4mTQC8Q2fK2fMXnN61CjhJL7584SHKn7V6OcJbGsXZqP2m4adYcDmzax7/wdHr/JTqEytWndtTNNLXInP0fsIy6dDOKF7u0/bDJGOSlpWZvSqodTvOSW/zY8/W5SetgMnMrHEHLAndU+p7kfk5dy1l3p192Kr983mBodwpGtnuw8cYuwaBO+tLCinZMjtqW1t+CK+0QGc/r8faLTrNJmTO7SlliW1N1EFB1yhK2eOzlxK4xoky+xsGqHk6MtybdREn7rJFfCYknzFkZfULx6bcrk1U3DPnyPWB5dOklQStDGeTGvU4NiEVc5duOvFDZiRM6SltQ2+zvVNjLOa06dGiVQ3j/H2eBI3XM1bWT2dwbZ3nvsSP2MxYi4eowbf6UwMm070rK4qDsH2LRpH+fvPOZN9kKUqd2arp2bom22CYfra3spn1EUxSharQ7l8qWeTiufXifwxlPiNAZhnKs0lrVKkmhZ0XeP4OW5ixM3Q4mIzULeYhWob+dIl4bFyZbCg5Thtzh5JYzYtI2LL4pXp8YXd1OJGaKOR7YifFO3PPlTPnIG88+wmPae9zIyLUTF+pUolMBBwcuQK9x+VYhKVYsmtU9SE6QjDn7wfYpFcPXYDd41X1WMNuNvQ/06IYAm/z5b/CjxiivHb/I8zRiv6pNqiT5JxF59fUv7PdLlF/9APKwq2urqu31deuJoiqZKV0qlb56QdNHouxzx8mTXiZuERsSSJW8xKtS3w7FLQ4qnDCxJJ8Xx5Jwfm30Pc+XeCxS5SlC9eXec7KtSQOMjj68c52baRoCKR60aRYm4HMit8BR5iahyamyajTxflaCMRRFyfWgVZzr8Tv34wn9v+bPN04+bpYcxw6k8MSEHcF/tw+n7MeQtZ03Xft2xSi2JMIhVWs2nQD9WX/PyAzGghPI+584Go5viafr2TOibhsfCErzSy8ZKJBda+SztqG7n/5RIibvhheuCVXh47OO2sDiTcqM5tMcG787OLDr3MilJNMpShOauvniNrYNKDqga/cihzcwYPQv/Z+K8wra4zHaho401lsWV3Duxg9VTR+G6LwyFcX7qfe/GT91taVy3lIEiJY6QbWNxGu6Nkf0YhttVwPT+YVbPWsCu0II0n7AG959s1R28KgkIOIrfvDFM2xWKMps51vZ1+Fo7CYp/yZW9+7j2EvLX+x63n7pjWz8PZxcsYJWHB/tuiwTZpByjD+3BxrszzovOJVRRU1tIFoo0d8XXayx1tLSR6k8RZxbQf6A78XZD6WFVkPDA5cyYs4tg04r0Xrad5Y5lkjfbRgYJYbget8kz2RtbDTsbC9R1D5Q8O7+LQ0GvMMpXj+/nTqJnU2tqqTrahF8EZxb0Z6B7PHZDe2BVMJzA5TOYsysY04q9WbZ9OY5lVApKyfOre9i2zo3J8y/wZdOWVE0s/xb/Nzf27+FSOOStPZjZU5xo2tgK86T3Sc89lDy66M9hn3m4uO4lVGFC4SZjme3SCRsbS8yESPEP2MmScZPwDXmb8C7D5vyEo21j6hYVIuXIITbPGM0s/2eCdWFsXWbj0tEGa8viKO+dYMfqqYxy3UeYwji5jRrXpagQKRlie8KOLvofxmeeC657Q1GIZ2wyVjxjJxtsLM2ESPEnYOcSxk3yJeStEfnqDWPOT0KMimcslZirxYWwbawTw72NsB8zHLsKptw/vJpZC3YRWrA5E9a485NtIYzjbuDlaoDtpbB1hbDN6j+d4sy0Gqls6o7mwNAqtPo9RPjkVzQe7caErjY0ShApcfy5YQD2Qz2JazGJaYOsyPM0kDXTf8HrdlasJu9i35R6Or6rfH6VPdvWCfudz4Uvm9Kyan7UxQXj+fvGfvaojYvBs6fg1LQxNbMHE3DUj3ljpgmfVWBSRLz/rJHYWpSjeh2LVEVKhvHPyJiWss1UduXihktrMRDRoCIF395gdf+OjNp0k7+VX1B13D7OzGigEYnpj4Oxjy7if9iHeS6u7FXxLtyEsSJGd7KxwdJMiBT/AHYuGcck3xDeGuWjnqhY9pMY5Ghct6gQKQEc9ZvHmGnCTlV+besi/LojNtbCr/8Wfn1E+PV44dfBwq/zixjl9hPdVX6dZPifN37Uil5AvepTCbZoRINKBclh+oKLuw9yM9KEEg06UN9Myeu/bnPq2DVyDVzFtC8DcTcoruvjFyqRYiA3Q+OhVXEizhkWR5OaKq38Vvzd0DxBdem4PzcwwH4onnEtmDRtEFZ5nhK4Zjq/eN0mq9Vkdu2bQr2UI5cxQXiM7MGk0+XpN8oRq8KRBC6ZwLTtoRT5dhbbPEZg+cV1XOtVZ2qwBY0aVKJgDlNeXNzNwZuRmJRoQIf6Zihf/8XtU8e4lmswB6+5UfbmYQJ85wq73k2oMhvm1u2wLPCa5/eucf7yXaJyVaDNiHn89lNLiuqIlfT6XRw3vFxZsMoDj323RRJvQrnRh9hj401n50WcS04iyCLin6uvF2O1kgiDWKWj/VDoy2oWFjeOcGjzDEbP8ueZeA/tGFBceY8TO1YzdZQr+8IUGGvFgMzomwbHwlrRLNDLxubTWNRZ+WztmJiCxotfetr9nz/mU+xJUWXecVwSCUjtaeeJN7fHsfIrsrX5kVF25Ym/6snPwyeyNegNZCnH0F2nWdwsr+bV3+DjVIxOG8LJ1dmDsC3ddMp1xuwdhEXb5Tw0bcXy0N0M+NJQYmJGYP8oUS55GVlG+XPsl3pJI4uKu+vp1rAPXmG5qT91D/sm1U3625sdfSnVfg3P8jvh/dCd9tqVz2JPMa56Q2bdMKHV8lB2ax4ugcYlETRrT+N8vDn2jpV5la0NP46yo3z8VTx/Hs7ErUG8IQvlhu7i9OJmJNJQBC2lXZN5FF12lGXfisQz4XXjCFrUhroj9xORw4r/HTvKj9V0p2DCPTpTeWVDTh8YQfGEk2I4OLQcLX9/QFa71YRt7510D9UITdDSdjSZV5RlR5fxrXrYVdwmiEVt6jJyfwQ5rP7HsaM/knSbmAMMqTSS3BvPM8tKU6ko7hJT6tRm2gUjmiwM5sD3ZlpLWfS8x5vt9C7ZgXXPctJxYxhe3bVnfGI5MqISzRbewaTFUh4ImyioZQZvfJwo1mkD4bk64xG2hW7ak00xexlk0ZblD0112kh9ekbZnriT4F+ywzqe5ezIxjAvdF/vCCMqNWPhHRNaLH3A3kFab6cMZ/+oxrRbloVR/sf4pV4iFwV313ejYR8vwnLXZ+qefUyqmzNhQMBQ20uwdQd3/lIooORgdl/9neYpq/c930TXSs54P4tDmb0da5740UsjSpX3l9L2m6HsVdiz9oEPzvnUlKMPDKFyq6XcyyXaN3gbTgVS+nAMB4ZUYmTujZyfZYXaulTxpI6IJxcwarKQ4APfI7Z0JMWMHX1L0X7NUxEzNomY0VUnZqQWITKKf4bblSY+Pc3ZCY/HWzW2ryDktzbU/OEsWbNG8ixCQUHnbQSvsxdxzZA4+IbtvUvSYd0zcnbcSJhXd51ZmdgjI6jUbCF3TFqw9IHwNx3n3EHfUu1Z8zQXnT3C2KLrnBz+viLNFodg2mo5obsHkBzeP3/8eLO9L1XnV8ZvzxgqqYwuNkD4YVMWBmfDYcNTvB1VgUTJE7/+2K5qwJHt/chjQFw3yC/eGMpNxBoD46Gh56W/RzYwTxAj7kvbfsPQvQrs1z7AJzmwMKRyK5beyyVsM5ht2oFFcQ8PJ2v6BVqz8dQaHAqrg4fyyXLamg9mz+ssVBkfwLnJTxhcdT6V/fYwRm0EBIi+pqnoz7I5bOCpt2NCbFGKONffdhUNjm6nnyp+vRFxr7gD7uH5cfJ+iHtCYqDkxakZOLSezOGIPDRfeJbd35VBrVP09Dt1IGdKPdG/no/H3N6Ryq+y0ebHUdiVj+eq588Mn7gVdUo1lF2nF5OQUhnCKr0NKProvgax8sGpWCc2hKceA/YOsqDt8oc6MSDz+qYBsdAQbvkMsPn0tqPmuP/UTEoim1fr2vFV7x3E5qzOSJ99uDUvmJS0xl6eQZMGEwl8BbmaLeLq3u8oqUmm9w8uS+tloeRz8uahe3vNTIC4qgg0Gx0b0nvrQ+Ky2ouA4ItTitVO6W6XN4G4WNrg9rAlK4P86KsJWurzRae+uCXVhh/k1RdCBJwUIqCqWgTEiASrrEiwQvN9WKTYu4fjq/1wr9bR7qve7IjNSfWRPuxza07BxCQr9jIzmjRgohoGi67u5TsVDOVztvSoTK/7o7kS4IKF9ihM+FralejLjihjig/cyf1lLXVePe7CZOpPLMKOP4agfrVkkZKr62Yebe6SlMgpn2+hR+Ve3B99hQAXC00QVV8ufG07SvTdQZRxcQbuDGJZS40qi7vM1Po9iRaB912RYvyOAND7HjH7GVy2NctC89HT6yHrO+ioQU6Nq07DWTcwsV/Hc19nnSQpZv9gyrZelkobKbi30ZGGvbfyMC4r77SRYJQhtqdqjaRn7InXw/Xovl6y2LVf9xxf52Rl8CbQBUsbNx62XEmQX19N22qaXhHC4pbVGH7wFV8IUXlSiMoEszXE9jS2XnliCCWD93NIdL4d3a8Le0wUyho/WdSWLtvf8sT/EA9zdGbT4y101fhk7NFRVLadT3B+Z7bdX4d9YhM+X05rs0HsUYry5WdO83MKga0SJJen1qdn9ELOpiJSjN9JYFWipiytlqYSM94TEDKUf0baVWrxKfYskxoORbnwMNOrPuVkQIiYRbSmomr5nkFxUMtPenrxcH2H5BgteMeeGkf1hrO4YWLPuue+aJmvKoAypKxIJIVfJydziY0Uq+XX7oT7Ohkeo/SOH0ruzu/C9JJrWdVBMwSfqkhRJ4vTem2hxRpXrGL1j+sG+YWB3BIiv4Hx0NDz0t0Haw7UO0+IO8qoyrbMD86P87b7rEsOLCxvbcagPUpqTD7D6Z+raWZ+RRU9zx5U6+GDueslAsaVT+7jYk8zoWYDfr2mIFvL37n722uGuZZk7aoOmhne1EVKwqDJtF5sabEGV9UgXYwYMC1jx8qwlHYdyQaHojj7RIlBWjG4urO/Wngb5HevWNfuK3rviCVn9ZH47HOjeXISweUZTWgwMZBX4smbLbrK3u9KYhyrL6v0t57y7ny6TDeEVXLfnjIGKO5txLFhb7Y+jCOrfWIMyMy+qX8sNIhbzVN62nz62zHxyP+kSIle354Czn4oxHKvw1fm0EAz4K6GEiFGQCrQaf1j4nO2ZWXIH/RNGHF7X8IRw2U3e/r/EUnYsUAxk/JxIiXCuyflumzkRY2fOX9yMlVS7gV5to72ZfvgF2GCxYiDXJvfOGFE12CREr2e9gWc8VOI5V6HrzBHFwYRPs5U6LSex/E5absyhD9UMJ6LZzDvy+FK/RnvoCseUNzBd+YKAsVUb5Za04g9M0nHKmNPjaeBWxX8t/bUBNtkkZK7qyehmzsnJQDP17XHvO9hKvUfj4OOEhJy7Y4vM1cEimVpWaglRrHPTKqsvo/iJr807srLOWfSJVL0vsfHdMrvEZIxl92w7/8HkWHHCBQzKamJlNST3U9rewlWbpDYjcC7Zzm6bHxBjZ/Pc3JylXeWXz0TbVm2jx8RJhaMOHiN+ap5YkNsT/OMVWZa8L/yv9NzSTBZbeZw+cAokqrkxl1kirWLWPpSlt/7/cbdFCKFOGGjv/7GefPejHdM/IBhFHcPTKFzm7mcja+Ay7GLzKyrExhUxsXNXxrT9eUcznwukZKR/DMopqVuV0pC14n9ddvtxZ42Z11Rq4rCBsXBD4tCbZHyzkCSgX6dEfHjzZNQIvObUTDRHN8nUsQo+MvQMEzMzMhtiG8Z4hcGcvtQrEkrHr4vRqV1nr7pkf55Qhx3fH/lt/Pm9B7vSFXNoEjU3QNM6dyGuWfjqeByjIsz66pnYcVswpIWFfn+SEnGvhNvxMzY0aXM8wqlrOMP9KkWS1hkfsySjSDVmZSEy74MJczEDDPVzPH7RIryLvNsKzDmyFsK9NjC3Q0dE/pjw/wumvXtC+DspxDLvcSemjkNNLPMGuIRYra6QifWP44nZ9uVhPzRV6ww0JOVPo335gmhBrF6z0BFzGXc7PvzR2QYxwLFTEqSSBGaLtP6pgGx0CBun7EdNW0uRco7IkU46gYHijv7EGlSkbFHL2qS3dQb/cWhH7Bzzcusya/o30w9Smf4TEoMu/qb027VI7Fc6HexXGgwhVI6p+JPZjaqxPgTb8lS15XLx3+kgpjJMCy5FBdPozMTMHAo7oyPWP9ccexRLorkLN5/GBWb/05EvUGMbVdaZ4ZD+3GNC9RmTD8bnTd4s3MADbc7cHxZa8268/eJlBj8h1Wk+e8R1Bs0lnal37fDz5gCtbvTz6ZokkiZITb7v3BLj0gx4B6fulN+cYgf7FzJO2syr/o3S1iSl16R8mltT43PIDuK2UV/83aseiSWgYlle3sHv2O1KP6cSaNK4znxNgt1XS9z/McKmBhge4mCvMrMyhyc84KOtadwLr4K44+f5Zfa6iwu+sB3NF5Rn+2DTtKwxeJ3RYq2RcY8IGDdQuav3MPjYoUJ/+MQt+LLC7+/lCxyk44XImWG2AT6wi1ziRRD+b9HpHxWu8ptx5ztoyh6cg2/LntCL58djKiaUgwaGgcN6JgT29Ygv87Y+JFkhu8VKVqGbaBvJV0hvX5hELcPxJp0xMNUY1Q6ztMnz02IIx8czHxfnpBkUDwIWMfC+SvZ87gYhcP/4NCteMqLPvRS4gBHtBeOxbqyKaohc8TG89Gl9Kmn976ZlBRvmZpIiXvC8Xl96DJhD38VacucnV4M+0a1o99Qv0tDpIiB3w0OxcWsjdg/U3EsRy/OInEltsYS0malb+PpHJ9eVqmJlBcc+sEO17yzmPyqP80SVknozqbq3iq1pZgpHj5DfPMjYmFyoHmvEE69OWI+SztKkZKKSIk96UK1RrO5GV+KoftussRW7cApR7Oz3t+Ec2cvmnh44vTXxKSlBAaLFGUoi5qZM9w/lqxNRXK17zuKvBO3otnazYyuni8xsRghNsipNy8ZlFyqI/EHZ1KIPYlLtUbMvhlPqaH7uLnEFsWmThQWU9TZe3rzQHvZW5qBRGw+X9yGrhFzOTyxkkbcvE+kRLOpU2F6+GSnp/cDzVraNG+QMJOSfpFiwD0SO+WHxnxdxYpyiZvzEx4tnqi75zl/P0prSjj5md9po6z32eTcGa8mHng6/cVEzb6h9IiUT257msdMfMaHxl9Txaocuq8nZhvOn+d+lO6SNGXoIpqZD8c/NitNF99l33dF3i1fGy32IZh1xfOl1gygAbaX4IlitkElUo7s7sAf7SozePcrivXbzvWVbcilfMYmx9Yc7XOEeVnHCzH9PpHyiuubf2bU5C28aCSKXkwcQPOvfejwpTO+cZ9apDzEuOg3NChfACPjLOTIW4ji5avT+NtuOIgNr9oFfzKUf0bEtJR2JUZ4a9bNw11R+SiigDWTvX3Eki/NpqBEVzE4DibGaMH76ypYlUssbqC+cHzUXc6LCoNRqS3JNSjZztj4kZw7fIJEKJW4rrZDPf3CIG6a1DTlrGE646HhcTQd/YfWIWmJlNTzBEHw+mZ+HjWZLS8aiWIoExnQ/Gt8OnyJs2+cjkhJipvxdXC9FMiPFfX5YGp6E2/Ncq9Hor+qXAeLnFE8vnOT4OdvyVvNiV9Xz2dgDc1OU4P9Li2REstJl2o0mn2T+FJD2XdzCQkplcra0slKv5ZLeXR6WaUUKVm5v8mZzl5N8PB04q+JiUu5P7NI+SS++RGx0ACR8jnbUYqUVERK3NVpWNVUjdBWFiO055lRJ2H8VlekrCjDb+0Hcvs7P5aIjeNxWuudDRcpD1jQ1IKRh0XZwhqTOXv6Z755p/SverTDTjXbUm0Sp89Oo7o45rOJlLirTLOqyZRz8VQef5zzM+oQJ0RKoR7exNYWMzmB6pmc9P3esLN/XbzsTrDGPnHTzodESiF6eMdSW4y8B6pG3tNzE8UNsdzLkb/nneLXhHYTv6SN8yn3pKiSDD3vkdQp58FhWSCzbbVHgeO44mZHp9+DUh1t0W2jFZT5rT0Db3+H35JvKRSntd8j5b6hjLC9FMlkaB4HlgXORvf1ruBm14nfg3Rne5QPFoiy2CM5LMr41ph8Vqy5/ubdalsJo/12CbMt1Sad5uy06pimJVJSsT3tmZQje4eRc0dvKnVcx+M87Vl9w1vsF1lM2x5/4RowjSpHv09dpCgfs2vst/RYHE6rFXtY61xOLRSiN6QpUm6I5V6Of8/j1K913tk4/6E9KXkclnF8VkNinwRzcf8G5s735HJEDir1XcnOZV0ppTHuJBvJCP7/hF2p9szdX0KecbVoteQ2mA/A9/Qy2mgXKVAaGgeTY7SKd+BsW51lJ3FX3LDr9DtBqc12G5RsZ2z8+KQiJTXfMsQvDOKWmkhJfzw0PI6mpwNJPiYtkfJunmDK411j+bbHYsJbrWDPWmfKqQMLG1ITKWFLaFFqGAfjCok9LCFiD4s+G1nTm3gn7knJQ4ffjzHLWsHzB9c47ruc+SsO85CiNJmwni2Tm4g9KYb6XVoiJY6r06yoOeUc8ZXHc/z8DOpkVerFSr+W+zQiZUWZ32g/8Dbf+S0RRXvi3rsvTedun2KW85P45kfEQr1EyudvRylSUptJEfsmajScyY3s9qy570uv/KpW0xIpPdey4evlzMrtxo7J6gpbH1zvnG4PS6zI8JT4fB3ZECKmg1MMMqoqPfn1KoGD+3PyddvM3U2dE8okfzaRIiqDja/RkJk3smO/5j6+AkaMWO5VofkS7pnWxfX8cSZUSk0+RHDc7zQN7Jsnv73qWvWnUWrHDgYnTRF9aLlXBZovuYepWNZ2/vgEUr/NcfxOi8pkzYtoBMkVpjbog3LpSabV0Ci894oU1XINPe/xSTrlnqzd8DXLZ+XGbcdkRLErlQElVWD74EzKZ7O91BKH91eJ03nGxIpnT+PJ13EDIV6OvGu2ospMCVFl5nk+um2+y6bOwmrTEimp2F6CJybOpAiRUvTtCVxqWON205QGs84yL3IAEwusZ9cIc+L8UxMpYq33pu5U77mV19+u4pZPn+T9EGmKFCFCpzagj3IpJ5PKHidX90r/xnkR2D26Us3Ji6d8jbN3EOvaq0uPGeTHhvLPkJiWul21C3enU/U++PwllpGOOsCZOY21ikwYGgc/YomDQX6dsfHjk4qUd3wrr2F+YRC3lDahXzxM9hH9zkt3N6w5MC2RotpfqZ0nOMVuonv1nmx9/S2rbvnQJ6noTeoiRZQ3U1eTem5EiQF/cH15q3e/EST2wd3fuZ2HNqLUtE4FQ31FSsqN86IS54KW1Bl1iAjj0ny37zqLbdFUx9M3/0hLpIjCE+Nr0HDmDbLbr+G+by/yPtGTlb6Np6sc0rdsScuWe67dwNfLZ5HbbQeT1R10xomUT+KbHxEL9RApygxox3+VSPF1Lk7H9X9B4d743l2DnXZhJW2jTFKib8lqPY+gQyM1FbrUByUFnzLDOXB9AdYplkRHbHSghJMvimaLub5nKCU0VajUy70ekq2UBRVqjMVzywAsNHnwpxEpomrVpi6UEwnUc4qI5OVWUvKS9HrKpyxrU4Ih+3PTeeMtPLuphyANSm7UMDTLvcow/MB1FrwLA4cSTvgqmrH4+h6GqmCEb6BjmV5sE99dKWy/nBPe/djqj0cAACAASURBVEi5ZSTu+mw6/FqUHe49kh497twkGk74ik27R2gd//6N8+FiM1+ZXtt4SWHsl5/Au1/K/S9xXJ/dgV+LrsO9h2YoNvYYo2v8SGE/f8YlbrZ/r0hRvYqe9/gEnfLDbKWwqFCDsZ5bGJBsQOkQKZ/X9gy3o3A2dSlHz63PoYgo+3tLFFZI8U0d5VMxWl5iCPtzd2bjLU8SzNYQ20spUoxFCVi3JlQXG1LjLKxpkLMwA/Z54Ciqy8SkKlKi2NzFDMetUZQVJb6vzG2YPNquJVJ+CLjE7Hop90rEcmx0DX4s7If/uMSCEYaIFLG59dFimpf+nkNi9klV+OGkKPygkvqG+bGB/JNEyj9hV2J09VdrrH4MJPqLukwLDOCnasm8DYuDH9ExG+jXGRk/DBMp6Y3rrw3zCwO5accafeNh0pJIveOofpmuvnnCl1u6YOa4laiyo/C/MpeGSeasJVJ+CODS7HqajfOh/NaqHMP2R2OU15a5p/Yyorzu0gnlMz8G9z/PIO+fsdT508eKFLEy+s9ZNK40jkDVPsFfrnByQnkD849kkVJm+AGuL7DW3Tgv9qRsdCiBk69ClPG+zp6hJXgtqnjqxUq/pktxdHpZaZZ7PcxGKYsK1BjryZYBFppVAZ9DpHxO3/yIWKiHSInKgHb8F4mUKLE0p4hY/hMpPprWlc2PNtPlfbOjSeX74shSx5VLYkmS9nLPxOATm68TG+9upXvixz8SGidcJP4VcPTKTu9tl1jVLmEaRZU+sGdgGb5d8Qhji754H1uOnVZ54KT1qamVt9THwd4cx6WWLW7X4sjTcjEXdw5JWgqScJlX2+lTzgGPL8fgf2Ym9TVCLWbPQMp8u4KwfKmVjk3cVyKW6aQoHZuUKMbmo9PGu2zVhUG4ZzcqOHqRvfc2Lq1qh5rGS/7o/w3tVz1AYZRD/H0O7gsHUlv9aVyigrbwQ7epxE0/wYq2iXAj2TOkCSusdrC1l/aeBZUzlRPi7wHZteq9q2/zB/2/ac+qBwqMcog2mePOwoG1NV/gjSJoyw90mxrH9BNLaKyM5Yv8uTAVJZDbV/LDQYxkOSfeOu4sP9Wsj+sVsdxLlJDePVDrIzbpvscKEl4lZg8Dy3zLClHSMbUSxIlrb1MtQaxpo0fGFvT1PsZyu8LJezeS1qGm0kYZZXsJr2eYHb057kItWzeuxeWh5eKL7BxSSmd53qvtfSjn4MGXY/w5M7O+ujRsokjRy/bUz1hxdhWO7B+e8K0d5RMxKl9JjMqHG1Fq8G6u/t48YUQy5uBQyonynQ++EN/meJL4bY5Xomx0YXr5viZ7YzcuHxqtKaEdS4j3EFp1X0OQ+GaQWrCbolQaExf1gtgv8pPLNJy17Svh53BLVABMMi7O/lST+q5XMG4lykvvHqj1DY3EmBH2Ttny6MMjqNZ8IX8q84lvJ/zJtp5qm8xQ/v+EXeUV8SlUU9r61RFG1W7OgpsK8goWZ3Z/l1zO3KA4qMU7tRLEiXsNUy1BnOjXeemxNVRs9NUtLX5SlBZvpNo022YlYTv7aeKgPjHq4+NHUjcSc5jh4ntFi0Ky0WH9M7b1SKUj1Nu39PcLY1W4T4qHenLTsnV942Gij+h7nj7dsDo8qauApjdPeCVKXhfu5cvr7I1xu3yI0ZpBstgQb4a06s6aIPEdEU0Sb6pUouL3RMyofqOaURVxJnfNoazd6oaDuXrDRvSdHfyv/0hO2e9l38gUVTSF7x4eLr7JtSiEbB3W82xbj9S/wfRmJ/1EUZPVT7S/k6ImEX1gqPgulChvrMxNu9Uh+PUWMcggv0sUKbHk67SRu1u7a33rTNwoXAxKVXDEK3tvtl1ahSql0p+VPkUFUrZ0Olkl2rLYv2PR15tjy+20qg4m76tJrW/PfL75EbEw+WXStLGMaMd/j0hRCQ/Lhvx69a34KlA1Jp06m7ycJ4VNKp+sxr6cKBn3dzzGBbux6dYmuiRqDa3gE2Ocl0bT/dn9Yw3NNKv4+vn+EdjYreBtz00cWd5Ba+P6C9w7lKS3r/j4o/jWxf1dA3Q+1Be9ow/m7dfyxLQpS+7tY6jOJ9/1C4+RgVNp2XY6JyIL0XbhAbyGVtbU+4/mgmtLmrjF8P32g0xvlDxc/cK9AyV7+/Iqh/gQXZj4EJ32SHb0DvqYt2ftE1OaiuVT+4Z+nZwcJ3ZmMcbkbTQd/90/UkMzrax8tp8RNnaseNuTTUeW00FrF7/ykRf9rcV0+58xYru4ESa5i1G1hgV5X4dy/XIIubp5cGx1J4omxBaF6NhHYD/jS5Yc/Jna2juFxUbNrd1LiCVALzBpIKqjHRmbXEpWlNR85NUfa7HE6c8Y8c1RIxNyF6tKDYu8vA69zuWQXHTzCODnl0OoMTiAYo7j6ZfDm6kXO3D8+MTk5WEiUCdUnwozoZHbLfzHaM/IpOcex1jdqaia2Qt3OpQUM3mvcojlbw/F8jfthU3R7OhjTvu1TzC1XUTIfrEcSSu2JrVRNvGdlfu7GKD9MbkPtREZZ3vJdiSWOj4USx11Xi/ZjmxF57h/mIZJgnmLryRPbUlbIUwjC7Vl4QEvhlbWJHrRF3Bt2QS3mO/ZfnA6SWZroO2pntF8QTWOnJqq2bMVJT4sWZm2a/Lxo1ZcSHyXyKwtxcf79mg+3qfgmmt9aop9MbFGefimxwRGt/5SlMVcLeLFV8Qf3Mn5N9mp9d08ema5jFGLb9jv+B0BxRwZ3y8H3lMv0uH4cSYmrT1U7bNSVeQTpV8buXHLf4zWLGFiu0VRIClpFmvCz61ljPNw3G+8oYD1L+zZOY5amjwzQ/n/E3b1hR2rQ8UHUTV29WL3YOqI2dg/FQVoueAY28Xyy8QBaP3jYLKf5BDLSh6KZSW65psYo21Fgr+fYbrOqfHrbOLDsnfZNUhrAEHsKdjVv5xo41CMq0zg+Llf0BSSE3afcfEjqRd5JZYBlxRVocJFPH9voQrNDHm647p+fmHivIBhqs2QSfFQX26qUzV9lp7x0NDz9OuFk0VKevMExTVX6tcU+0RjjcjzTQ8mjG7Nl+ITBqv/+Juv4g+y8/wbstf6jnk9s3DZxJklw6qraumzurM1g3xDiVN1cdm/pmLNihSMFf3o1TsorGZwcM9Yquv0mao3eYWXY0m6bgrH9L1FdlQCYTV2xUUu9KaA1qCagheXPXBxGsKqy6/JZTmOP/x/obEmZ9Df7xJFSgzGeRsx3X83PyYnEewfYYPdirf03HSE5R3UA5QGsdK3AZMdJn2stGy59bL77NLtoJP79qZiqfu+oaSa4mUa34xMylf1joV6cMuIdsz0IkX5yJ9lS305dtgXn2P3eS0cWbgyOUpZ42DfmAbtBzPQRm34MZc9mb3xoBiR82bn1XAUqmONTPmq2rd0bFmb5s4udKxkmjRCEle4Dk2K/cWzYq1pV6cIyrtH8Nx6VYyGLMR9VifMNb1l1IVNzHPfzIblO7gVLVLyL8rSdshIxvwwGJuCN/CeuZqNm1bid+1vlEZZKWHbjz7dujG4b+PUDTlNZxMfeTo6l+8GTcfntilV7BxpV6MAERd3czCsMgPd3BhW/0t10hx1gU3z3Nm8YTk7bkUTb/QFFq3649ytB8N6WvLIZyarN25ipd81/lYakbWELf36dKPb4L40VnlZYqIYV5g6TYrx17NitG5XhyKijvoRz61cLdyLhe6z6JQIQ+vZY0O28WOf4SwKCCU2oV1UOiIf3/Saj8eSXlQSOWrclQ2Md12Ex7azvMxbHLN8WXTeXhnzksePnhMtGssoS1EaOPWhV99R9G+QONshRri3/Uif4YsICI0Vgkjd/ib5vqHXfA+W9CrPo/nNqCLqs6tswyhXVYZ5HmB+G/Fxv+hLbF3ix8kTnqzwu06keP8sZo3p3a8b3QcOpEnSp8HTukclIRKjuLBpHu6bN7B8xy2i4434okxL+jp3x+n7nlg+8mHm6o1sWunHtb+VGGUtQZM+venmOIQBlmHvtFHZtkMYOeYHBtsU5Ib3+9vIMswzY2wvFTsq07Ivzt2d+D5VO2pCn97dcBzST21Hqp9Yinh07ncMmu7DbdMq2Dm2o0aBCC7uPkhY5YG4uQ2j/pdaqk1f29N+xj9zUddpAD0cBzKkeQniL0zBZsKXrN85nNLig56e4ls9a9atZF/wG+ET2TFv0Z9eXbszpFd9vnx5AJdmDsy7EClSTGEzwu6ajF/N+olFWdWwNlPOxkCOcnQXtrOi8R7aVhHfU1IbF1WHeXJgfhsKGUdzaesS/E6ewHOFH9cjRZtnMaNx73506z4Qp3wBuu1mJKp6fVWYr7K+4WVUFgqXq4lNR1HCe5gdFiqBksH8MyymvfNeOSjbph+OTZrSbYQ9FYyf4de/Np3W3kORtbgYkOjP8LET6VBetfgt/XHw3fcpQ8u+znR3+p6elo/wSRmjm/ShdzdHhvSzJMxT16+NsuWjqNmXfKEx1fjYCMJC/0qIUSKLpGiNJnT+YQnzu5fWxLLPHD8af63xr0f4L1uG987NrN0VRJSIQdlKN6NP94aUrt6BEZ2rJleK09e3VLTD0+8Xq3sX53qKeJhubu1eGhYPnWsQ6rFBp69LbxxNilFp9r3JByTOpKQ3TxAAOeDSDId5F0RfkxBYKNpkPKvXT6ToqobUnnJWzH/koFx3ETdW96ZCovCIvsba4c6MXnuBFwlJizjVOA/lO05l9dIR1NOsUNAYAY/8l7HMeyeb1+4iKEr0m9lK06xPdxqWrk6HEZ2pqtmsf3HzXNZuXM8K8bFjVX9lnC0vX3+dn6xxkbx8nU3EoBpYt+vDiKEOVNJZTZJ+v1M/U6JIiaNwnSYU++sZxVq3o04R8bHDI55svSpmrhe6M6uTefIyMENZ6dF+CQMI6WKVSt9eti1DRo7hh8E2FBQFWVL27bb9+tCt22D6Z0LfXFTtAr/p5KvpjYWJ+Wp6uSUEDcNsXo92zPQiRY93SfehOhviLownT8A+Am8/R5mnBNVtmlOvpM4OtXRf95MfqIwg6OgBTtwIIypbYcyrWmFTq7jOV5Q/+p46m5cvMD5PAPsCb/NcmYcS1W1oXq9kKpv5tO8azYNTBzh0/i5/mxSkYkMx01OpQNJSn2ixv6eg0y6+bjue/43vjk2VkhTKm11rKZCCmMi/eHD9JH+sdGX66ouUnnqBs4kfZ0y8VfQDTh04xPm7f2NSsCINxch8pQKaDfti1CnQ249zkV9Rs2U7GpR832alNGh96B4fDfq/cwFlRBBHD5zgRpj4mnFhc6pa2VCreCpt8tG29xFMo4I57LeXKxF5qNCkLU0r5FMPdIT4s3nfA8yaONCsnOrzZrGEBnrjdy6Sr2q2pF2Dkp/W/z7iFd53arr5f4Z7f5ZLZkQc/NCDKxW8+fsxwVcD2bl2NjPXXqSIy3Gu/FJb96zMFD8M9a10+0U6Wjq93NJxqX/iEMPyhCiCD/ux90oEeSo0oW3TCuRTBxb8N+/jgVkTHJqV03zIWPutFLy8dYS9Add5qshP2QbNaVa10LtVEjMSRLr9Tnfj/IXxeQjYF8jt50rylKiOTfN6pJ5SGcoqIyF8hntlBt/8pK/1edtRipRUqnt90vbL7BdLq8LSRz6/SqSUWlqHgwfGa0Z4PnBB5XN2DKzH/0r6cCqlSPnI55CnZ0ICn9n2MuEby0f61xN4wYHvG+GSew3nU4qUzPRumc63/iXctNowrepemam5/9lnSau61z/7dJnu7pnONzMdIZ0HkiJFipQPf8zxI+032qM3/d/OwaOX1mb1D1wz9uRE+h9yxP3Hyh95Z3l6picgg3WmbyL5gO8SUFybwYAtzVj9c4qZlMwEKxP61r+CmxQpBlixFCl6QcuEvqnX82fwwf9JkfJqnT1f9d6OQlUq8Kp2qcAMpp8ZbvdqHfZf9Wa7oiyj/K8yN7lu4id5OsWdU5zLWZs66S0kEHWdk7eLYFVdq9LBJ3kSeZFMR+Az216me1/5QP8/CMQFcfpifurU0q58kcleLTP61r+Bm1YzyjwhvTb9SnyI8it6b1cklHW/ql3WPb2X+C8dlxl9MxPz/w+KFAV3ZltTUawpVhTswdbgDTiolp7/R3+KO7OxrujCcUVBUXozWJTe/A/D+I/awD/12tL2/iny8r7/3wlI3/rYFpZ5QroJigpls60r4nJcQcEeWwne4JDKnpt0X+3//YHSN/Vr4v+USHl5eiNL/Q5zyG8318KVoupPVsysOmBn2wbnwc11v0eiH8d/39EvT7NxqR+HD/mx+1o4SlH9I6uZFR3sbGnjPJjmpVL7ivy/7zXlE2dCAtL2MmGjyEf6f0FA+tZHN6PME9KL8CWnNy7F7/Ah/HZfI1wpKo1lNcOqgx22bZwZ3Fz3W1npver/2+OkbxrUtP8pkWIQIXmSJCAJSAKSgCQgCUgCkoAkIAlkKAEpUjIUt7yZJCAJSAKSgCQgCUgCkoAkIAmkRUCKlLQIyb9LApKAJCAJSAKSgCQgCUgCkkCGEpAiJUNxy5tJApKAJCAJSAKSgCQgCUgCkkBaBKRISYuQ/LskIAlIApKAJCAJSAKSgCQgCWQoASlSMhS3vJkkIAlIApKAJCAJSAKSgCQgCaRFQIqUtAjJv0sCkoAkIAlIApKAJCAJSAKSQIYSkCIlQ3HLm0kCkoAkIAlIApKAJCAJSAKSQFoEpEhJi5D8uyQgCUgCkoAkIAlIApKAJCAJZCgBKVIyFLe8mSQgCUgCkoAkIAlIApKAJCAJpEVAipS0CMm/SwKSgCQgCUgCkoAkIAlIApJAhhKQIiVDccubSQKSgCQgCUgCkoAkIAlIApJAWgSkSEmLkPy7JCAJSAKSgCQgCUgCkoAkIAlkKAEpUjIUt7yZJCAJSAKSgCQgCUgCkoAkIAmkRUCKlLQIyb9LApKAJCAJSAKSgCQgCUgCkkCGEpAiJUNxy5tJApKAJCAJSAKSgCQgCUgCkkBaBN4jUmJ5dOkkQS+UmvONyF60GnXK5cM4tSsqn3I98AZP4+LVfzXORWnLWpTMqXVwdAhHtnqy88QtwqJN+NLCinZOjtiWzpFwkOLxFY7ffE7iHd/74MZ5Ma9VgxLq05J+UXcOsGnTPs7fecyb7IUoU7s1XTs3xSJ3aleKJPj0ee5Ha573A5SMc5emsWXJFEdEcefAJjbtO8+dx2/IXqgMtVt3pXNTC5Jv9xkYptWaaf495TNpTlAxrVODYhFXOXbjrxRtYETOkpbULp1Lc3A0d4944bnrBDdDI4jNkpdiFepj59iFhsWzJT9BXBiXA28RrtOgRhgZG2OaLQ9flSiDRZFcmHzgmaNDjrDVcycnboURbfIlFlbtcHK0RWMyOmfGPTmH32ZfDl+5xwtFLkpUb053J3uqFkjVYsW5hrRhojuYUqhifSoVUl9b8TKEK7dfUahSVYpq23ya7WHAAXFPOOe3Gd/DV7j3QkGuEtVp3t0J+6oF1L6peMyV4zd5nrYjkde8FjWSHCmd7Rr7iEsng0gKDUkmZE6dGsWIuHqMG3+luLlRTkpa1ibRhCKDT3P+fjRpep9xbhFHLJPiSPTdI3h57uLEzVAiYrOQt1gF6ts50qVhcbQsT9Mmt/Df5onfzdIMm+FE+ZgQDrivxuf0fWLylsO6az+6W32NaWIT6MmtsultTga9SOErxoJpHWoUi+DqsRu8i6EklrVLk+hJ6lunww6V4dw8eYXHsWkQM85HmbrV0XbDdF3fADP88ClxhF0O5Jau82NkZIyxaTbyfFWCMhZFyPUh5yeakCNb8dx5glth0Zh8aYFVOyccbUujCv2xjy69h38tSr+9wqUHr3XtS7ApW7cqprePp2mfie+mT/yBOJ6c82Oz72Gu3HuBIlcJqjfvjpN9VdQhSMHjK8e5mbZjYpzXnFpVs/DnR8RPfXzl0zX/e/qXD94gZf+i8Yr09ufCN24J3whLyzfEZY2+KE71Ckbcungf3a7fmNwiFlomxsIU/hb/6m+y5s7DWx33MyZf2TqUfnOJiyltzUj0D5VE/1AwRd/zwRzoI/rmohFcPHWblyljvlE2inxTl/L5k59D+SKI05cf8SZFKDHKUYKadcy18pdPZxWJV0pXH61ve9YuQ953MKcjb4gM5vT5lHaQ2jsL2yhtSTnFtXf7LNE/mdeyTMpFleE3OXnlMWpTNMLkqwrUyR/Gqdsv3+kn8pWpS3XtQK18ybVdm9h64BzBzxXk/LostVt2onOzch/IKZM6X/EcpXl75RIPXus2rHG+stStasrt46n3R9bVsn2gPy+B8v45zgZH6j5/iv48iVoaOb6hFvUBkRLAUb95jJm2i1CFEVmq/8SpM9OokdSrJ98y+sBQqrT6nRCFMV81Ho3bhK7YNEoWKRFnFtB/oDvxdkPpYVWQ8MDlzJizi2DTivRetp3ljqUIcq1H9anBWDRqIJw7B6YvLrL74E0iTUrQoEN9zJSv+ev2KY5dy8Xgg9eY3zir+gHiQtg21onh3kbYjxmOXQVT7h9ezawF4rkLNmfCGnd+si2UQlxFEuS/jfVuk5m5N5ZqdjZYZFdfTvnsPLsOBfHKKB/1vp/LpJ5NaV2rRNLLxoVsY6zTcLyN7Bkz3I4Kpvc5vHoWC3aFUrD5BNa4/4RtQvKqCjqfjqGhDax7nnimi/4c9pmHi+te0a4mFG4yltkunbCxscRMiBT/gJ0sGTcJ35C3GOWrx7A5P4nEoDF1S4nUKu5PNgywZ6hnHC0mTWOQVR6eBq5h+i9e3M5qxeRd+5hST5OCqUTK4QB8545h2u5QlNnMsW5nSYHXz7l37TyX70aRq0IbRsz7jZ9aFk0hViI4s6A/A93jsRvaA6uC4QQun8GcXcGYVuzNsu3LcSyTaIgxBHmMpMek05TvNwpHq8JEBi5hwrTthBb5llnbPBhhqZsWGt6GKl4uuLm0xtKyARULvuXG6v50HLWJm38r+aLqOPadmUGDlBnzp2k8YoI8GNljEqfL92OUoxWFIwNZMmEa20OL8O2sbXiMsOSL667Uqz6VYItGNKhUkBymL7i4+yA3I00o0aAD9c2UvP7rNqeOXSPX4INcm9+YrPq0qxApF/0P4zPPBde9oShMCtNk7GxcOtlgY2kmRIo/ATuXMG6SLyFvjchXbxhzfhKDEY3rojIh1S8yyJ9t692YPHMvsdXssEl2Ps7vOkTQK9V53zN3Uk+aWtcSnUAcf24YgP1QT+JaTGLaICvyPA1kzfRf8LqdFavJu9g3pV5C8h93wwvXBavw8NjH7UglJuVGc2iPDd6dnVl0LrmzMMpShOauvniNrZPQCSj05HbBJQ/HD/swz8WVvaEKTAo3YexsFzrZ2GBpJkSKfwA7l4xjkm8Ib1WxZNgcfhICu3HdUkkiJd12qOq4A09x7uBiXKaLuKbMhrm1PXW+VsWZeBQxf/Po2klOh3zNyICLzLJSx8Z0X/8T2WfyZVQi5TABvnNF/7Fb87ztsCzwmuf3RGd/+S5RuSrQZsQ8fvupJUVTipWIMyzoPxD3eDuG9rCiYHggy2fMYVewKRV7L2P7ckeKP71EwFE/5o2Zxq4E/ra4CP4dbRph8Vb8be8qJo1dzaUoMC1pz/Q5E+jxrSVZbx/h2O7fcJm4jWBhn/nrDxf22Z0mjetQKmmAQZ/4I946JgiPkT2YdLo8/UY5YlU4ksAlE5i2PZQi385im8cILL+4jmu96kwNtqBRg0oUzGHKi4u7OXgzEpMSDehQ3wzl67+4feoY13IN5uClceQLNCR+pt9XPnmzp+zzdOw08W7xvLyyl33XXkL+enzv9hPdE/sXQ/pz5XOu7tnGOtGXz7/wJU1bViW/kfpe8X/fYP+eS4STl9qDZzPFqSmNK0axd+54fpixm3sq1WFSHPtfFjGxe0tqF09MAsSggL8HUweMYmt4NfpPGUPXQtf45YdfOfhY2FrRFkyc/QMdrBtROuYCAfvXMPWHlZx/BVnLdWXGjEG0atRYR6SknQMV56mhfXPRv7kYEIDf3B+YLvpahYkZLSfOZLhNGcpVr4OFtkh5+SenTl0gcPVEJmy9LWJTXuoMmcPkniI2WZX+TCJFjz5a3/a00hZWevhtZJAYxFqP2+SZ7I2thp2NBerWV/Ls/C4OBb1KyH++nzuJnk2tKRuxi7njf2DG7nsJYtWkuD2/LJpI95a1STabm/h7TGXAqK2EVxvA7EVTcC7xGP8jfiwY+z/2PBK283VTxruNFXHKhhpm6kRBEbqbSU6D2ERHXIa1ojQhHF4pcsq9YRRq/iPr1k/EJkHwpswpRT5i6yLyt44i37bgrcg3966axNjVl8TQlykl7aczZ0IPvrXMyu0jx9j9mwsTtwWLNs9P/eGiP+rehNbVs3LpyCE2zxjNLP9nKEV/busi+vOONlhbFkd57wQ7Vk9llOs+wkR+n1/0y24iXmr356p3SNu+yyQPCOoZeD683OvNDvqWcsD9L4UYByrJ4N1X+b15yqHi52zqWgln72fEKbPTbs0T/HolzycogpbSrsk8ii47yrJvE8VCHEGL2lB35H4icljxv2P7qbKgBvMr+7FnTCVUXWxswAgqNV1IcDYHNjz1xlE1fKYU1+5vy6oGR9ner4D4dzj7RzWm3bIsjPI/xi/1Ep9Nwd313WjYx4uw3PWZumcfk+qmMsQd7kHnyitpePoAI4qr5XjMwaGUa/k7D7LasTpsO73zJhNVhu9nVON2LMsyCv9jv5B8u7us79aQPl5h5K4/lT37JpF0u0/AUM82TfvwN+K9SnZg3bOcdNwYhld3bTaxHBlRiWYL72DSYikP9g6ioMZ57y9tyzdD96KwX8sDH2fyJfx/NAeGVKbV0nvk6rCO4G1OiJZJ+r3x60VxB3fC8zvh/dCd9qpIoHzBqRkOtJ58mIg8zVl4djfflUnMVBQELW1Hk3lFWXZ0Gd9qZiuIC2JRm7qM3B9BInPogQAAIABJREFUDqv/cezoj1QzVXDPwwnrfoFYbzzFGofCajEq7GR5W3MG73lNlirjCTj3C3U1mtbwNmzPmqc56eTxmK3dNLN/Ib/RpuYPnM2alchnESgKOrMteB32n2E2RXHPAyfrfgRab+TUGgcKq1+UJ8vbYj54D6+zVGF8wDkmPxlM1fmV8dszhkpqR2JEpaYsDM6Gw4aneKsdiSd+/bFd1YCj2/vwypB23d6bkqK9n+XsyMYwL3RN6Ii4ZzMW3jGhxdIH7B2ktiDdXzgenSuzsuFpDoworm63mIMMLdeS3x9kxW51GNs1zqe8v5S23wxlr8KetQ98cFYbHtEHhlC51VLu5RK2HLwNpwTDUw0nxnFJiJba084Tb26PY+VXZGvzI6PsyhN/1ZOfh09ka9AbyFKOobtOs7hZXt5s76snt37Czt+IZyxJh3XPyNlxI2Fe3dHxpCMihjVbyB2TFix9sBdtDIbZoR+9iot4HJ4fJ++HuCc4k+YXd4ff7Ww55HSNrY65RGg0IFal0kof9V9vUnteJS9OzcCh9WQOR+Sh+cKz7P6uTPIghSKIpe2aMK/oMo4u+5Zk919Em7oj2R+RA6v/HePoj9VEp/eGHX1L0X7NU3J19iBsS7eEWZaEn/Iuc5uUZ0yAknJjjnDFrX5Cv5Lwi022z9YrwtjVP7/Wa+oTf8Rpint4OFnTL9CajafW4KB2TBGCltPWfDB7XmehyvgAzk1+wuCq86nst4cxasckQMTZpguDyeawgafejgnPrnziR3/bVTQ4uh1VF6dv/NTPVz6qdd9/ckKfJ+Lls1TsVLz3qXHVaTjrBiatlhO6ewBfJrWZ4f15jIgFlUbmZuP5WWg0OnGXplCn9jQuGDUR8e8A35slDrlHcGh4XVotvkVc1lYsE0nigKSHSPSnq0yzqsO21kc5O91S2Fo0nl2K0H3rK75y3sb9dfaapFZlA8G42VRg7LF4Kroc4+LMusm2pvpzunKgo/xYTQy8GdQ3q5/5ja8zxTuu53me7mwJ86CTVnhI2Vixx0ZTReRlt42tmRd0iJEl37fi4GNtRP8+WnVH/dpTdYaefqt5rXCPzlRe2ZDTB0agTgFjODi0HC1/f0BWu9WEiX4uKQWMOMTwuq1YfCuOrK2W6dpuktlMw6rONlofPct0y8SB1GjR7xajy6aX5Om6mdDNXZLj1MsjjG/alkXGYzh85GdqJwYwxV3Wdq5Pf58n5Ko3mb37p6TIKVX5SC46e4SxRZOPJMSdu3NpUn4MAcpyjDlyBbf6SVFPhL3E/qg1K8J2oR323vg4UazTBsJzdcYjbAtalxRIRN9l0ZblD01ptTyU3SmcRS/7NsCcPixSYg4wpPJEQkoGs/9QOPk7unN9S4+kjiPBNEIW0bbLdt4+8efQwxx03vSYLV01pIUq3tKjMr3uj+ZKgAsW2iNm4WtpV6IvO6KMKT5gFaPDAyi5dhUdNKOtqYoUcb+4S9PotaUFa1ytUAa6YGnjxsOWKwny66tJ3DQUFCEsblmN4Qdf8YVIak+KpFbMeun+4i4wuf5Eiuz4gyGaziVJpOTqyuZHm+mS1Ou9IdDFEhu3h7RcGYRfX01CnHS7xbSsNpyDr74QnehJ0YmKpQVqb/s4hgY0apqnxOxncNnWIjjno6fXQ9Z30I5mWp2I/Tqei8CnTrxiOTqqMrbzg8mfIkg/X94as0F7UNaYzJnTPwvxkPwEMaITKmO3krB8WiJF9efIDTgUdcYnKhttlj9kZ391L6F8voUelXtxf/QVAlwsdGZYwte2o0TfHUQZF2fgziB+r+FHj2o98DF35VLAOMon2VcspyfUpMGv11BkE0nv/V0MSsh2PqINy7ZiqeCVnBzGcnZSQ4YqF3J4elWengwgRIwMWld8z5LINBvlAweI5ZSeParRw8ccVzFaMi75RYk9PYGaDX7lmiKbCKx3Wfp6GNNLrmVVsiOlIlISHIlpvbbQYs0U3o4zoF33D6ZsaxGo8/XE6+F6dE3oFOOqN2TWDRPs1z3H1zk11RbHhcn1mVhkB38M0fhSkkjJRdfNj9iscb7Yo6OobDuf4PxCBN4XIjDRXJ8vp7XZIPYoazD5zGl+1jK8V+va8VXvHcTmrM5In324NS+YNJsae3kGTRpMJFCMfOZqtoire4cQv7CLntxcRTIUw/7BZWm9LJR8Pb14uL5DcuKi8phT46jecBY3TOxZ99yXZAyG2mGy374jUsT9onZ/h9O5IWz7ycKwWPUxNprauTEi+Stjx8owbb9JcH42OBTF2SdKiMflPNzZX5OoKnku+pfKve4z+koALrodBmvblaDvjiiMiw9kZ9AyWmaPEQMkZcUAieDv5M1D9/Za/J+xrGVxBu9TUmPyGU7/rBI1ml/sSVyqNWL2LVPauz/Hp2fy2mF94s+ylll56tmDaj18MHcVszfjyifHq9jTTKjZgF+vKcgmBr3u/vaaYa4lWbuqg2YmLXWRkiCwp/ViS4s1uIpsW9/4aYivfOpmT+jz3omXSfCTRYq9GLzydUpK2N58RH8ed3kq9XtGiwGvVESKcSuWpxAiyrC1dKzSD9+X+XBYd4OtPXVXWyj+dKNJbT/sTh1mbDlVx/JGDL4Wx8H9BUUH7uTPZS2Tl5gqH/Nby5J8dyD+XVtLbw4krnlfXBOD+mY12yRb+aoPvndXY/cBkRJ3bhKW9f7HZeN3B1A+pT0on3rq2Uer7653e+qRNyxrmQwm7sJk6k8swo4/hmjyx2SRkksIikfagkIMgIWt7UiVfr68zOfAuhtb6Zk4ipLw1Ar+dGtCbT87Th0eS4LZqFuG3f3NsVv1WPRJvtxdY6eJU284OaEO1jPviZzyNr59U9jgnQU0ry4GxKOyU2vqCU5M1sSwD/nXMxEXiw9mXyp9YuxJF6o1ms0t0/a4P/dBK+wJs0vsz1PkaeKd7m10pGHvrTyMy4q9ezi+Tlp7LfS1bwOMK22RUmUmFv8rz+89lxCc1YY5lw8wKmnUO46LU6xxyTWQsr/347e7KUTK83W0N+/L4Ur9Ge+gm3CiuIPvzBUEioWUWWpN4oHv9+Q3K5g0AvE+kYJYuxcaZoKZWLbi3bMcXTa+oMbP5zk5uco700nP1rWnbB8/IkwsGKG9RCwpXp5ifAM3qvgLY9OIoySRkrsrnqGb6ZzYHhHe9CzXhY0vavDz+ZNMrpJS8TxjXfuy9PGLwMRiBAevzSdhRZrKoD6GoQGNmuYpBnYicXd8+fW385j3Ho9jVQ2YqLscmNKZNnPPEl/BhWMXZybNWugEzhQiRXl3HrYVxnDkbQF6bLnLho7qBngu2sy872Eq9R+Pg06SIkKAuP/MFYFi7W0Wak07h3eBUVT8/gglx747eqV8cpSl87wILevID33qkjDj/TFtmKLTVYauE3uQtmMv1s07awRumtwNPEB5fwktKn7PkZJj3+GrmjU6unQeXqFlcfyhD9Viw4jMb0bBxAGUVGdSVA+i5GVoGCZmZnxhSLuKkcuyYhYjNKX4VF06VkukpAxqSQyEGB7fALcq/iJBSHI+zUxKbrp6hrI50fnELIHvr79x3rw34x2rapKaKO4emELnNnM5G18Bl2MXmZk4XSbuEb2+PQWc/VCI5V6Hr8yhQfKAksoQ8HGuQKf1j4nP2ZaVIX/gqAzVm1tu0fm8P0nWFSnu4b4kxfZPaIc6JqUIJ/RpNsxy7DEsVhlon+897X0iRcxyzLOtIEb63lKgxxbubuioSdyfixhqTt/Dleg/3kF3UEt0lnd8Z7IiUCzZy1KLaRdOMqly3IdFSishUvYqqTnlLKemfpMukZL++HOBMxNzs6RFRb4/UlKMouvaX8Js5dGlzPMKpazjD/SpFktYZH7Mkh0z1ZmUBM98GUqYWLJjJhYkvE+kvC9+YoCvfOpmN0ykRHxUf664+QuNu75kzpn0iRTVCgD/4dVosegOWerP4JwY5KqYlFQKoTjVCttTA7i8cxDqCRiVSCkhREp4KiLlCb+3LMHQ1ERKunOgacSemaTOFwwQeDp9bXpEygUhUuqqREpLMcu7R2eW99PZg5L7S1ro10drbq5ve+rlt5MqJ/dCp8bTwK0K/lt7amJQskjJ3dVTzHp0Tp71UJ0V7c/wai1YdCcL9WecEwMTFZMHJsTA31QrW04NuMzOQWZaWwyESBlQBruVYXzVR4iU1RqREulLr/IdxUolsQz03CmmpBxFF4OTq+0t6P9HJMalxEqCm0toqlohloZIaSVEyl5lTaacPcXUb5Lz1A+KlPf05zGX3bDv/weRYccIFDMp74gUfe3bAONKl0ipfHAOLzrW5v/Y+/KAmLvv/1eLfeex70koJVuFyBYeFCUkhajs2ffnsWfNvkYqSVkqpaKI0CY7EWXJlmyltKjRTL8zrTPT1CxNPX6f77s/ec/73vfrnHvvOfec8zrr7udS6Doc97b0zncmMoMxd8Bx9L04E7d1h+GggJOSHTIPXfSPILXPTCwzbF9qkbR8w95YMmMg3/RLdVIKn8qmcJWSIU58opQSCs0FzWpS4vPZr7ajv+pKRP6uAm27Jwhf3Zl/DlkBsNa9CONwB/xdUEdQmpOSfckKSoYn8IlSN45Q6kbJ4ciL3t4fqisj8buKNuyehGN1Z9r1CpwUaTGUQqaif1KOjbAI/g+3cHL/XjgGfkarpsnwvx6L3E7LEPq4+JDg2zh5jNmcL+HYYzkBqwK/o/moXQjwnAeNPPyzETKvC/SPpKLPzGUwbF9aZa08GvYei3rHemOiRwZ0d1GR9OJ2wkkdeNAolwzzDo46MNh1EYta3IbzNgd8mXoBfgvU+UL7osGX/IlMTzO0muiBDN1diA1ZjHaSROZLdVKEzyNbXLmW20nJQoC1Li4ah8OhePEJd1J4p5r9AbdO7sdex0B8btUUyf7XEZvbCctCHxfVYuRtTWU6KeSmuBmj9ZQLVPPWhX5bXMdRfHoJS5MTxEw6J6X8eigYmeCfl9Tvl1w1y/6FMCeFiB/C91hiwqpAfG8+CrsCPDEvf/HT8g/BvC76OJLaBzOXGaL05d8QvSdZYmCL3zJ2UiTZfyZhhlYEzFpNhEeGLnbFhmCxZAuzVCeFT92FRKJL3z8FxCHmWpG12KUytMt5nrNfbCUyjB+wF9tJoUuv2J0Y2GMFwlhKmBv0GAcHF0R8WRFYpmmEt//EUOpkYR5YYWrndzQQjJpy3mPfkI5YeKNkJEViG6gcZ7NEkZRKcVIy4UlpTpKc0YW6KJk8JVy3A1sUqXxWgDV0Lxoj3OHvgsiYCCeFLktidw5EjxVhYCnNRdDjgyhWm2XQNHqLf2LOo0ht8jc2oU5K9rW56DT8MN4pDMWhd0GYk1djyPtHY23Thfqq22RT9iRH5na+I1NZTsqP61hqYId6O9Yi3WpofmaEwKWjxPotxWYjnpNy8zKM/A2hNusy0lvNwMUYR4ysTQVGHmaUe2eJm3uqYiUdLoJOSqaHCZpSKLy6uRc+8IXiRc9UlJPCSTiAoUq2CGFVxZCDb3FlbvOSRmrmeZi2pIhIigKUFxQUCfMMzfl0ECMnpmL3jTVQLbCHhTspHCQcGAol2xCwqg6h77yCuc1LWoqZ503RkrzvFN7ITaGTIiWGopGS4olCJf8oj2ZddaBSWGmY96pcZLx9QEwWGagqEI7P++/0GJzZsAhrz/1A/0V2WGOtj2YXjNBoig9yynBSPsk3g5qWMmplfMbrF2+Q9Lseullsg9NeG3QvSvrMhIdJU0prqg5zrw/8OfeCn0k33weGKsE2JBdalGoRsZrnRkMoJOWUIddJ+UgRvB7aqPuWmM1SG0JvrRcuUMpXQYmEFIIQ5yfF887VorS2iNU8N35i/F5cJ0VSuRY4KR9Jrl11VIqKVfNViKIcD4g9L0NIeLhwypxPODhyIlJ338Ca4sVXhpOSjpgzG7Bo7Tn86L8Idmusod/sAowaTYFPjuROSuGt0ovcdphz5QUODRZgOxALt0In5SPkm3WFjkoD4nQp/sulKOMDYpDJqDqG6kgKIyky0EO+tMMSC0P6vUoMdZLokUIn5RPtM2pUwFsrA59fvyD2mt+o180C25z2wqZ48ZNn6QGTppS+Wd0cXh8K6tfKHFBEupfEkRQJ9h+aV9EZlKtFaZgRWF18FS8GTKWle/H/tNDwFG//LPytZGtFjMlK9ogUhnZ5z3PJjNrCz6F09ElqmHTmG+oZOuLZBUtwj/XMoFnoas3CvhhKmSriXGEhYqk69HbFgVNfE6YLrDGsQzWkEBFEZGAQEfq8QALZGYKphRLbQOU4m4t0haJw3fpy92R5VK1VD01ad4bmAAOYGuugRSHfUGU4KRKf0cVqJpk8JVu3xaNw8OngSExM3Y0ba1QLLrBFOSn0a0otm6Q2CWe+1YOh4zNcsOTanpl0Ud4V1qx9iKFICT9VT6GT8gkKzbtCu2P+OcH5GoOIF8SmWnUwDsRfxbwWQmzKcxPRwvQcUuXbYk5QLA5xQymV4aRUfQ+PKePhOcgdZy2+Y01h+raAkyKxfku2k+Q9LaaTEoR5tfwwTXUcTn6ui7FOzyk0m4mDoybju90tbOwaivmlOClNJnuB1duO6GhXgxtYEPdPpJPyYR+GKC/EDaIi7b72HuUc84TzCwfJu50xyIu2dCP2p3sbNflSwrIoF1rb0wCRzmOKQnqlOSkf9hGd8cIbRLlL+e/3KP+dJ4xWPBxFWwy40ZZuxPRyDxs1C7xeSvdSuykdhuLiJdFzRUpeF8YOEdg5mDcXJoeKTA1gciQOCgJOCufzJSwbPRkHk0fgeKALpqjkG3aZbqKdlMS6RjgStgN67CR8eBYOn2N7cfzGR6DFIKw6dQ5rBzXKW+geJk0w2YuF3hT5ihCMfPF+JCeRUi3aYd61HDShGpl4KmQUYKUWgISDcsmwKAT/HofqrkCvEYfwEkqw9rkDh5G8VAESSUKMhykPlkLm7eZdQ04TqsmIp5qMsj+U/51iGNtSybUwklLXGA4RO8GvQlSwZ2CCI3Elb16KJkdRTCttTxhEOhd/T1FNikC6F+V8X1o2GpMPJmPE8UC4TFHJv/XKdJPaScl5SgWOPdbhfq4aVoY/wFYtvnywUggHBMVVbCTXNXZAxM7BfFG1nGh7GJgcQRzVpPA6KbLRQ4HC+aKplUPPxdBGiR4piqTUhdGRMOzQYyPpwzOE+xzD3uM38BEtMGjVKZxbOwiNuOcz10lpMhlerN4UiSajX+SBURFOipj7D9fISKQ0zHbzcC2nCaZ4x+OkZAtTskiKWPsnd1KSrxWJZCrOw9I4KeU8z9nPKd3L7Cf2RG1D4VIuKpwXUpNSdGZHrkAPvZ14Lk/pMXfoplojHd4WaljV0B2P9+nx1Zix313EukWbcSbyNZJ/V0ODVp3ot6NhToyXCVSvKawmhWvESWQDSXk2c7+nKJLSYDwcb22BDusr3jwIguvuffB8lobaVIPj6HcE49sqIKdSnBRJz+hi5ZJMnhLYDXz6S9F8K214GkTCuWjtiuGkUGQkckUP6O18Dnk6Q+7cXgeNdCJuUVuFhu6PsU9PsBioOJLSYLwjQrfp0TmRi++np0J3bThFSUrWVJawKeVVsSL8IbZxlbvCnZTj6HB4LGxezoXvISIvySk9fVti/RZn/xB4RnwnhULrkcu7Q8/+BRT77cC9PWmwXtMQpy4tgFJOiFAnhRsK6qx/CO8UKf3pQThWFd6Y8k0iFeG+d9BvjD7fv4pyUopYML7mov44N8RTSkyJG20uu0wbYsNJqg/TM2/hMZ63aQo3J74vNrbzg9+s4ihMaeleWQVsRl9z62OcWzyFMUven3OZWNoQk1VSfVOceeuBvOGKIinkpEiBoRQyFf0TKQ4Rbu2DxyRNmJ//hdEnYun2oJg4QCwnRbB2gdi69g3XwqLrqZBvPxdXYihsSoWwIfM6Q//QOyhq2+FB+KqiCBe/yoTD904LcFx7w8QtCXJtrOEfcwwjhNRns98H4OLHgUTxWYtUJp+RSioZ8uYJGybD1UQTlhe+Q6HLIgTf3YUBFcDoVfjNhcwbSXJtYO0fg2PCPxQBFz9iFNF1Cywk4YXzhQ9JK9dypnuxKBe478Z28POblXd7mfcn1Emh3H6PSdA0P49fo08glm47i0qAyuGkcMfvrrsdz6uPgfN7yg3mJXjizkUM544bxpemJkVmesjL7sUjdKnfL3rnkOyJUgvnid1x33BoLbpON4TtMfdKDKXa0MHOTffqrE+pD4qUnvsA4asKbzf5h00N98UdunzSb14R6V7i7j9KGNP/NixamcAtSQ5trP0Rc2wEH7tb/qzZeB9wER8HEv033x4hWSSlBPGI0P1TurUimVDFeFqa86WQ1UrK8zwnej36WXJw9HZxmwRxnBQQi9KhERqYH5yJVjN8EW2XBEv13VC9fA+bi9iZRHwz7aGl1aRIbANJg13h9lmYGihQk8JJdIWJhiUufJdDy+k+eHFiNKpXhpNCdTwXLFpJdEYXIi2ZPCWxG2jd6jfPH4ZqJ1f23Yh2fn6YVXwIFbF7Ca1JKZgg++0hjNCYj+DMVpjhGw27JEuo71bF5XubUVJthKd7cS/JuSUEiWRTGpNN6SXMpixk0axL+0w8pZFxzc4KdVLM4eLWDMd21IG939p8RrEyakwl1m8xtg/BRyRwUuSJSo8YLzSpODpHGXr9aqGp9RW4mxFrDh0uwiIpSHbDuA5T4U2U6E3HHEOk14wSecY5MTthtK0F/FwnC9hWQiiI+Z5IhscEFTKak4DmU+AVS0X6Ao0bOV8dMLLNbFytMx6nY8/ClPfCO+c+/tVdhb88LmMBT/JzqYXzyR6YoGKO/OG8EEsF3vzDcfDVYSTazL6KOuNPI/asaT4VL5+TIgWGUghV5E+k2QgziOmspRnOZ3Qkuudo7NYtvnkudlKW4tbjnejDcyldKjsNlwljB3HJr4jIq+HZQo3OVhFrVTIV0XaY6o0UNMWYY5HwmiFYy5SDmJ1G2NbCGVtTzaAy7yoyiet98O4oBC3oxE+ewPkG31lWeDDTCxu4O0d5ZChQzJjzdBv0dFYjIrMGtDdG4NY/3SqsNoWTcBgjVObhaqYc6g3ejaigBejEx9tAqZe+s2D1YCZ8N/TkF78oY1tauZbLScnBfUqTW/WXBy4v4JGvUCclg1i+WsLsfAY6LgpB9G7dYpx5nJSltx5jJ4/iFdWkdLBFcMw+6AkESlJPG6ONhQ/YQw8iJnAO2ghG2kXhloeydE6KLPVQ6FqXVs9FbhwSPlCqk0Km+6sdGKC6AhHcesEt0cRy04lenkwEGh0wNf/AwLFIL8wQLEzJicFOo21ocdIVkxvKOpJCMxB7/zkJ10m/cHiECuZdzYRcvcHYHRWEBfwLk/pu+WKW1QPM9NogYLyU00kRun9mSbVWJJSq6MelOV9I9uU5z7mUut1XN4VvyIoiwgWxnBT6mlS/6VAzcsanWvr415aDQyHDEH5zOQ9bpPROisQ2kFTY5c+v1JoUqpnZO5jO7ZssVNHZguiwVejwpHIK5xMOj5DsjC6AWlJ5SrRuJ+cbglyGM91Vf8Hj8gIeu1ScSAr316lEf64GI+dPqKX/L2w5hxAyLBw3l/Mw/BWpTSmF8z/IJlUxw9nvQDOyKeNK2JQgm3JEnk1Ziy5XX1Bxf167lAp0Uj5Wawflzt2x7Ow5WCsXGBllEeGUw8YXvZHkPyHCSQmETZed6HrzKmy5JNJ0Y+Bqoko3yMmQazcLl58eQV7blCLjogb1kfhS1EcCZGr6W2lg7IkPYMvVRGezXXDdb4PeBV3AM+LOYanpeuRsisTxUTwNSbivvGFLPQYOIL6aEU5988ZkISkuWeHL0WuwPZ7l1MXwg48QMLsdX2F8OvWAUDF2R6MlIbi7vS9f6DYtcDYGHdeB3/mpxTe5efKfDRViLfpQnac/Sx5UWQhf3guD7Z8hp+5wHHwUgNntePPX0nHRUgXG7o2wJOQutvctCPlllxdDcUUpwXPcOXUYTVzZwimIby/vhv47X1C6Fw8FcTrRzDadCp9f1THA/gmuLy5ga2PRDcDsEZjkHEc9KQoMQkUOONRZPo/0N2AG3RY44Qtvn5S8qVJ/lTnUX4Voczl1DOEU74tp3BrFFH9YaYzFiQ9syNXsDLNdrthv07uga3MG4s4then6HGyKPI6/s9wxUcMCnl85kK/TA3NczsPeWKkgFeg1/DZbYWHUGARdWVhwcJVDhnl41SPK5oQCyuZ03FzUG/r7XoBdj3q93KVeLwJsZBJIpOxHad25T9SAhedXwrUOesxxwXl7Yyjl5zzhtd9mWC2MwpigK1goOIfsG7ClniUH4qvB6NQ3eAsuJCnlmh1ogw6jjxO1tDAK4gKK1xelUBCnBWL2oOPQ8TuPqby1XdzNV4Vqfz5U5+npkk54N8VUn1+oPsAeT64vLpAlC/FeszFikjPicqk2KTiGwuyK4HBI77h55QWF86z6Jjj99jwm8W0vyThrSrrlWR3TvB/jhKFgGCVvAyobtzyJZSPQpgNGU68NoRTEBZSPL4RQEEu3lxTw1X8Stm55VUhKPZeZwha8iFL6ZhC5idOXkv0yuA2A1agB8FtOHRg6xcM3b/Fzl78VNMaewAdqIFyzsxl2ue6HTe+G+fWGGXE4t9QU63M2IfL4KOpfkE09eJQx6tgn1KNi5gQ+CuivOEoUxLOvCKGF5RZGa+jBPlYBBs7fqNcNz3WTBPvPqHoUuXCfCA0LT3wlvavTYw5cztvDOH9hIvO1HzZbLUTUGGpeuFCA3ZLmfsOW+lEdiEc1o1P45j1ZaLqqZPundGtF1mKHNOcL96yQ9DxnpeEHqwYa1FZEsstYqPoaU6R1SlFfi5x7/6BHXztEU7oXtxeKjWAvlMIPz3mEdVra2PQoBwoKdTB4fzQuzy7o3SQOOEWpx7nQXHsHdzfwppVLaANL7KUiAAAgAElEQVRJiV2ehUJnbXs6a782FqAgzriGuerDcTg+Fw3pAvUV9ROqc28NuvfdgqdypREBifPhop/hfJHgjGaXQ54SrVvuvNMQOHsQjuv44fxU3npm7sWHCtGaf0B1nv5Fwr405xH14dHehEc5ClCoMxj7oy9jdkG/Pf7nuWllSjA88YUoiC/gnbNhEQVx+AqyKXc+w++6RDz16BLmCNiUvtM6Ypx7fWKnvY9d/QuM4MK+JZ947ZGCEb8eJQri2biSWzKFjBWxDBp69ohVMKAeRtQrj2fbKzzPP8krY7pXGI4Z8LTYKKRsF3qeS6jfolWmxBNlOyk/XGGktA/dbhZTmWVQcz+1Uc6ovzqKajy6599cc59rOw0+aVUxnIQbyNO1jPPJE1Z6FEJ6lU1ZeHIkzFZQ766Mer8SEPMkHrVN3RHmZALBmqF0St9qS4xGyYqlF6pzFS1i/XCMIicnrcko7A/2xBy1Aucg8yHshg+CffZ8XLy2Cf15BMJODMCCMVvR6NA1bOjNXzCbfn4S2piewQ+FfsRmcBPLiuiWuXodgfXDR5GBnIYmo/Yj2JMO2qLh7DB8kD2y51/EtU39i6MsMsBQCrmW/ZNCeaXXxBjnj/CZypu6lgk/SyWMdfkCxcHkJF6dly8b9jPY9e1BtTYsyNXVwORVi/F3o3j4O/nj51+5uBbwAFnVe2HuHnNUeaKAKfvmgVuSk0xFZK2Jwi6rIY8xy/6BJ+7LYTH7BJ78qo2eK/wRsmVAAWZUzOZpBT1zF7zKptaucgqo00od3ZXr4VdCDJ7E14apexicTFqQ4UK0pE7joTfTBwk53Gero1mXHtQJnoWEmKd4zdbB1muBxNTCI2NpZcjVb+qBY+CUQEZNAV4/LmOWFt34vmKj4fB9CLtI6Y0CN/aykh37tRPG682ET0JO3jqq3qwLenRpDBZh8vQ1GzpbryFwmWYxd3/hwOmeMGtLDETJisIJJqSU6w9XI7Qlzvf0mpQu9ZHSpfhUyA+WSmPh8kURg8kIuzqPK6uCP3YiAhaMwdZGh3BtQ2/++aaTM9GGUiV/KKAfNXu7uYzb5I+NZ3Z90YNqylhydaExeRUW/90I8f5O8P/5F3KvBeBBFvHIz90D8ypPoDBlH+aR4hU6Kdny9dB/Uwgur+5ekIpDUaerCzDQ4Dh+m3vg5jEjvkuKInmJwi3vwR9wNWqLaT7pqDnGGR99pvKlnGb6WUJprAu+KAopjJRGD1NPY1wbC3in1aQGkomUOy8QOuZVNmneLytlLXxPMhUet7aCf1ZDnn5MbPx44o7lFrNx4skv1O65Av4hVE9Q+ClEqOBppQdzl1fIX/510Eq9O5Tr/aI1/QTxtU3hHuYEk7xNKRWnx7WBhXcaqlFE7E3QnGJZsvM7vP9zl4PW1IMijnpQFGWKZ1H/FmXq35Igz6NnhZOWZP/h7ouv4TReDzN9EpC/BTVDlx5d0JhF59vT12DrbMW1QGL9EeBlIAYSShluS8xHyVAcchBvr8wVqoeS7Z/SrRVZi73IHqDzpaSe8pwvQygV/MocFJMaSXCe1/oAxzHdMOtWK5itnIGaXuvxyCgc4UUF0FyjvSCdRqE/OaQhWFIqXRzJ/MRYqNn44Wd9ooR9Qb268q6sxfzLeYL12r2oNUFuKQQ9EthA0pzNBdMs0pUmdFa9dc7rk5Lz7S6cFk/BwtOxYP01CNuvBGCJZnVkUWqYMvUvS5Dvi+3PqScRr50j5meL95iYZ7TG13LKU5J1y0ZiwAKM2doIh65RA0W+tZmO85PaUHnADyhQWcPzm8tQKjS0V50YqwYbv59UcuCKF9TjSbjapFJfqNbUFyodtcnxSaDGrUU7d2oo/h1mgC130tB45D4Ee81D18L77egdGD7ADumzyKbcqsfTVLLwHKiGoQffIGhOsZPFjrFDH81/cJeT30uOtydMscxL2rZF53k16p9HfeWsefsvZxaf50MoFf/KnGZ8JFXS2vji6U+pkZQMPPTYA9czbjjm9wq1tS1gPdkMNrP10Sb3IdYNXIVGpwJg2z4HT84Sd73zSTheeYOsXDKelIbBaupETJo9FX0LJMaK98ZqS1scuJUAFm3k3D85hfrQmLoX7oemQpWnzojzKQQODl4IOOOCS3EZyJWrhvZDLTFJtz3Ruy3AeHWB3Z64pEN3z8XMTRfwUrErDMwM0b1hKh5dvoZENRvY289D37yqTPrLiYbbSjsccPfGvZR6aN2yPqrwIsXJRsrnT0jKZNO4VdCinwUsp06n27B+RU9xvoZi99yZ2HThJRS7GsDMsDsapj7C5WuJtMnZw35e3/wiUMgWQ3EFWvZzvHOKRSbJq0aH4Zg+ZRIs5puj56cL2O50Gh6Ovnj2kwO5qm0wyHIaTM1mw3pAEyQHL8dQ4z14mMbt6i2HKlT0vtLpFNa0OAHd3utwLxuoqTIJh3ydMK3Nc5zZ7YLTp45T47VMwlMe1eo1Q7MGVZGTloJf1ZpCpbseDC0XYI6xavECzPsAuiX3Xg1L2wO4lcAiozxPY6BQXwNT97rj0FRVnqhYJp652GLKYhc8/EFyy3tUHnWJf3y901Es6FNwC8sDjHQyzMerZseRmGE2CENMaZPrLE9pVlbobeKCd+yqaE3OuJXtMqw14qauyP4v85kLbKcshsvDH2Dnfyjk63bCuPVOOLqgT0G0qWBc2kBDHBzgFXAGLpfikEFzr9Z+KCwn6aI90WsuGK9e4CBwJJNr6xh47HHFGbdj8IvlyrUGOgyfjimTLDDfvCc+XdgOp9MecPR9hp8cOVRtMwiW00xhRvtBg+DVsDvgDu97KajXuiXq8y8+ZKd8xqekTPo2rm71g4XlVExfNB195K5j+VBj7HmYltdPXq4KFVyvdMKpNS1wQpeo0fMVD5MO+cJpWue87yp0UnKaamFQq+/41upvGGo1p468N3H2/FM0nbofrjtMoCToVIqJW8ZDD+xxPQO3Y36IzSS3sUYHDJ8+BZMs5sO85ydc2O6E0x6O8H32Exy5qmgzyBLTTM0we8aAIqNMbD0kQzhgvwv8r5yBa9Cr/HWrPAJWU0wxeZ45tPOaAJX8E/v9MlfVTDw6sxsup0/hOB2U3PnKV6uHZs0aoGpOGlJ+VUNTFapvNLTEgjnGUOUPotPyj4f3akvYHriFhOIDA/U1pmKv+yFMpQODi/9ul9Nwc7yEOMKflAJ1m1J/ILpV5zLnsDO/4WNiKn7nOTo10ahlc9Svyv2fXLBSPyPhe0aenik270t6ZoFpttYYUFTsJMn+w1W2Z3CxnYLFLg/xI39h0hZUF53GrYfT0QXoU5A5kA8zGVMhDnDwCsAZF5p7BulOtfYYajkJuu01YbRgPPKOuMxHUu2fnORgideK7MQv5Hzh0VNh58vgGZYwNaVU1QHNCuAR8zynLu97h3bF4hu/8i5taqvPw9ngvRhJzfUyH5+nM+g2Is8eh28M7RmkGy0HTMMM00mwsRlU0PdE4KszgjFHfSR89Tzxgm66y3D/i3/I7VHlfAJBt4Pg7BKKT+SlyjfqBTPrCTCZtghjeFL/RNtA5Tibu3/E6b2naE/mnrWEhxztn7Uao2mjKshKyUCVpp0o48QEs5bOwXDFcBx1vYpQ7+M4/4h6DhViM8kMM60Hlrgslo1uiHFGy0SeotetYrQbVtodgLv3PaTUa42W/IcQONkp+PwpCZm0jrnnTD8LS0ydvghW/YSH4TIoIqw+0hd6ni/gbFhSa9LuuePAOW+4H/HGs3R6Zy0VjLa2wAQzOid65298nG+3YD9rJux8XuXblGO64y9i27x67R06TNsB+wW6Bc4PV0e4+6obHOlMz9/26qIp9ResrZi36yHz20ckpv7ODwjUbISWzesjf9tjIfVzAr5ncG1bRTTvS7atxTTYmdcpcZ53HDUbC5csxayBjfHcS/A8H4wZlqYwnTUdA3gok0Xrt/SaVHYkRfr3CvllJj5EBeP6g7f4qdAYXXSHY5Bqw1J7p0g6NCc1DqHBkXieSF2MmypBXWcgerUWYFnIPA3jxha41GwUVm5eiUkDu6Jtk3qozpO1xc5Ow/cPMbjt7wi7TU541H49WPeoyRLfHwepcaEIjnyOROqY3lRJHToDe0FwOEm/4f+H5zPe3IBvUDRS63bGoFFD0Ll+XpIk4kPO4MqHlhhkPBQq/Px70n9W5gdEBV/Hg7c/odC4C3QpMqbaUDhFHDslFjeDbiHmKxsNOvaD/lB1NBHst/m/IEN2CmKJKe5WzFewG3REP/2hUC/7Q8XCv+LlmonTxo1hcakZRq3cjJWTBqJr2yaox7/4kPb9A2Ju+8PRbhOcHrXH+rymfSTIjDe44RuE6NS66DxoFIZ0rp93m5MdH4IzVz6g5SBjDOVRPL4+KQ9Xou6tK4h4mQRO3TbQHKiPPm0rkOlALMQLH6rovaSi3y/Rx0r0cOaHKARff4C3PxXQuIsuRapVUcryl+i94LCQ/u09Yu4E4ZT9ZhyNbIwVEQ+wuZfAhiHB/sM1EFJibyLoVgy+shugYz99DFVvUqLBsGQTlfJpCdeKlKNU6M/EOc9ZCRHw8r2PtL96YLhhP7Qto8O6yMlmUiplV1tUc3qM/QPL86KyRqpYG0jkN/7HD4g6o2UmzzLWbSbVIja2uIRmo1Zi88pJGNi1LZrUq85jh7KRnfYdH2Juw9/RDpucHqH9+oe4x9MAkhfGTMos6mpbDU6P96N8asPdP0JxNTwGn7NqkE2pgX4De6KlDFWRw0rHt/cxuBN0CvabjyKy8QqwnmyWoVZUjH5XopMiQyykfRXXSWl3FFrXgrFSMCJT4p0cJPnZoM/mtoiLEnRSpJ0A8zsGgf+rCHCdlHY4qnUNwSsLozilY8FJ8oNNn81oeyE830mR8E9UM0cJX8c8/r+KQNoNLOq3BLWcoko6Kf+r38x8VwkEUr0toLaxDXzu2UHQV2Xg+t9BgOuktDuqhWvBK/MjlmX9cZLgZ9MHm9teQJRQJyU1j656Yxsf3LPr9d9cSEgpmrQbi9BvSS08uS9LJ0XKyYj42f8xJ8Ud06x+Y5f7VJRWQ8eHFxUMrbG6DjvX1RWDPvNWBoH/Mwhkwn2aFX7vcsdU8RYfbq+xwnUzJ6xmnJT/M1pS+R9KKctEsOE1whEbGOu08uH/E0akpoOOY3rBRTcEN1d0lll2x5/wacwc+BHIdJ8Gq9+74C7eIQTW7TWwum4G19VqJaDkJDhiTC8X6IbcxAqRPZ3+MElQHdVmKy/847LhD5tYyen833JSKLc76n4t9NbiL/wpXUoZlHryEqo6mn+8IJkJMgj82QhQAWXUfdTqrcVTKFv2jDMo5P6yuRY0S6m5KOvX6dTc869pF8HuuAghT3eDhzH7z4aJmV2lI8CKu4PoBr3QU5Ji6UqfJTOg7BDIQMLTOKQ2VEHnFtXx5YINBi4Ddt45DkO++iHZjci86c9AgP06Cvdr9YYWTz1FmTPLoNT/l82ho0kMkBkJeBqXioYqndGi+hdcsBmIZdiJO8cN+etB/4xPFTELFuLuRENFS6BlwR849/9bTsofKABmSgwCDAKyRoAcop166LI8HOzGk3H+jRuMZVUnJeupMu9jEGAQqEQEcqhhoy60/41CFrVFaKbUBKyfzTH7rD82DCxJslKJE2OG+pMRINIlO11t/BuVRa0RmkGpCQs/m8/GWf8NGMg4thUqOcZJqVB4mZczCDAIVCYCKXdO46jvDVz3vYxnyRxiMqmKljpGMBg8ElNm6YOPhr4yJ8aMxSDAIPBHIJAWtR+zFh1GVHJtdNAdD9uV8zFKWUgjtj9itswk/gwE0hC1fxYWHY5Ccu0O0B1vi5XzR4FRm4qXDuOkVDzGzAgMAgwCDAIMAgwCDAIMAgwCDAIMAhIgwDgpEoDFPMogwCDAIMAgwCDAIMAgwCDAIMAgUPEIME5KxWPMjMAgwCDAIMAgwCDAIMAgwCDAIMAgIAECjJMiAVjMowwCDAIMAgwCDAIMAgwCDAIMAgwCFY8A46RUPMbMCAwCDAIMAgwCDAIMAgwCDAIMAgwCEiDAOCkSgMU8yiDAIMAgwCDAIMAgwCDAIMAgwCBQ8QgwTkrFY8yMwCDAIMAgwCDAIMAgwCDAIMAgwCAgAQKMkyIBWMyjDAIMAgwCDAIMAgwCDAIMAgwCDAIVjwDjpFQ8xswIDAIMAgwCDAIMAgwCDAIMAgwCDAISIMA4KRKAxTzKIMAgwCDAIMAgwCDAIMAgwCDAIFDxCDBOSsVjzIzAIMAgwCDAIMAgwCDAIMAgwCDAICABAoyTIgFYzKOyRCADsX7O8EnXxfxJmqiZ92o2UhPfI+lXbtFAcjUaoU3zelAQNnRWEt4npiKn+HF6Sg5V6rdA64bVZDnZ/+PvSsYZs95w7Xcd/nPbQl5SNNLvwMk+HM2mzsHI9n+WXNJig+DpH4nXP2tBeYAxTIZ0QG1Jv6/E89lICHXDmU/aWDCxKxTFeJ/085BwrIx4hPoFIPTZR6Syq6OJcm8MMxgB9cZCV5gYM5ftI9LjUPY8shNC4XbmE7QXTERXMQQi8Tw4qXhxzQeXImLxNbsq/lLWwogxw9G1kZi4Zicg1O0MPmkvwERxJihb2Et5WxpigzzhH/kaP2spY4CxCYZ0KP/qACTTWYllwfM1Esk9OxF3/H1w/cl7/JRrhI46ozB2WBc0kHjDqwjh/BmyAMozD8nkzo8iB58u78auYA4GL1yKUa3/e6GURy9L1RBJ94G0WAR5+iPy9U/UUh4AY5MhEHuJijlWxte3+JrOAZ+ZJfABcgq10b5tk4pQfDBOSoXAyry0TASyYnFm1TqEaq7FzqmqBQ4K/YKTjEc+ZxBw3RdOJ67iTVYu5BubwiPWAxMalHwj+30ozvhfg+/BnfB8noU6XcZizmxD6A02xgi1OowQZIVAsjtM1I+jX2gwFimJaXQJjM1JugU76634ZnoAOyco4z93VdiJCFxvAZsjn6E10wbDmn/HNQcH3O+wEqddFkG7vjTgZSI+2BE7t+6F6413qGnujfcnx6B6Wa+Seh6SjsVB4tX1sJi+H686TsSMcX3QtvoPxASdhGMwMGavBw5N6VL2XKWBRNzfSI1D2QNkxgfDcedW7HW9gXc1zeH9/iTGlCUQKebBfu+HlZOtsS/8C34XneRyUGzYA5b73LDfvHPpuGbGI9hxJ7budcWNdzVh7v0eJ8ucoLiAlu85dmIg1lvY4MhnLcy0GYbm36/BweE+Oqw8DZdF2pBqeUBCnZVCFoVfLZncOUiO2Asryx2IVZsG65HtwX4egGMOgfjZfQEc3LfBsLV0+175pJD/6z9CFuWah4RyFwIa54MbJmpPg+d3VayJeIDNvcS4aZAF+MLeUQ69LHVKEu8DbCQG0n5ucwSftWbCZlhzfL/mAIf7HbDytAsWlXWASTJWdigWaQzG3ricMtGUbz4D7E+OFYI446RUCKzMS0tFgBWLE2am8BpwGj62qqgq9EE23p2cgD4zvJHIqQ/DE89xwbJZKTf4HLzdPQidt9TH4YcXMP0PuGH5X5N+srsJ1I/3Q2jwIkjpo+RBwkkKwoLB85Fo6wf3GZ1KkX1loJeK0DVDMGrHdxidjYKzcdM83WLHO8JIew7uau3Dde/Z6CJcOYVP8MdNHFjnhvuJMQj2jUTCbzk0niLKSZFyHlKMlRNtj6EDVuO9oQfCnMahRZHNlYbQZf0wdH82ZvjexuERQm4DKlwkUuJQ5rx+4OaBdXC7n4iYYF9EJvyGXOMpIpwUKeaRdQcb9IZi48MqdPPeF5pt6yAjLgzX735AJjksclXaw8I9HM4mzUvsXz9uHsA6t/tIjAmGb2QCfss1xpQ/wUlJDcWaIaOw47sRzkY5w7hp3upAvKMRtOfchda+6/Ce3UWy9Suxzkohizx9kFzu2dF7MXrISnw0uYBbB/9G47xLenJcri3BwNH78bqjLXxu7IJ+w//g9v6PkAXBIe08JJa7UA8FpyZow9IrEewq6v+xkyKtXpa+WUmzD6SGrsGQUTvw3egsopyNkb9E4+FopI05d7Ww77o3Zgs5wCQdK9VnKrqYuCKRXdZmK4+GJm5IOj+pQk4KxkmpEFiZl5ZiyeGqrS7MomcgLHgxOpVxOcWO343BXZbiVjZQa/A+PL06H+2EnhEs3FnZCxOStiHm+MjiqAwjAhkhkAx3E3Uc7xeG4EXthafdSTBS+s3F0Da8imFet7Bn6H9hEANZESuhNWgH4npuwaPQlehcpIdZuLlAHUMPfkP/XVG4urCTFN+bhBOj28A6IAt/iXBSyj8PccfKgN/0jhjr1hT/3L2LDd34byHZr3ZggOpKPB58BC8vzUTzSrbFyo9D2QqYdGI02lgHIOuvsp0UyedBKSiOY9B7X2NsOmWPaZoNCxyRTDx3nYWxNm6Iy86ForItgqP3Qa+0CE7SCYxuY42ArL/+ACclCxErtTBoRxx6bnmE0JWdi9dA1k0sUB+Kg9/6Y1fUVSwsawMvVSTi6azksig5oFhyZ8dij74Wlt7tg0OxlzCrBa/yp8BnqhpMTn1Dh7mBuH9gsAxSQSXYLPFnyIJ2TBnohHhyL4kOBx9OTYDuxieQe/sS7+T+WydFFnpZ+tIQcx/IisBKrUHYEdcTWx6FYmXxAYasmwugPvQgvvXfhairC0u3scTZcziJOGHUF0eaLsf2hWOhpdwUdaryHw4/zkyAsvk1DDn1CucmVcx5zjgpkuwZzLPlQICDpIBZ0DG+hAGez3DCoF4Z7+Lg83ED9Nr6HL/exeNHFR3YPQzDqi5CvBrOJxweqYt7c6PhZFCrHPNjfioUAUr1Gk+pXn3DKNWrvQxSHmjjOzmuK6yjTXDhjgNGNaxk3Gl8Z2M1WPmmo/vGh7j9rxpfzUj29bnoNOwwPraygf8zB4yQWKWyEGClRNG/L2hUlpMik3mIOVbOE6zX7oUN0RpYf/821qkLpEqkucCwsSUuKy1H2KPt0JYkglRe8ckEh7InkRVgBSXDE/jSqAwnRZp5cL7AcfIMpK31waIuguknmQhfRsb+rmf4rdAFy8MeYXtpwGYFwErJECe+NPrPnRROIkVO1Kzgm96dokO38a8a73dl4/rcThh2+CNa2fjjmcMISLw8yOAVuT6kkYUQFRBH7qyIpVDX24V4tX9x595GaAqIMfOSFVRIdz7V+htHY/xh07LyPPg/QhbcmJJMdEIMuQsLorx3xfj+9mh7yAZxJvMRwPkPnRQZ6WWpu5VY+wCl7VLkRM3KF+ndN+Lh7X/Bv0SvY26nYTj8sRVs/J/BobQDTIyx2LH7Md9VHXZ2gyDc/Ughx0QZZlcG49Src6ggH4WpSSnvGcv8XkwEssKxrOcg7MmwQuCLwxhaZqJ+CtwnaMJr+G40s5uAw2/lobE6Evc39yxZhJxCRnQPHxg/oEUiXaK0mB/wf/OxZPfxlOrVlyJfiyALH4WLYqqXOVQmeKL5yluIstOq1PoUzofDGNFlHq7+aoJpPm/hbCCgiD+cYdhqBvyymmCK1yucHCtpoXA2gmYqY9SxT2hYhpMim3mINxbotnhrP3WsviOHbqtDcXuzFl+NRM6jteiltRnvRrkgzmtKQbpL5ei7bHAoe67ZQTOhPOoYPjUs3UmRah7stwi69B26Br2EGus50Rug03M97rObY8bFN3AcVcqmlx2EmcqjcOxTw//YSaFb68Mj0GXeVfxqMg0+b51RcnkYotUMP2Q1mQKvVych8fKgonlR60MqWQhRAdFyZyNmsw40/70H6Noj9saSkntcMjnwbabDL7MWRh1/Df8ZFVMcLDSC8AfIgpv2JhudEC33Ehhw3sN1fH/Yt3NF+L9vYNZsOvz/QydFVnpZ6m4lzj7A+UApuV0w7+ovNJnmg7fOBgL1bj/gbNgKM/yy0GSKF16dHCs8+ifGWJzUr0iq1gSNS7PVUj0xuaMpAgeewqtzk0pxZMp/jpQZSWGnxCLE+yx8X7THvK0W6JRNRX6uTnQD+h7Z9VSgN3EGJuk0K4W9hoqlbp7H2YBIxCZmQqGRMnQMLWA2uH1BSg4HKa9jkda8PRRjLsPr4jXcf50C+Ybt0X3oREw26FrEqpH25g4evM/kZxeQrwOlXj3RJp8WimquX+B29Gew8goX5aDwV2f079oYybG3EZ3IKpOZIO8FcjXQWrMbary9g7gfHAFk5VCtuQa0OzUokVfM/hyN8BdJtJRF/MnXo/l2L5ovMt/ipudZXIp8gYRUFqrUa4XOfQ1gNkEXrXmqiiV9f9MfjxD1MqXEfOSqNYeGdicephIOfsTdwZNPWQLYyKFmmx7QUpJl4TlFRk6Og9r0i1Aw80T8KaOyb+AyLsJS/Qi0w3zQ82Av9Nv2FLnKC3E9eg/6C1RcZ/pNh8ZRHYT52aBZZVxysT7h8e04FKmIXHW06KYFlfrCB+d8jUHE869FDGTytdujZ6+2/N+f8RrBHh648uA1PmcR41KH3vh74ngMURaUAeVJV7A+82sxpXqNp1SvvvypXpzkWFpriQVrrSy9l0ON1prQ7iAQNaODf0xbOnBqToRHDJEiNCp+R8ZTD2zffwXfWhti0XIjqMi4wj6V6mvamnshVbE71t6legKB1CewKKVFdSj2vwaUF1zHs739Jcu9F8MIy3PUZDIPcQ9+FqJWaKL/zufIqdENtl5XsHtEk4K9LAVX52hhpFM1LLxyGzsH8NyNc5IQeXwbHG+zoGa+HAuGtJQi/a3sfVE2OJTfSamQeaRTkT5FqC6yu5adRy+GwZB3xiVF4vg2R9xmqcF8+QIMaSmDyCYfdKmU2tkW5l6pUOy+FnfvbEDJ5bEAqkOpTgPKWHD9Gfb2lzTsJlpnZSUL0U5KNgJtOmD08QTI99yAB7fXlmR+y74BW9oPDrwB2s29iviDgwoQo8yAyOPY5ngbLDVzLF8wBLIVx58hC9qpZKQTotXlO3YAACAASURBVOXOv4o5RDpigv67leAaZg89DjnMTctwUv4X9ipx9oFUIrFpaw6vVEV0X3sXdzZ0E7C/WZSyrEo1hnkHGK4/2wuhS1ScsUSYtGneFlCecAl6gqleMpaFUCcl57kn7PadgLv7FbxM40BBZTGuBw6E1/gpOHC/2ACWq9Ic+nY+8KSwNp85lXoX+6xs4JprgDmTddA4OQLHtu7CpTeK6DLNARePmaGDYjauzekMg5M/0Ly/DVbMGoYOcq/gu3MtDkekotlwO1w4vxS96SIzNdoTu1cuxdbL7/LYUxRaj8GWA2swaXhvtC7w8rhOSoj7elgvOo/kbtbYSUWT1n2aIulpILxP2mPt3odoNGQ41BvI5UOf+xPPrwbicTJQr/cs7FxngSEDeqD6m1sI9d2DJRsvIYGtgOb6q7Bj4WAoq2hSTp6gk0I3MXZ9oLn+DZT794Nq45pQJCfh8rUXSFNog36Uz9eS8wvfX0Yh7FltzLpGm/qAqsh55QbrMXNwNmcY/t04Ezp1vyLCeRO2eL5EVZ21uHRlHfrkXeBK/v4dyjG4dcsXu5duwuUENhRaDsea7bYY2EEFmlrKfE5KyqsoRD2MgNOaVTj/kgpL62lh9q61MB88ADrtZeikcN7igL4aFoTkYODeNwi2bVkmjW329XnQ2NAOl64vRbuX2zGg+ypE/G4FK7/nOP43b4JBNm7YamJD2wAEL1GSuQEldI1ynZRbofDdswQbLyWALVcFmv9E4e7G7kKc9UwEz+mKEUfiwZb/CwMW22PVxIHoX+Sk5CDeexksbL0gN2YJbA06Q/H9DTjt2IdLCY2hv8oZrv8MRpMi/4cOxgrVZ4Evzkv1cqRUr6t8qV6cpKcI9D4J+7V78bDREAxXb0DXAnmLCj+fX0Vg/qLCrJ3rYDGEdEnQ4WXHYHMfTfx7rzpFHOJw0aqQFCEL/tPbY4zzZ3AUpTWCytpZ84113R1krFcbjqMfAjGzscDz3LnpcOeWg2qU9vXu8qz8okSx/8Q5jGU1D3HGyp84J+EMJutY4OxHYmmp1QVTDnnh8NQO+OhiBv15j9Bnvx9OTu/CH9VKcsLotlYIyADtS1vwOIy3fkdsQMp4UFY4lNdJqZh5cD4dhH77+bjZbBYuxx6Bfmk3kmIaDElOo9HWKgAZ5DbrbHmMMN56EZmIIworNHWx4znp/vCj+BA4EyWXx2boaP6LeznVKO3rHS7PyiedEP9PlM7KThbiOCnBs1Uw4uh75HJJFd6SU1lw6Vn0PaxwLFEfiN1xbNQxccfP86YF/5UEp9FtYZW/OLDlcRhfbYD4eJTyJOtPkAXNTWbzECV3fhzY71wwfsAeKLmGwV6PbJFUEU7K/8JeJcY+wIpaAU3dHXhO62/40Q8ILHmAFUUHc6pR2te7y5gl7AATY6yydTid6rU6Yrx/f7gKpnrJWBalRFK4cYEcPF7XB703PkCu0hiYqaWj2sjVWGTQCblPz2KD7Rqcj8sCqqhgzqU7ODi04LaUHYejhpTW08IBoQ6jiwysnLgDGKm9EFdTa0JncxhCV3fGzTmdYBIzD2FXlkKt4EKG88UdE9UtiGquKvrviEbIUuV84zP1Omy1R+BgbA6qjnBAwmVr8FzA5uGZ83QjdLS88XfoPWzqyZNcmh2M2aoLUef0A+zQKRgo5zHWafWmvFs5DNpPhvN8HsM5yw/T242F89faGO+RiHMTBXeuQvFl4eJ0dexV80XgknymKtYtumkash9vqhnD7asXzLg/pdxlX6vBONEvFBct03F0lAbmBLExxuUDLkwpyFHKpDmqjcDRd7VhdPINvC24yfpSvH9G/u98prTGuFNJqDvpHBLp1rb07CoWwhZ3xaA9LyGvtwdx1xeirWSnjsj9mJPogJHKsxGU3QozL7/EUf2yrsfpkFrZG/Oqn0Lkeg0oUnjz6Eg1wisDjc3OIva0STH9Zc59/KM9GwrOEdigUbmUhFkUwWln7IrvbKK9aEtGyFMyQgQTtJM8MFGV0iK+5YBT3RDOX3wxtcj3o6jI1UUYYOiAKotCELalT1F0hf32FEx1LeGZWAd91wfiyr/a/JGXCtNnflHmpXo5UqoXzbNkqlc2gmerYmGd03iwQ6cg2sDdM7Roz3gIuUG0BoLnQ3gKdya8JrfCBPcU1B7jjHhiECksTWF/vYNz7jfwvfVwmBt1k3GPgix4mjXHBI8UoL4pziZ4YLzg0iaHevegTlhyi6KbRJF95+6GEnnqIkxikeks3PUpm3lIdvCnhG+EoeEGhCZzIKfYBH3HdMePmGowP+SA5YOaCXHyWfhw8zTO3WFBdYw5/laRvAKhbKxkhUN5nZSKmUea12R0mOCFNv/exu31mqX3yxHXYGB9wM3T53CHpYox5n9D9uLwhFnzCchfHmeR4DG+BBEJ5+1uDOq0BLdYdDmz9g7ubijju4SKRZTOyk4Wop2UfGbITktvgSXfHnOvxODgYIGTsjB3PzFXwEmhs/7DTZw+dwcs1TEw/1tFivqcMvQ260+QBdeUkNU8RMmdBwv2O7hQmtceJTeE2w/IT1cS5aTgf2CvEmMfyPI0Q/MJHkghK8j0bAI8Sh5g+Tq9hHS6iibW3iGiFMFCKy6eYoxV5q6aTtkuKuNwUZeb6mUqkOolW1mUme6VftIQf03zA6uWJhZeuAJ7/cZFtyasJ1sxqN8aRKQDtYcewNOguWTc0k3vuclQm/oei6NvYbkybzg6GS6GbTDdLwPyrW0QELcfisuGwnNUII7wFveQk7O9f1esjOSgpbU/Xh8bUXC7RwVDLuPQdYYPUuob4+Tz8zAvvmImPNl4ZT8IvX0NEHVjGVR4h+YWjvY1R+b+e0KcFHmMOJaAy9Y8Lg/XCOxIDkNCfVh4fYTr2FJMfDJo9k7YhLYuJ2BUkLou1EnhOlCPN2LquWFwXvcbK9SId/pNA4H84yQc+7slZgZyisN40rzfjmswZtP3dICBYyL+sqS8RSfBvEVe9cvB/X97os/mJ5AfRrdnlL8teHsm0gsR8UDWxWloY3QS3xS0sSU6HKvKpPV6hk39JiJ19wPY9813KJPOTETnyeeQXHcMTrzwxrSCmwF23HYMNP6KbQ92oZ+kWQfl/Kjs4NlQWxOPtm+u4npyA4xzjcG5yYUpNNyXE2XngVGYcPE3voRcx8ea4+Hx+RyK/F1i6FjecyDsPw6HY5wvpvPddtBvDw5HN9trSK+hg823Q7Gat9i5ovSZD5P8VC9HYvW6ulAYq1cOnqzvC/PM/bgnxEmRH3FM6EVC/hBcR7Q7dLfHILelNfxfH8MIGad1CRdvGu1BjWHplw35ppbwfUuRAsGlTU7xviHKWHiDBUWVJbhJ1L0FaiimxohzGMtqHuKMxT/tlMgdMDX5B1c+/UYuRQHbj92L885z0LMsHgsxv1zyx2SFQ3mdlAqYB+czEUSowfqREbzuH4NBWfS15TUYJAe+lOWRT6Dgly2Pppa+dG6MLnG5xfmwj9JQF+IGSxEqS24i2r6vjNMhZScL0U4K7dJxxCLZnVgkM+XQcORh3Ls4k/9C5huRZ7TmXrDJo83sILw7PERWaJf9ngIyi/9WFjRFmc1D3L2K2g84U5rXPmW4he3EgMKSQJFOSkWLRXZ6WepMxdgH0lwM0djSD9nyTWHp+5aieSUOMHzYNwTKC2+ApaiCJTeji+wovnHFGKssRDOIjKTT2AvoR6leZ00rhtWrcPwynZTMU2Op+NMXbEr3uhEtaAimUhSgM9HzfUZurVFwjPfH9MZJVGiqhOk3VGG10hh8PgoZba99tuN4BKWLVelFEYwwmLzwRdqoCdDixTn5LEw7m+FsUiOMOxmNc+Y84eTMENh2G4YDr6ug79b7uLWiS/HtH0VG1usMRpT1EwTMFEgnYr/AlgETkbLrrmydFLoR/ZKQhgYtGxdt1KU5KeCkICFRAS1b1iActuHwAyVMW2kG9YKb3Iy3wVg3fiR238tF5+VheLRdm94pzfu5V/WSOSkPyUnR5joppYT4y7f8Se47BqDLigj8rvY3jn+6BKsyGJ04b/dg6LBYrHpytDg9IuMyrLsYwPFjdQw98AxBeV3Pif7z8EgMfLgAT47/XelN6LhOStftytjc6QjdRL9B1YG78ISKyzsUOsc5j7BObzlq23TEkRmH8VbASckvHj+NH91LyYX+RkWpHcmQTlWg1NJrVBsxoNgYqDB95pF0QapXP0r1Wii0Yp6NF1sGYGLKLtyV2EkhJ2zXQLrBDMPvqoOw71UwbCulv00KberNMCMgm9Ig6aLktQOGCzpH7DewH9gZy8J+Q1F1BcIebpOQ7Uqcw1hW8xBnLN7VS7Vh1zZh6iJ//KLU2vBo2otz5VG/9wKcurATo2WbVC/GtiErHMrrpMh+Hpnhy6E1zAtapyPgOFZESlQ5DQYxgBbvkRRy2pvNQEA2nVM2AXjtMLwEqQX7jT0Gdl6GsN+KUF0RhofbuOeUJH+idFZ2shDHSQElz0WuG4zhm+4gTa4uulvtxZG1FEGu8RkPAj1wdPd+nHnwnayX6hhygGoH57aQ5GOlf/aPkAVNX2bzECX3fKjYdHFkMmA/lN3CqD6Oh7TkP3dSZKeX5XFSUujioNmMAGQrtIRNwGs4lDzA8MZ+IDovo7NVURUrwh5imzBWwXLtOZl0Ca4CQ+9+xOpF9nrF+ihls3uV7aRQBM7NGK2nXKD6iy5YFvoIO7qHY14XfRxJ7YOZywxLZwOSb4jekywxkI+TnESX8QKnqGO41blf6L/cCW7r9QWKodmI3TkQPWhzZCnNRdDjgxhckIHAilgGTaO3+CfmPMwE88DIqNuqNxE/7GXtpJRUt1KdFKGamY0Pt05i/15HBH5uhabJ/rgem4tOy0LxuMjw4/+heO//k5wUFiKWqkNvVxzYNY3g9s07PwVO6B8HX44bQufWdESfMuZhpeC+QyPvHQp9t1JNyAri/07GqXG9cXniA2ICq/xr4HwnRQ3Xdv3AuN7rcD+Xon/h97Cld/6RnRk8FwOIFevizNvQHXZQwEnJxqU8mtpPUBh2hKJXs1CCM4b9iiKKqhRR/I0q2nZ4Er66uJ9HJehzfqpXP0r1WljKOiYnZaseJv6wl8JJoegYRUhbzgxCdpWuWBX+kHCrjHS9TJwzbUFh8lTIcdmL3pVkL0JRTQrhToxXjyPWQBjzdenWhziHsazmIc5YhTPNwdtzMzFyziOM9gzGtl7vcXyGCRaef4WsXCLLUJ+L81f3YaRkBTjSG2H5q6QS5MHNbBDF7iXjeWQQda+eIS7re+La1gEQuTuVy2Aopwh4f555DqYtKA0yVS6POehdCeYgMiJjCmpSfleB1ubHiFjDc1Eo1lRE6azsZCFa7gUTpnTskG2zMHu7H+J+sqmyjoh36ihBz9wWZlWcMXv/I+RUodTwR5H4R1XWZAWlgPZHyIK7RGWlE6LknuehwGncAOxXOY2wHf35Wan+cydFdnpZHiclk1KrWlAqZqocl53yXUl2Sm4dcwFj3e8qWtj8OAJrhB1g5dlzMomNsPNoePU5hZdnBVO9xNoEJHqoHJEUStq4vRzd+u/Ei9x2mHPlBQ7peMOk6WRcqE7sAx9cUVqWVIkZcqnmrMdho8+TvGY9ltsdsd1SU3g+ehJRzapNwplv9WDo+Iw6kXM7+WYiaBb1XmDtQwylNpUgDZXWqPsojxYa/dCpoRzkq9REvSat0UlzAEabGqNvS+H5KeI5EUB6zBlsWLQW5370xyK7NbDWb4YLRsST75MjQyeFjOCW3dBXhQqb5auiVr0maN1ZEwMMTGGs06KojqBiIynZCJnfBfoH48GpPQ6nv3hiUqlOSgo8iHr4vMGDgpqcYk3JeboJfXpynYFu+IfyLDd2DMC0bifQP8IHM/jS/iTSf6kfLnRSbl42gr+hGmZdTidqzouIcRyJ2pxv8DD7G6GWN7Gn6kp00RdwUjgJODBUCbYhLFQdQv93Za6QBnqZOG/aEhPPpkCBWDquEUsHcS7k/1W4PotK9cqbRLmclDQXAwpb+yObCuQXEkvQHolZgqQRHTm7y8jZtY8FuzbVjH2mmjHBMgtWBJZq6GFXLBu1KEUxkRhMJKOQEOMwpnQ32cxDnLHyccqMWge9oVuRZhWMB3sG5NcasD/g4kJDigQ+QlquAlpP9cRDp7FoJOOatNIlJSscytYF0caqDOfB+YqAuUOw+MdyBJ62EI+2uzwGgzTLoLTfkO4vI923J92vbeyGz15mJeosuH1FNKivSCy7FtVOJtI+Ldnq4Eb5y6Yglp0sRMudHwhO+js8fvASSWQAdumhgZbVY2DXtzv+vfMbNQbsxOPrSwSyQ2QJvsC7/ghZ0JxkNg9RcueQUzwO2st+YMqOmeheQwCP7HDssjmE+5y2GGdnh3FtFFBbZTBG9eRNsa5Aechszy5jjmLsA9zLeA09ostm14ax22d4lTzACi506YyrZYSTid4QukTFGKu0mWbRBW3nv89D+9TLCk/14s6hXE5KXqF6D67hqEa3yA+wtasXTJpMhherN+yeRGA1TyfMstUnB8mvH+HhvVD4OOzB8RuJqNNzBvaf3o9JKoLB5GxErugBPaLTlKex79xeB410EoTaKjR0f4x9wtr6sp9TupcZfu6JwjYtwcL5smpS6sLYIRw7dFn48uYRrrrtxt6zT5BaUxXTHQPgMLFdiWJT0U4KpVxcWobRkw8iecRxBLpMKaBZzYSbzJ2URDQY74hbW3TA+voGD4JcsXufJ56l1abaHkf4HRmPtgo5qFgnhYXby7sR/ekLsLnF49+oeLy01hMZRFigcQi9Qy9htmCUjR2P/frqWBiSjY6Lb+DeaA/03qyMILrpl3WhvzhbXZGTEjQPtfymQXXcSXyuOxZOz72oTuMgRk3+DrtbG9E1dL4QJ6W47qEKUX3eI6rPknX/+dEWA260pZtAo7GK1meRqV75TspzSvcy+7kHUdu0ShTOl12TAvw4MQrNrS6Rk8LdOx5hq1ZlRFIoe4Giv20p+vtTURc7X9zAUiWBm9GsC7BoaQK3ZAX0WHcPUVzyBnEUougZUYdx/oOymYd4Y4FLPjGqK+Zca4vVkQ+wmZdUhJqhelsPxCTnl/hdQx8H4wIxpxIb1skGh/I6KbKSRyYe7zai5mYjcNp7ETRLvYwRNMD+lD4pKXAzbospF35CUZcuH28sRcnlYYGWJm5IVuiBdfeisF5iwhLROisrnZDUSRHUoqywJdActAexua1g6f0YToYVnNfCN4E/Qxa0MmSkE6LkXpj9QYyZYu23CmhP/XyeHxhUaX22ZKWXpX6eOI5DihuM207BhZ+K0CWb6sZSQVbTLFywaAkTt2QokH18L2q9ENuCZiDOWEInSg1d53XGiDNacH1Z8ale5XZSWFEr0V13O55XHwPn9z6YWjME8zrr49A7RWjbPUD4KlWhtLCp4b64o2QA/eZCruxYz2E/TBvLb6ajRh87RN1aVYK7nP32EEZozEdwJjWt8Y2GXZIl1Her4vK9zeA9f4swzonG+n6W4By9jY3dC0yOInYvCQrnqRjSfWI3WHh+BZoRa1Mc1Q0IXCSJclI4XzwwSdMc53+NxonYC7AsSq+oGCeFv3CeyAdcTaBheQHf5Vpius8LnKDCq4p1UuiGZM9gqCy+CRbVH+x/E4z5pRhB2SHzobGuDQJClgm5saJUMOq10nm6D9Ko2d5W4/vwbuiGMOoYXkkBeL4ly+uktPgdieXd6QbyhSL67biHPWnWWNPwFC4tUEIOfVOJSAqXtW1aW7qJ/Irc+uPgFk8MKiUaUWbBd2obGLsmEdPOGbwlpp0iVatgff5BqV5dKdUrnBzAdqWCm4Po9f1gyTmK20X0y8XsXmU7KRwk7B8KpQUhpBMDsfflNSxoUznX98UNuag2RUiDvSL2Io4KFoVEY7euZBn3om+K89VINvMQdfAXqGzGWUxoMQmev8fg5FdywgQvCVIvY6amAY59aAZr/9c4VjksBjLEofxOSvnlwaLGaVMxwaUT9l9YD11JGstKbTCIZc1J8BBP4z6qTbn4xhH8/ScL2LCIOYijsggh0bsh8fIQGUmR1doQJ82vDGjYr3F4ZC/Mv5KGpiYncffs5FKYCiWAV6JH/wxZ8DVzLJdOiNqr2PgQehZBLzKE97TLjsKRxSfwkNMahv+sofo5RdRVG4nxfbmZNJXzV/49QsQ8xdkHeJo5NqPMjTeOo/jrcYvYKTlQIdbQ6N26wmvGxBlL2HTz+gYNg3sv10pJ9RLfSelgi+CYfdATOK9TTxujjYUP2EMPIiZwDtrIJ8NtXAdM9SYOw6ZjcCzSCzMEi25zYrDTaBtanHTFZKEF1FRovVMPXZaHU1HtQOwhA2ZhCQMmFX7T1WDk/Am19P+FLecQQoaF4+byTsINVlYYFndfjaa+IVhRWM0vjZPCLdY+qI/2868TvRu3+J9yj9X4rThRTkrGmQloaXYeGR0FN3keJ4UoER/v7CNUuUS9P1+vSq9J4bzfi8E09k2ikNTZEo2wVR3wpEIL52k2RBfdwcARCfIa+CfqPjYVOop8i4CFOyu1MKeqCxm9pdBappIj3GUcXL/URJ26bTD78kNsL6SUrpx9qmgUPidFno04YpbTJMKDHGU99KvVFNZX3GHWWB5cx6ukkwIke0yAivl5JKE5dTaPJcIJAW+X0kYcRtI3Xq2D8adjKazKs1gqVJ9/UspdfgPHqwtLRgqLYeZSV3fH6qa+CFlRQBOeR1ueT0FctpOSg0dre0Fr02NwKpXdi+sdEOuSiRqmX0iDhhAK1YwLFmhnchqp6msQeW+T8EuPMnVN1GFc8GOZzEPMsTLPYiI5KeezRsCBiCusS+y7mUSJ3AoTzzXA3OAY7B9YKVRrBd5aRctDTGO1XPLIwRsPK0w43BTbvLZiqJD00/R753C1hjGM1ITE5aQ1GCpgz+N8PgkTtem4kKYhhL40g25p28HkdCrU10Ti3qaeEkYZ888mUR3nZbVGpY+ksMn4M0Lfmf5IUbGB543DGF2ptVqFS+MPkEXelimLeYgh97L0+T+vSamEs0OsfYDbGNuEGmNTLbiGEIr8DLqEameC06nqWBMp0IqDF1+xxiopkOxbC9F1qBt6EqvXmYmS3MRIv1mJle7Fqk8f/fY8JvFVACaT4dQZZp7VMY1CoScKQqEp/lbQGHsCH9hUjEksXbtc98Omd8N8bzcjDueWmmJ9ziZEEnNILdriFEu4wTl4ulGHUi3uI6fm33Ag1jBrIZt+zqN10NLehEc5ClTkNhj7oy9jNh9DEAtpP1io0aA2FKnD9VhVXxhT5GJK4Tfk3MM/PfrCLpoiKQ5EQWzDS0EcCJsOo3E8UZCCOBM3FnSD/v5X4NSnfL9X3jAXKNLPvmFLHXkPIL6aEU5RkfhkgZB/OnVbbzrVB7+qD4D9k+tYXOA0seK9MHvEJDjH5ULJNhgx+/SoRwgH8vL8AIl6f74qZCFgRnsYOn2lvH9+CuKMa3OhPvww4nMbkvH7igpX6+Demu7ou+Up5Eor4pZev/J/mUQRJyViqkpvCHPPjzhlJITSmcuGpW2AhI0v4ch/fcczehY1b+wKfWJZyW0zC4FxRzC0Eu0pvjUeaIMuO7vi5lVbcNWO88UVJqqWuJAsh3azLuPpEf28fO7sa3OgMpyK42uYwP3LeZgW6kNWOJb3Ggz7ZzmoO/wgHgXM5o9a5PGQG8O90RKE3N2OvtUrSZ/lqQO8+vG8Bo4LhYRRWGk/wKrRALUViVJ8rCp8jWOJ5a9oUeH/sXfWAVFt39v/ANa1u7tbsVuxsBFbxO7Wa1zj2q3YrYgKBggqqNiBWBjY3YXYgoSAML5ryKFnRvTn+73Dn3rmnL2fvffaK5915d9K1JpzS4wUZS+jAbF6GUXsz7Ao0Ufpk2LFU8de8Tz3sxsv7t8HXppKrQazuVVaUlUlXTSK3dkX536lpH9RsIztKrbSU0VzL11EF2tPMpo78FrOe7w9/H56HGp+S7xv6yXda/DRNBIFvsdW0xil3FI4vLFVYQbf7Myee1a00bTM4CeX6deuh5xBOatFWm3EM6M5Dq9tiEv8hKrPWq2HRFC29aPDYn1Grp9C/azhzYJDMfnBd78PPDlvy6LlnvQVT3HM+yL0scCo+yZe+fiTGKv/80AuTa1Fg9m3KC13sNu0clGGiK8z/UqZsCW4HdZXbaWniuanQ2mkhHV5T/h8aLcW0Wep7rrHxMbnwgyatZjJ1WxdWb9/Ez1K/B9dMoLVn7AWyjX7+XGot+7x7tM/wUjRWkaoefrUlQOBl5haqwGzb5Vmmrsb01TaE/gKNXApky0ESw+3q7bSUyW+I6rut6INXemYLEdDa0Nh9bLlN9ko6tWkBOpnoO6sUxyaZBheSKfgw7GRNGi9ke/mOzm9wTQKDMlxduhXH/MtjwmU7vB6BunIW86Qohm+4XH3Js/SdmHHWStMv9kxXjz5hiPGYlYh3IhRAvLlJCNrN2PlfQW5Om/DfXuXGAxf4ajJdza1LcOA/V/J2N6a+9KfRRzXEf/JK0sTKgxyJa/ZBPqm3s104as/d24ykeQckU2aDKgrhbSnxqj0gvhijWkBYf/xU1GqQz7hvmUMPUZYcy8gM/XnHsb5nyqxml35SrOdAp138jlZI1Y9P8rQGLsk5M4calWSGoMgPdKX78bEv5uTRQwxqwNfyfrjBM5XA0hVZShLzZNz06AHq4dVjLZNEnt/2MOfsWqdj34HAkJZWp6HsrQE8+GyFX/3GMX2B0FkNVrAUWfJuU0VIHRyRaWnigf6tSR1z3V8FI2ummcr0cfES2nZprhQ5gVQZfZ1LkyOnQbodWQwVdqcpt1pYYlLIDoS7D6FKjXn8qaTPU+lviBWeUuwdEFePB9r928UMB7K+N5VSahFQaJjj+eBL9amFF5egdOROZ9+4iEsheHX8wAAIABJREFUQ8vNGZl08UpkWqHyuQKyBj4pYnc49zk/HeOWYrD7ZKfliuM4DCkTrtD6c22OMUYWgQzfd4JZddP8tv0cKBGechuF1ev4SArGEHCKV5aYVBiEa14zJvRNze7p1zE9d47JUYdKlHwla5knBnWluO/UmLgLh6UX0vw6wup18S9arL/H/v65w40BBV/cNjBdsPhSoD3/TOlKGXXz+jVaSH9prmdE0zlvaGlzke3C+KWcqo8UlzdpPJ8Ppja4bOkUanyG/QVL5/nFzLd251sBY4aO703VeDeVL7ad8mJm/5VUrSx5LU0/42fc1nQcMSep/rf8L82kUZMZXM8/mN3HVtAiZ8TkJI3y0HAadXCk2MozOPSJynFWvD/L2rnrOP0xC7X7TmCYUa5flFqpOQ7B0kl58Xxr3L8VwHjoeHpHOMLi2Ae+Er3OK9Hrr6laCY251L3FuyCajsOPm+u6YzJCZOx3uezi/dMnS6cdkh7ROUbTs/Af+NrSSc6U/ddUtLJ8LVkCcQ1Qwfuza5m77jQfs9Sm74RhGOX6RYmu/m5MN2rKnDctsbm4XRi/Qk8HF6c1ofH8D5jauLClUz4VA/5XnA9N1yI2+Oqve9Q5f3NsJt3MF/Go3Dgst06lmaQVxfknke6za+ey7vRHstTuy4RhRvyS5fgj1kIQ0Hgc2suqOPFOxEj5Y2WVJvqIWnIgDB1/t+kYNZ3Dm5Y2XBQdOeyIXmRak8bM/yAOcpctdEqI1l+Db0WuRyiJQgM2V5QGjtK7Lr44SlKvhVqRlOAc1TDK+5EPeZvTplouFM9PY2d/WyICK7Be2IHCMdO2g56xZ1JvRqx0xSMoXHjrGZCxfE+W7VhNz9JhvsWQd2dYOWkWezyyY1i1BNn13nHR3kYaPYZQqNU0topRUDtT/N4av+NDKNfCifoO99kczf0n4dpljSkrBdbflIZS2nIMszvOshbCBOF/A/vVTrhdsGOj0118FHokz1OPXn270HVANzK6Lsfadhsb9j/AX6g59YTVK2uOrKQI8MIveQ6KV2pA+4HjGNa6aDQDRfHmFOvX78bZdgsHH0pepV5KCjXuTdc6hYQaeSQdy4V7YxSfOT6+Me2WXpNvCwjSUC230QSsbCaTe1MdqkqxbqC8uXjX1ThZ9aJkxM/UfL/Ple0ss7Fl20ZnHsrk9eT9abLlIEvyALz8kpOjRBUadhjE2CHGJDu3DutjZ9iz0Z7rXtKFOnke6vXqS1ezgfRvEKE4aqT9xfvwZ/tulO6yE79WVrxw6hWuuAVxb6/w0Lu4sW+bIzc+/yCzYXvMO5kzXCisI3uOqL5VFFwLo7qc63uXvT1jck2LOnnlXyrVmsOt7/Ij/YwYr3THeUjM4rKfmJPfNXYutcZ22wb2P05L9e796WY2gMFN8vPj2jQaTMyCjfMICknDRbsFG9m81ZKjTwNkP6SicNN+9OzclcE9a4Ub1KJ4nFnC0IGz2PsoGWVbm9HGMDPe1w9xwlMMcAsLhtXKIsrA79rPX8JSvaSB4/GRBWNFEUKeLqNxWemZFHaoKDfMjuPLWpBdXwqG7WW/ul3AbqMTd2VjR+ylLl0HMMgoT3TAvbbTvmB3HFN1ZucdidxELqM/e8zzSYTvM4pkJRnreoNFNTWtCVFzbSV6cGyaGX3WelChaycM9W6wx/6OMFwtYs1MMUBVPxsZdQ3dVGQ0Xom785DoRcXiNHGxtOLIFZGNNid4FiBnL0Ve6nUzo2H1ZkwdaBSPsqPBOCLeoNW3ZK+5LGDgwPkc9itN245NKZcV3t8+xr4LYDxzIxY9yqiwOSl4KU3Bio92CXM2pa7MNFfx2sVZ9Kcm5gk9psl6iNEYEbELO+bGrHR3Zki0Km9JzXWxxOrIFU7b2XDimfIMpiBvvW6YNaxOs379MYpJzqEcn9rjEDx3mWNoZsubkIQMFOUAs9Nt10NJhY4ewVK8ccHS6ghXTtthc+JZKBV0irz1RJ40pHqzfgw0UunJIQyYyxtJnZRLYChFbmphOnSVKOCvW45jTDPrw1qPCnTtZIjejT3Y38lHz0VrmGlaOHoq8q86H2qvherG0nDdFYF8efWIu+4ncbDZwoFH2Wk+cjr/9qlB9gRsQMVLaWopdTkuYYeDytNcJeqkTfpb4mdH8e4PWIvQo6HBOH5KVsWBSYJGyp8rq9TRRzSSA5HQiHPp2DTM+qzFo0JXOhnqcWOPPXfy9WTRmpmYxlLKw36o3bfCfht08R8q1t1E+QRTvZJ+LdQyUkKbOV6bQHrXo5x/9AmF1ANUbNCEmgVi8ndG31z+ry5y/ORVnn81IFupOhgblSZzHAc/4I07J8WD/uy9sn19LkrWMKJ+mWyJ5rv6C/992REpsbqxggYxcyqCPDi/2wl3n6xUMm5D7QLxJV0kLiSS/gk/nro4ceSWN+lLGtGyUUkyKm2xwGecsj3KqzxGtGtcPHaUIOkH8vveGHSFaTXrMvtVO+webadDos0D4huaRPHcjvKkSFNqRIXOoh6Wppm3DzjgKt7fLLdnM+DxcF5Kx3utP/c7EFJ48/DMcS7c88QvZQ4Kl6tBgyr5oqcJ/Y79HPKSE5tPkaJVd+pGetpVAQjC4/xunNx9yFrJmDa1C2jVRNN3X2+Kt9tJzklnpf6oSjSFR/HpOk67z+FVoDEdjUv88jPg+/QsR6Ur74fk+ahUvzFV88UlJxR43T6Ag6t4TbPcZvaAxwx/uY9eSbip1BtHEmzG4C88OHdS9tobvINTka2IMCXWr0yeuCJWfo85bn+QGx+8cN+6iBc9rnFufNEkGET8r1AXB4XXbQ44uEpUIQu3Zw/g8fCXQkaRdAui7jh+KRgxXu4nTU/tD97gg5c7Wxe9oMc1V8ZH75icxMPx5enZo5y+9YHk+WSfNK5KnMdDajV/5fn4lWsR8uwIG4VA5kfG3BSrVJtaFXLHyo6IG1Q/Hh+35+CND3i5b2XRix5ckyyEX7ccf8ZaSPMENfdEEm/FxF73p8qqX62P+D7l7NHT3PqQnHyV6tO4agy9ITHcNPh/H3dbNrrqYdS/M4bxMbQq35fEa6G+kRKr47wGs/slj3oLR3sZZuZ35MqcKokaNL9kCLqXaoSA9/ERVG+1nRJrb0l/m6SN1MQeiJL62JAOnxbweFMrrZRpjSane1g9BBSfsO1amt63zXA+v5SGSadXqvf9n3xK2RvKsMMnFjzehBDj/Tf+JF1zXYtyHOx8l329s/1Zcw5yE2a9Dnxa8DiUqfC/8Kd4u44W5Q7S+a7Urf1xy/FfOx9SyLyuBeUOduauOF/+pOXQyao/ajX+e/pIEt0b/98aKQoPyY+vsoU6p07zj9r9WP4LV9ifPEcfzv7bkNYONXC4uJJGv1BBDX66iY5NNlDB1pXpVf+vCh//5LX4vxlb0LUZ1Gmyj0Z7XZhX9zdXaP/slIOfsqljEzZUsMV1etXfxs//s8P+2d/7nJ9I40E+zHRdhfHvIXRRc8jCqrWpI002VMDWdTr/jWPuw/mJjRnkMxPXVcbx5oWrCWDSPvZfPB8+55nYeBA+M11Z9Scdjv/iWshu/lNl1X9RH0mqtUjQSPHdakLWXvsIUdLl3taGEz0JZaCfB7cfepO5eElyp3rH3gENGMciLm1s80sKo5Nw5LpXqSIQ8oJdA1ozN9kcjqxtTZIzOyp8eXxoJZMXuFBw7EbmtMmvi7L9KTvQVwpyWw7m2eC9WHVJiN74TxlwxDgU+D4+xMrJC3ApOJaNc9qQX7MOj3/ahNQbj5CFXNs5nxnbfWi/eBndw2sJ1fvxr31K4fuYQysns8ClIGM3zqHNf2BBQj5JPdz8GWz3ac/iZd35c5bjv3g+Qvh0bSfzZ2zHp/1ilnUv/YdE6/+LayGy5k+VVf9FfSSJ1yIBIyWqX0lItm7YP5VOlwnlof3KO0ma182pU50pFwOkRi0nhbMH8TXXYOwOzKDBr6Bu+pVz0b1bBIpQPk8fzgbFAClSbpakrCjB9x1YfiIVLcxbUCqDNhSZugX6FQgovrixfPRyPnVcIIbK/2eGY/B9HJafIFULc1qUyqAFLfGvQPRXv1PSWI6tx9a7Jt1MK5LtFxFJaTeLYO47LOdEqhaYtyjFf+KYS+rEsfW2eNfshmnFbL+IZU271eA/eD4Ub4+x3tabmt1MqfgnHY7/4FooG07+qbLqv6ePJP1axGmkeF3azjonF046HeLOZ0UoK0qeGqa0btiCHoOaJNCFWkshl+jPhP5wxSBGr7nI57RFqNNxBBOGt6ToL6EnTXQwugeSBIEQ3p4R9p2nlRnVMzaVc5J8QveSPwMBP3e2r71G3s49qJ/vF7F1/Rkz1Y1Ch4AOAR0COgR0COgQSCIEEkz3SqJv6F6jQ0CHgA4BHQI6BHQI6BDQIaBDQIeADgG1EdAZKWpDpXtQh4AOAR0COgR0COgQ0CGgQ0CHgA6B34GAzkj5HSjrvqFDQIeADgEdAjoEdAjoENAhoENAh4DaCOiMFLWh0j2oQ0CHgA4BHQI6BHQI6BDQIaBDQIfA70BAZ6T8DpR139AhoENAh4AOAR0COgR0COgQ0CGgQ0BtBHRGitpQ6R7UIaBDQIeADgEdAjoEdAjoENAhoEPgdyCgM1J+B8q6b+gQ0CGgQ0CHgA4BHQI6BHQI6BDQIaA2AjojRW2odA/qENAhoENAh4AOAR0COgR0COgQ0CHwOxDQGSm/A2XdN3QI6BDQIaBDQIeADgEdAjoEdAjoEFAbAZ2RojZUugd1COgQ0CGgQ0CHgA4BHQI6BHQI6BD4HQiob6T4POCIwwEuPPlKmqL1aNehEUXSJsEQAz04s82WN9VH0rlsssRfqOk4FN7cP+HIwfMPeB+YgqxFq9HMxJiyWQwS+ZYfz87sx/nMHV57h5Aqe1GqNm1Ns3LZSOyXiU9CvSd8HhzB4cAFnnxNQ9F67ejQqAg/D3kgHme2YfumOiM7l0UNxNF6HGqurd/757z3VfAjAVj0DNJSqEB29YDT5KmgL3h4fCEwoY/H+T49kqXLRf5sqTT5mu5ZHQLxIKDgw5mdnM/eGZMS6pxKHZA6BHQI6BDQIaBD4H8bATWMlBA8D0+n+4C1vK02kAFNc/HxxHrWuxdhwvYtjK6eUTuE/J9x3HIR85ZZ4/IiNeZ7XrLVJCGFT/NxhLzcz4Ru/Vl+7h3fI5VQUS4zV6L38m2sMC9JXF9UeB5jevc+rHhcjM5921OzQCq+3D3CVsvjYLKMnat7UOpX6qYhnhye3p0Ba99SbeAAmub6yIn163EvMoHtW0ajHeT+PDtuyaJ5y7B2eUFq8z283GoS5/wjF1TbcWiytoFnGF2+IcseBie4j/Rz9SXkjaV2ey2BXyk+X2e/03ke3juO1VpH7vuno3DliuT9S/VHP/B95s61V/5iSOmTsVw7+ps3onI9EzrXyJXkY9K98H8XgcBX59njcISL957h+fEr34KCCAoKwN/rDY99GrL18hqa/Lwn4n8XQN3MdAjoENAhoEPgP4NAokaK95nJNGq5kI+mdlzc3I4c+oJNyDMsTasz5HI1lp/cw+BSKTQC7MvplUzb5o7n3eM4XfDgu142eiRipGg8joBLzKjfmJnXklOsRi0qFkiH38OznLz8Cn8xWPSSF6L7jnNs7pBL1E6Vv+BbWDSux6SXbdh51or2uaPiJj5nxlG78QoC+zrhtqYZmTSatboPe3NmciNaLvyIqd1FNrfLETq+kGeWmFYfwuVqyzm5ZzAaQf7lNCunbcPd8y7HnS7g8V2PbD0SM1K0G4ema+vt2JNSHazxDEkIH30yd9jGJ/uu6oKoxXNB3JxeiypzUzL7rivji6rGy4I4N6YcDZY8JDhZaf45e4351TXb81oMSPeT/ykEArhjNYiuY2y47RUzaqhHyryNmbLDjol1M0WXR/9TGOgmo0NAh4AOAR0COgTURyBhIyXgPBOqGbHwYWXmXj/DhJJRilvA6ZGUa7yKD3UXc/HYKEpokwP1aROt8vfHOSBrwkaKxuNQ8MbShKrLszHLxoJeFTOHX/z+3LMeRNsB23go+T3Jio7g+K3l1FeJivjt70OxttvI8e9lLs+oED0dKuQxC+uVZsKNhqx9dJCBuaKZN+qjnsCTAecnUM1oIQ8rz+X6mQlEQR7A6ZHlaLzqA3UXX+TYqBJapJ19YlOr/PR3DiBrIkbKT49DnbVVeLLJtBZrc4xnwai2VCuag3QpomP6xbYTRc1P0MjmMbu6/hqzMGI5Ak8MoXjrR/zz9AhDcqqOQ8VISdkCy7fO9NUygJgkm0T3kv/PEFDg6dCHOt128LVEY5rXLUOB7BlJmyYNaTNkJkf+ctSsb0ieXxmd/f8MMd1wdQjoENAhoENAh0ACRopcrBI5KdPPCV/DmVxzm0IZ1VTpwJMMLdGUNa/zMuDAHdY3S6M5mgHO9Cvchk3vsiRgpGgxDsU7LLv1xWeqI6NLxczv9ufcuGoYLb7Dd4NSjD97nQWRXvFg8aZXp8qMW5Sf7o7btHIxajZ82NImG70PFY7xO82nHucvRGnf3K4M/Zx8MZx5DbcpZaJ9P/DkUEo0XcPrvAM4cGc9mkMegHO/wrTZ9I4sCRkpSTEONdY25MEKhluXY84co3iiUl5imBTF7GhDbB7v4hfbKASdH0v55k+Z8mYP3aJt5ygjJSRVW6w/7cU8dRKtue41//sIeB9iQKXePOxui/3UBmRLet/G/z6GuhnqENAhoENAh8B/DoH4jRTFK9Y0K8WwY9/I3suR55tbx6hf+MLmNnnpuz+A7D1283hrW82LugOPMLBoSza8yRy/kaLNOEKec+TgR+q0rkJcplPwrRnUqDwd95Bc9N33FMuWES7MEB7Mq025SZfQqzCJM26zqabq3Qy+ztQq1Zj9oiVbHu6mRxJrG4pXa2hWahjHvmWnl+NzNreO4Vr9spk2efuyPyA7PXY/ZmtbTZPXAzkysCgtN7whcwJGSpKMQ421VXi/51PK7MRbe+7tQLdiXTjcwIbHu7r+ovS6qDMfeGoYpc39WPZkM9Gh1xkp/znJmGQTVvBiTUtaXh7IyU1tya4zUJIMWd2LdAjoENAhoEPgfxuB+I0U7x10KGDObu9kGE69zKWYqU8ESfpRaRqveAJFR3LyzjLqapqmr4Yiy68Yh+9WTLL1Zl9IWSafv8rsKlHRlqCL/1Cx7iLuBf9FhRG7ObqkWaRi4XVsCNVaWJFy1FHcFtVTMYAUfLqwkfmWbgSVMWf8yEbk0SL9zXtHBwqY78Y7mSFTL0tNTYUYUaCg04ws3ZgwyE9yZ1ldNINcPSMlScahztomcrZ89nSnaKeD1P8NqV7KoQTs7U6BSTnYe8OCWtGATcRIUXzmgdstPIMSpwjT+ysfFasWIUO0bLIvvHj0BI/P/nxXSL2C6mv001GocmUKaBCoDHl7i3P3P6FITHbpZ6BwFUPyR4sK+fHk+E52Hr3Kk7cBwmpXhKrNO9OxUVHShb9P8fk+brfekth09TMWoXrFfKSMNo7E35/YsKP9v+IT9y7c5l0UM0bof+tnLEa1QgHcuP6Kb9GWRYgzspemZua3P4GRfMDvCcd37uTo1Se8DUhF9iJVad65I42KRqAUPsqQ+8xvMpwUGw7zdyEvbu7bgf2JazzzhnS5SlCrdWfa1y1I1BII+971izySupXof1K3kqs81Uuo1KwovvDw0k3eBMTYd3qpyV+pGoVjDCUhXIPe3MDt4ZfE94zKS/TSFKBy1UKhzqkQrwec2mOH0/1CDJvXnRKBQoxibcXeSy8JzFCc+p370rVGzjjZBP2fn8bB7iAX7nvgHZScDHlLCi5mdKqjuneC8bx5ngefo+Oip6ePfrKUpM+anyJFc5FWRe7GPSd9MhSuhmF+BS/dr/DUJ8b7Iuek4PMDN255BiXIOhgKh95f5KtYlXx+t+LEUC9lLspXL0GmmAZq0BtuuD3kS4yl1s9QmGqGefG+fZZ7H2P8p14aClSuSqEY/im/J8fZufMoV5+8JSBVdopUbU7njo2IuR3VPlsKL5488CFXoWTcPbSbfSfceeIltYGFDGncuRuty8ZRO+X/nNMOdhy8cB8P7yCSZ8hLyVqtMetUh3wRQiCeOSc4rvA55/ka1x5Vdz1VvhD8DncnWxxdbvHiSwhp81ekSdfumJSLSAsPf1ad+Sj3vgbyNm8efd68in3O4t0jai+Y8sEg3txw42HMDaWXjOylalE63EMS4vWMW498yV66HLlj3ivqyLWf2LcJrmFeb26fvUfsLR8lZyLhEHKe0/Z2OF94gKe/AVmK1qBNdzMaFlJK0nhwUN531QzJ632bs/c+xpB1eqQpUJmq+X25de4+nxK/PEWOVBE5ovxeCF4PTrHHzon7hYYxr3sJAp8dx9pqL5deBpKheH0hYOpKjZxxsDaquccSlGUJ4paHr3HtiXAs8ite4n7lKdHFYDgWub25fvERMa+i2Pe6Aq87B9lpfxz3p58ISZOTYlWN6dCxMcU1uIPi2+rxGimhynqdhaKsp8R43SsOD8wW4x0h3J1dg4pTrhCcUtK+XhxiUGhVvQZ/aiiyv2IcijeraFJoOKdzDuLQg7U0UQ1YKDyw7VaD7navCRYzpFSP1exe05Mir7dg1mQY12uuYP/WPpSKpnl9wqpVAfo5+0GKGsy9cTZa/Y56iARx8Z+K1Fl4T/A0Zt2rw8SG/C6za1RkypVgUkra14tDg8KIDNT+U8dISaJxqLG2CQ/bF8eexeh4oC7WvyHVSzmW9+uMKWLTiGuu44lWNy9CL6JwPs50L1GUbx/ew1aLqSy7loVGxuXIpBc2ux9f73Hs8A0+k4GqgxYxrXsj6tUoHKbw+97AauwIZgmBw8sfeahcuzJ5k3lw5eRlXn3TI3Ot4SyYZEYTo2oUUDu9TM7lnJpUnP6UonVrUzpbapJ9uc6hE/fxMchPbakByqP4xsdHFzl7Jy2DTtxhWb0wiyz42R7GdR/Bbj0TxoxoTclkL3GxWsjygx5kazKRzdb/0lAuOsXnB5y/6M6JVeOZJf+nSFmY+ibVCC3j+RFC4Nc33HG7xLOco3C9vpAa4Qafuu9XezsrH1QaKS6H2T53LPNPvCXEIDdNJy9irGl96hYKlLU8xubpY7G86itnszid581jYLNaZN/bRiuMBCWe7RlHd3Fg6JmMYUTrkiR76YLVwuUc9MhGk4mbsf63YaRjI+SJBcZDkrNxcwk2dh3ArtRdGT+wMfm/3+fgmgWsc/WmUIf52G4aimGo4ikX7HVXXJ2WMHbWITxCDMhjPJkFIxpQpHhFqdtSNVK8eHzxItfOWzF5oj2PhBAjQ7XBLJ5qTsN6NSikwQWhvARdzzixdMxMmYeClIXrY1ItZ7Qi/h9etzhy9A5eEtOsOdyCf7s2pFb6KyxfvokdO47ySG46g+J/c/JwA3Z37MFKd69IRUAveS6azHHEQVJto4YVzONt/TEZYkdw0ynMHFiD9O/Ps3nWXBwepaDG1IMcnVYzPEKvNFJccHVcwpiZgosiJYXrt6Fy5m98enGHqzef45e2JC1GLmXNv8Yo+U6Uczp90pZ5fy/k1AcZW46GjF80nvYN6lM5n0S4LuzHavpo5hz1JEQ/ak71qheUb4rj6fZh9my1YOqya2RpZEy5qEPNvWOHufEZMlQdxKJp3WkkeOf1UcUwBINcTZi4cBQNixanYrWicRop10+5sHfpeOYc8ZC9mwOjcYsY36EBDSrnESPlFK7Oq/lniiPPZG0z1hzG4n9FEatXnYIRRkrwM/aM686I3XqYjBlB65LJeOlixcLlB/HIJt/fbM2/DbNrTsYQeIIhJVuz9Usu6g74h0FNi6D32IlFU9dw3jsnxnP2Yj+2amT2RPDjbfQ3GYJdcFOmzBxIjfTvOb95FnMdHsmVOJWDR6dRUzlmpYLreganpWOYGVN2RBz8H17cOnKUO16QqeZwLP7tGjrn3GKkaL+eYS8PfLiDUd2mcKlEX0ab1SCHz3lWT5zJPo9ctFq4hx0jK4fOSe35iIKqibztb7cTk+8Hw8+ZGntEI2GoVM5dOeO0VM6IrL/IjhxG47EY35zKlWtTKtt37ln1o/3ondz/quCvcv9w9PI8aofqMhrINVlDbfetcg2j5IzMX/VM5vnK7VOncV49gSmOT4VQKeaZDAPD+/Jy+g2w5kfrIXSrkY3P5zcwb/FBniYrRa/1+9hglo/310/hsncp4+ccCcdhHIvGd6BBg8rkESPllKszq/+ZguOz7+hlrMmwxf9i1rAeVfyXU7PidJ4WrUvt0tlInewL1w+d4L6PAflrm1Irj4JvHx9x8ewd0g6SFhF1zrB20w52HH0kir4Bxf8+KZkfu+nYYyXukdq9HslFFsxxdGBcNRXpp+6ZCT022uKWW4yU05y0ncffC0/xQcaYo+F4waI9DepXJp/iBRf2WzF99ByOCnuRfqaaDLf4l66CRfVc3lyT9XBaPo7Zh9+IfMpJowkWjGsv8skwT5jzMcSDQ1O6M3AntB8/jGaF4JmLpcifI3hmb8KkrTZMbpBNc/mjsu/jNVICHMzI1WmnXEgZ6WLnwc6OMbUkBc+XGFFijCtBySsy9dJlZlTUkN9fDUX2V4zDZ3c3inTaTf4pbrhNrxjbu+d1jplt2jDjzGcUSi9ELRMMv9wlpflq1o83ImccUZKgV6fZvusSQaVNMG9ePM40s4TlTQAOZrnotFMkc8Yu2HnsJDbkz1liVIIxruKlqjiVS5dnoBnk6hgpSTQONdY2QTx899G7eHv21VGmenX55aleSiF9bUoVjG6P4ZVEVKLrd+qlewUeH0zpUenYflVFMb8xjWpVpaZLz4gVT48zXDxpoX+KDzj2rULHrS9RZG/JipMODC0t1nKQq0TLGsmzyWmz+R1OPTXQNENfHMC+PuVYVsaJw2NKh0baglxHUrrRCp6mbMe297sxUx5sswCSAAAgAElEQVRlqdty6teQTbXPsK9vZjE8jjG6XhvWJx/NqbNzqRnhYZPUSZsudejt4Em6WtM5fHQK1cP/L8CpJ/naWfM5U3d2v7amrYqxH/xkLa0bnqT7HXvM5NbX5v2a3M/+dp3I1dUe36w92PNSIqWRYwnhqUUDSo47y49S4zl7fQHVU2iHkcyCz8dGU6/NepKPPsXZuTUjz3nIcxu61OmNg2c6ak0/zNEp1UP/z8umA8Y32tDOfRTzmczZI2MoExGlCxAmwRb1+MfFlxxt1nFmd1+KRMiWAEd65GuPzaf0dN3lyY4OCVTVB53l77JGLH2kT/2lDzk5qoCWl0IA+/sUpO3mD2TqvpvX1m2jpfhGOowMmrHB4xD9s4Ru5FAF54YYE1VnXuVHYRPMyviSssUkRrcuwY/bdswYMRn7hwGQvDhDDl5iVeMMYUfg5Tpalh/CkRATtrzaS49wMgp/OUdlmq3jRVpTtj7dQ/fMKjshwIme+dph/TkT3Xe/xjp00yn4cnEe7ZpPxcU7PU1WXOHQ0CLhxCIB7O2elw7bPpO24w48RZao3mSBRwZStOUGXidTnZPK9wKPM7j0KNJtv8rCSGv7BtOqVRXmSD2MVjzl+PA8KnhHYPhevrdTvtc52vfi2tMB+3pRwHQrH9K0Z7unA11VvduR0XMDmoqz8Iiq50oiuMdG16PN+uSMPnWWuVGHluc2XajT2wHPdLWYfvgoUyIOrbqHSmmklOjA3WFnOTq2THjEXsG7HZ0p192BjynqsvDWKcYqvTnijV3XsjxDjoRgsuUVe6MWksFlmrHuRVpMtz5lj8pCBghBTcG2m/kQh+wg6CL/VKzDwnsGNNsgSlDYRgv/0349Q17soHv9vpyvvz2KqVT2zrsNLSk86DDfkpdlgqs7c6u+1WA+2siS1OHnTP09ou6yhV0B++lTsC2b36ehw4632HcJ2/Ehz9bQotJYrqRIgc8Hb0Kyiax8KrIyjeZyLfQz2u5buaPC5Ixy/nGcSZfhlBJSpmdxnMmQh+toY7SU3OvPsL5VhPEdzMOVLag+6hjeqWsw++wZJimzUAL20auAyJAPaWi/3ROH6AcrMhPIoOk6XokcULrhA/b1odyyMjgdHkPpsMsz/D5OSbtt79kddnnyzqkfDTfV5oxjXzIHizyoKfLg6g8Km5hRxjclLSaNpnWJH9y2m8GIyfaEib8hHLy0ilDxp8WZUd7t2uImaSJ0z9uBbZ/T0nGHJ7vC90TYvorQC1+TrNkGPA71R/XE+e82I6/SFkjfGVsPWzpFClAvTk8QJtqV+oxxOc2MqhH/EcLzLR2p1W8v79LWZOqRY0zTVP6obPh4jRSfLW3I1ns/gfo56O30XCIFMS9JBa+WSzh5lAtByYoz5rRcuNFzZBI/V2ooskk+DsVbtrYvQ//rpux230DrzPGEIrwusLBLB/49+kZ6rIglXKgty+w3M6Ry2AWb9H/hRfn7A9HP0Run51bEhvwVyyXtZpRLEMmKj+H0rZhpSYmNSh0jJYnGocbaJjRaP+d+lGi7l9qS6mXX5deyeoWNI4A95vkZl2kXd1c2iJGipJ6REnxzOrXM/VlxJQ4jRT+GEuRnR6c8XbH31iffwEM8Wtck7JuRQjG1GKye2HVWO4QSNg3Fc5Z1mkWBLZswDfe2xmmkyKPBN2bSc1dTNs+pyJXxlWlg8Rpjy4c49QmjvY74C3m2CuMKIzjh+xc1ZrtxZlIYoUTgsUEUa74ej4yxjRTJhxJFsTvug3fxb9lgzmvx/sR2s+r/RxhMX3IPwPnxeowjI50K3q4xpsDQ4/wwnMrlSzOooK8NRjVIISyD4ys3wOK1MZYPnegTLYwZwrNVxpIiegLfv+SidJOLshxcnlSNYRfT8fD0PVraPWFb+xjm75V/qVprLjdDstB203V29wpXeAPFCCjSGkvPrPSW+jSrmPVpqpMPdmdK5ZrMvqkfW5HVBES5rI4PLkazdR5kTNBIMREjwZHuKlvTd2sbsvbaT1CaiozaexSLJlHes6Cb8zCqPZnzEsxK23glt48MpYBssKAzoynTcBlPM8UwLD9toHmegRxWxJH2GolLRhUjRTlJH7a1y02PvX5iIInRIfIj7KIN5NigYjRfH8ecQl6w3awOvewlap4i9pxCfx58k+m1zPEXwye2kaIfhxKdMIZxLUfUOTLH4bUNpqpXrYrCbrL1E449oiyYgPPjqdzAgtfGljx06hM9qi5tAlYZV2DECV/+qjEbtzOTKKeJD1GMlOGNHWh5eG00gpaQhwuoW3YCFxR56H/gCRuayUELkl5XZaTX1dNMMWpLP7GheR4GHlbEShlXOnSKiSEap+xQnbP1ZxxVN5q266l4j123CnTbW5g5Em34R4WONOjSRCrVns+dEMkaWfuSw70fqD8freStIa4JnDONjmycG0oM62JiHHqonpEgrkypwxDFClxmleO9myvPxGtev1RG9DWWa2EbSdt9qzyTWskZiZrv6laGni//5lbMbIfPW2iTvw/7/eQ+HeDMy/XGygEyqFhz1gsO5g6vsYl+sCIzVwxMtvLJsYc4lcTxvqwTswpsEdbRyMszDiMl9PJkZs9dNN08RzIFfNnaJiu99geRpuIo9h61oElkvbK0NphnRO3J5/GVGF3jlbc5MlScSFqcGa1xC1usSCyinDthmyfkxXbM6vTC/nUwKUzE6ejYPboj51A/CrfexNusvXB8HlWvG+A2kWr1F/BC5M8jxz7R6y1DnrC8SUVxnviRqsp0LlyYSszqBXX3ebxGipdVK3L2dSbQIA8DnJ+wPurWD393lIfyu7a9I9RQZJN6HP7nxlOt6W6qbT+PZdvoypgqaIq3J5jVczQHJO3m8blbkpcnbfwyVmWkzV4WtcqjBf1vYkviJYZgTvo6B2KQRxStJ6qKVgTkT7FoUJJxZ7+TrPQ/nL02X7zCib1X9f/VMVKSaBxqrG38I/cX71lx2uypLaxedvwWGyXkAfPrVOZIl7ucGJk/hidaPSMl5P5c6nX2YvFlNYwUpUc4v3iEP0DO3o48sWodJhhUjRRbMVKi3BZqLnQA7zx8yJQnW2S9UnxGCpJ37uEp6URpj2JevBPbvxgy46obU8vG1GY+CElDMXFWeGMg9WcnpP5MmSGWoKKhFH6fPXifMg+5gndr9X41Jxz6mNJIya+M6sRhpLxba0z+ISpGSjItMMqTDu/d5hTvtJ0vhjO46jaV2DBtpW0xcTB4G0jN2AmpGavGkT6FaG/9nmCDeix5dIJR+WM4RUL3XTkmuckFUUNox8+G045rZKRcEyOleqiREndqrrpIaqk8yOv9bdoKGYcTIZLu5XJrMbWjySVv8a6XpIPNW36kaYnlswP0Ubotg5/gOH8NVwv3YoJZufCL0Y/nx6fRscUSrvwoGZtFMT4jRZTFpQ1LirPsO5m77eL5tvbhqUjxzSmQmxYm9Dvgg+fZ8xJJicdIkZqiufU647X48q8zUrRS2L3ZbV6cTtu/YDjjKm5Ty8bKCPggZDbFejvhbVCUkSppnWrthuB77N7jQ8tO1aJF0z7bdaGkmR2fsrRn661dmIca6sE8cZzPmquF6TXBjHLhxqvf8+NM69iCJVd+UHL8Wa4vqB4pk37GSIlbwU14PRUvV9O0lKR4FxgXHk1VQUGiymfWLcXBoxhmY3tTPZNCg/loI0tSJKikq7U+CT2kjP7FMFIUHlulrnAfJqft6REjR1xzuVYvdB2Tfg3DJhUVsY1xJj+JfC3cB5fS/ZjQrmh0HUyUYscFGzkvKVbJq8wk6PIU5QDjMNYigItKazdQUcwD3nngkykP2SLkV5yRFOU7pA7Dw1N0tTySdeGPTVshf3IKkXQvF24trh29VthbosQlO2Dz9gdpWlry7EAfidpofmZ+zkiJB4vAm1iY9OOAjydnz0skJU4jpT9FWlvimbW3GClW4aRCPpKOX0Luto+SNu3OxVhMuAreW5lQtN8BfPQLSpT1PqsbRa9OVXefx2uk+EtYPHcXO7z1lExTL2IzTSlzMcNrUr4nF8arG+eZXErDanE1FNkkHYefG1Mkj/lQEwdOzKsnVQJx/wU/38XAFkO43sqB4/Or8HJjXzqMsuexFKjqpS7HUPtjLG8Rv4GjLvjRn/OXEFxuSa3zRi+7WKwvYjJMKbW+iJqU7ySvNpsb5yejGeTqGClJNA411jZenPyF9a1kK3bXtOGRXIq/I46CnwNmBceQfsdD1jWJeZjUNVLmSYHwFyzUMVJEsF2YUo+mc9zxz2jE/JP7GVdRvKQ/baTERjVeIyX80cCD4ilps4k3Bk1Z++oIg7LHfEcIjxfUpfSEC3xPXp05N88xSRr4JGakRLxF2/drco4iUg8+ZorpjZYCaYn4FpOIb2QkJQ6PcmIYKS+Ig6H03W8waLpW0gMGERumxyyoK32ULsj5rD6Hm+dGcds8D51sJYUztSk272NSW4deyZwZXYaGyx4TkrolG18eoK8yBPA/ZaRIHvm2duTrsVfqokox7sz1KIU/cpO8wnXrCpZZHuZt3hx8PnCSBz9KyLM3oj8bl5EihdDnlvam08TDfMzVksXODgwrH3GG4zZSvpwcS+s5GVg41Zd+jaX20iB+I2Ve/c58sfjDjJTAg2H0/W8kDWytpIHFPrSEPJaoR2mJenxPTvU5Nzk3qeRPOdf87tswuE0/dn2ry3irbUxvEr1mKWwpA3nlupUVyyw5/DYvOT4f4OSDH5QYd4YbCyUaGSFztDLMwt4fl5GS2Hr6S/p63s478auzmAen/qag2rWc6s1HVVapI0sSiiRoIvfifDZSOU9H68X7GJ3bjc3z1/Ou5172S6+16H5NbeTapND+bb/bSFGyb5ZqshbvmgMZ16ZQvHtZP3NVxvRtoJWREgvPeI0U1ScTMVLwlihvPony+mBQahxnVOo0NTkzSW+kfOHk2NbMybCQqb79aCz10KoGW6RolvSvWEaKRFqHljCWWnQDGq9+wZEhsWVByIP51Ck3ETeRP5XFkLkihow2f/EXzp8fR/n6FjwISSu5eG8lFy8mDUQQ58eWp/7iB1LNL3l/npI7rGn6vBqKbFBSjUPCvc5DG/H3l/Ec3t6dQvHZU/4XmSad6uf59OP41aXUC/UKhfBq3yjaSE3KdZ8fGOTricM1K9pmUVvSqbE2guc4wdNC8EwrtQNvpXYgFuTnGVu+PosfhJBGcpg9hf1KM8jVMVKSaBxqrG18oATIBVayuT3VbR79plQvpW0wijKtHzPh0T76xuKJ/RVGisxePHinl4xm1AIHbgUXp3VPc4zLf2P/5DkcfJdGlFttIimaGikKPFY2pvCIUwSlaMSq50cZGkeTUn/7LuTpbIeXildWPSNF+/ercWgiH1H2uClXfzEPFRmp2GUk/aXQN6XXC+5cOMwRKXK87+GFQUS6lzZGihBqrGxcmBGngkjRaBXPjw4lNkz+kv+dh8528q3QiNN8vAdK7vWWd/z4y4St7yVFKhZruKTNrmgskRfBP3lVZl+/wOTSSg0gPN1LlNA8FWpRXIq29VOkIUP2fJSsWI/WXdpRI3cEI8GfHkmR8+U2ngrCmnj/h3jVjopXrWGEEeHLXdsZjJ66iy91pYh9cn+a5NyLaZYeOAYnYKS80SdnmWoUTePH2yf3efrpOxkqdGe+1TIGGKq6n2IrtSle7qRHRweMdtjR/ePkMIKYJDdSXqOfuzy1S2RGTz85qTNkJ1+JitRr1YV2tcKLTmMo7K/1c1K2RvFI0o3Q//4hkaWrV3nplwITldQnhcdKGhcewamgFDRa9ZyjQ3PFrkPyt6dLns7YeUVE9sI84Jr+KV5a07/9TBxvvkCvXG8WWC6gd8XY7F6+d22ZMXoqu77UZfScyfQXI2avqfRAcwz+pUZK4usZJYN+VJsjzr1Jajn3NJmPdkaK+ntEozWLMFJei+yoVJ30zy9w3zsz9afuZq+kfEXrQ6yVXIseSddk30Yo5dqke/nv7ECObntJJQyor2LUyyVorL0WWVG2RqgMjfr7gd/zq1x96RdnilPUxRJXTUrMryVmpAThNr4CdRfd50fBIRy9v5oI8afZHtM+0h07qpSClzt70NHBiB123fk4OYy0KSEj5Y1BLspWLxYmn0Sfvnv+vjCxpaDhymccG5Y7Dvmzi865u7BLUtoLDDnC89WNNNrGEQ/HT0HstY12BXqw92sy6gi4LmMLx7BclQVseUILEg0qTePKxemU1yTnVTkCdRTZJBmHPzeWmEpTwGZs3zOaivGm+YvCsK4lZYecECraC1ydXVklhC5d7Pf0p0HXzcKi8xdNVj3k6JA8WoEe34+8xNtYQLyNX5PVYdF9F8YWjmFJKYuf8iiLnwyoNO0KF6eXj5PSM/5BqWOkSLFvUoxDnbWNW7JwclhJmtlWw/rRb0r1ktDrlX8rYXSuD7eOj6JgLANWTSPlnqR7mX1l6cX5VIvQHyMK52PWpETOXcGHPb2p1Mkaj+QlaNnLkLd2u7jilfa3GSmRtWXJpQbgilBfx3GQQ6Mhkpf6xqACUy5dYaYwNqhrpGj7fo0Ol9QX7Js2mtm2F3jy+TspM+WlRKX6tDIX9igPqX1QrUnRykiJqgdLLsbOFaltiQ1TmFeytTLaUkEYhK5M5ceMKlSffYPvKWIQJ6hMzltSa3MoU2tTSErYw1OMVhZsREYMMtHR0pW5NYJ4//QqR6yXsNzhDj5py9LXcj9rOxbAIPjPN1KCb8+khtwT7j/KMOHcVeYpD4jUBx4c14puqz7TbONhtvQoHlaX5b8tcSPFMz2ma8+ysH4In17d4ZzjBpZtdOE1uTGaaMOuqUaE+ZBiXOwbi7Cm7QAeDXVitRTeBkewWMZrpNyTdC8zvi69yPyoQx1eOJ9wTUr6dus5t7AOQe+ecv3YNpYss+Omd2pK97HEeX3nSDkTeY7St2P9+UU0VLUkgqXWs3UH1j40iG6kvFoudNejcBHKZsOpV6RFQBx3QWi0pXVotKXClEtcmRkHSYw6hyz4M0+uX+PKGUfWL92Ii5BDVO67gu0rulI8dKxS93VwHK26reJzs40c3tKD4mELybZfbaSotZ7SEHp1UwoOO0Fwdql/eibF4gmW+mk+H+2MFA/U3SPqLFPkM9HSnF6yOv0/VGm2mkcUpr/jJda3UGGikD50EXWu6su1maGEPdrs2581UrJ3201QVYlSi6GpjOYk+BeJQ3rarT/PougHi1sWremw9mGcinnSGinB3J5ZQ3Q2d36UmcC5q/NEP9BmjyWdkbKxyBraDnjEUKfVtMoerFKfE1dNSngkJVNHLM/Mp76c+R8ft9OzzlTOSZQk7hYlStEbIX/0Kf3POe7Mr6bRNk7cSFFpopiz7z6eWraM3sxRcoDDmKYUFBemm1tL6mjupVFHkf3pcQRJo8medNpSghV7p1MnmhshJmZ+UgOQm64O3zHZ+l6MsJhuT28ODaxI6w2vyNn/AK83NNMK9Ph+FNVEUWpTojWZDPuF4vkSjEqMwVVRXAqSbrGkjqZ+MfWMlCQZhzprGxcQgS6MKN2UHVWsf1+qV+A5xlZoztXBNzg2Mq4wcnQjZat0nI9Wyxk+j+Bb06ndW8E6t5kYhivCwYkYKYq3e+hdozM2L1NSecoJTk8KZGIZJbuXFM7/lkhKFEvL+x8Zab/tmbDMxT4kETUfn4R5zva5MM9JCE89I0X79yfN4RImllg1KbHfnHiKhrD49CogLEXv+ZGxPdueSXpgLJgChI0tP+2sPwlBny3Pd3ZEf28PoRi24YOe9A85fo+VDWKmEkru7rrm5Bt8lJB8Azn0aB2h2YbxpXspPLHuUJ7eez+il6cPjvc3CcHGn2+kBF2cgGGdBdxLZcLml470lLz/dzu7UtHcnm+tNvFgb++owm+1jJSYhfPC8LPcmGqjT+KtX4ihR++yqqGyAl3lYjffwracG1iYzoL9U8PY1+LNf4/YImIkTK/dG8U6N2ZGHWq1jJTo5AOilAgzVgVhxnpPTmnG+1DqvMLi4FqlzUQwF73/Qcb223gm6Uyxt2N43dsnYei0fS4MnZrF3eM6f0H3LGhafTynhUSj5pyLuE4si/67nXStaI79t1ZserCX3pE1D7/YSNFgPZU9sPJ22MYnvfxS8H9XCv7jaDwV8hLnfa9pXuuFxvPR1khRd49oJAtj1mK0+Swyo2KozDAoNZrjlxdTL3L62sk15U7Sat+G7XitCueV6V4lm6zmRTJJOb56jonKiHOsP2/OOV2itkmTPyjdS+pfJhhSZ8E9Upls5qVjTzJocWa0xS1cyETW55hv2UbODQtJZ7GfqaGsW3HX50RAGxhXuleAc1i6qafIn3Yif4QBLLb8iWBXSy/BjGfYx6FXqLOv44+kKL0jWztQpo/kEZePg+7WTxS1gh3Y7l2OyReuMKuypmEU5V5Vo+P8T40jmKc7+9FpTQ7m755H4zjaPfte2cWxv9phWkY5fn9hUxIjxT6AZuvfcLC/KvdlGJxhua27yCSe2ScrGqiDsfrPKJnHOpShj+Qulp96icszonu+/ETQFuywHe9yk7lwZRaaQ66ekaL0cP70ONRa29jQBEraVdnG26gsrF62nRO0KNXHNcEnJZJha0b54UEsvO1A9zgbz0QZKcEpW2H1bj+94yhoCjr7N4bSDNLp1D+RfVYSNFLEAN/epSY97T1JU3s2p09MpKJeRHj59xkpfN5Jp+KiZHyCXD1280AKbqOrM6JIr29B/sHHSNdxOw+kTkh5MtQ1UrR9f9IscFIZKcg0OlFclOpP5BIl80Gkkhk5TgmBr2+Rn8HH0tFx+wNJVRSUvuyia4mu2H4wiMfjraS+rizRljvkHujMHenVE6o/xFuTIjU2yxpSbPRpSQ+Tnky3zjKxyM0/p3C+yAiO310e6m1T/fPe3o783R0JEWrRu4eHkF/fD9tOeTCz95O5xHByqRgpY11vsKimysviZfeSpNzHC6knhCLnlTUYc6Wx4sQSKgrRa1IWLEpJw3HY7epP0fDrKlEjRUnvbDiJHE6n+CeieZKScjSUglgzdq+I/lwnJfpRZeY13KaUCc1O0E7Z+8zOTsUxDzu07H4gRcUxbBDF+/W0yD+YY+k6sv2BRKVjX2eaHzEpUF5UvxTjz30nRYOlPDoxiiy7OpHHzB6/YkJffmsJUb4zFSNlrCs3FtVMwpoUzdZT4bGGZsWHccxfegk1XMLFIyMpEU1lkXvAaRD9rg5kR6kFGs9HFcjEHR7xK+nx7RGNFiqOgvHg2+IBrzGJ8/5/UX3meVz/rRC5FlrJNa33bahw08pI4fM22hfpyR4p8cthsoELQtkeM20/+O4iTOfnZr91t/8TI6XIiOPcXV4/hsPem+3t8tPdMYTGq+5yeEh+vtlqfma0xi0U8vDC+dcpKVi0JIbj7NjVv2h4Jo4WRgpf5H4rjpndR2H+EfnzMLb8EaWBZkr5oywHuW+PeSTjmUa7mQSMFOXELjG1VgNm3yrNNHc3pqlwGPoKxWMpky0EC6POVVHy4khjT3wkgYcZUKQVGz3joohT+blW45AIyrZ+dFisz8j1U6ifNXo+4ne/Dzw5b8ui5Z70PWOHeTjn/6v1ku4lXs004vG6t9U0RnG9KDwbW1F48E0677mHVZuf90zFBCnw0lRqNZjNrdKSGuE2TYU20hfnfqWEhz5YPLVXsZWeKppXxARyeEARWm30JKO5A69tTKNHx6JB/pPjUHdtowEQxNm/y9HQ2lBYvWz5LTaKl/QuqWGKq+kxLs6rEQ8egZySFLQmq58TkqK+9KM4GcXSFOTDl6C/yJQ2GZ+3tKW0UzvxCveI3DfBQjFbqdYcbkm613rpLTEgkoBc2PEsTak5cD8f0zfE4twhRiuJ2UMjSY1Z+Sw1HXe+ZZemFMRxnLpAlxGUFurXZymlePuDFG/HSnUI4Nz4KjS0uENwemNWXXdmcLScN1/29S5Oux1ZGHPqMgtqhXGkRvSYeJMxDurUaOPQ7v2JCxB1nohK9fiRQG+hxDGSbwWcY3wVWas7waQ3XsV158HRUwNDe/u0Y0eWMZy6vIAwmJRzr4yRxV0UhQbifH0dxqpiQ/jyVzYpySj3Giy5eIyREdSo4qnqW6gNVu+zxaAg9uPE0HIYr3nGj8yifEqj0y7prjDZsBZzb+vFW0StDlLKSzAh+RBZVyKpUVs/SR8XFWd0BLtXUEZxXD23p2s0I/6zXGglMXNIRa89N9jURkmF4SuUoDno6fiNVPUsuHny73DDPki8coNpJmm1D39IDdDxuyyvnwyFQjrLKwWeEhfx4Fm9U+2TEjY7/+NDpL/KWp4r0tHG6hlOvUIZCMLn9Ab9on3YfVZo51UcEXHPKQifL0H8lSktyYTatG1pJ9pJhKBHxJyCr/BvpVrMuSVGilAbH4o61CrfExkbg8bZ32UkFZqs4LHUTZlufSyU5+EkyYcHUKTVRjzjOkdBboyvUFfSfyXdKyYFsTBVVmlowZ3g9Bivuo7z4ILRUrJ99/WmeLsdZBlzissLasUr6+PaG4rgYEiWLPYdE3ybmTUqiT4QTGqhH392oD+pt5uSo6cj31LVw+LmSf4ON+aCnu1mcLOubH4o/SPClbdkCoWsoz6BWs5Zu/WUGUr9347O5enu8B6FfjoqDdmCvUU7CoenpT3ZP5t+oy5iIk0k+12Q2gcN56OKYeKyROWcqblH1Du/4U9F3r0ZhHrXI5x615fTo6vSZPl9QjI0YcXlQwyNMLq1kmuyEj+9hp5k6GaPh6SXR2PddpNG4nWVdWIthIJdznskc44XB/qVF6r2V4TopRaWucVYrxhA1fA2En4PdzG2y3SCZ11gY0s5rAnqIFF1IlEUxHFenuH3cUpMbT6wJ/blqZQ84exeQWQUJ/Jz+67R9cbP4iAoaYZDql7subEJpfjzFd1L8z0WtW80w9+y7usAABIHSURBVE0plsJ1banlK9pnN2c3tFahLE8YiwDR9ZXEOu+EgnivEDq1CV+sgHOSRthwEXe+p6epyJ+DQ2LIH6deFGu/g4zCdOm+uG6i/aLi2+MJGylK+N2mY9R0Dm9a2nBxuzB+KS8KHykub9KY+R9E6XHZQqd8UepysHSeXzzfGvdvBTAeOp7eVTPHr0z7SmOYvGbYf01FK8vX0qgmflePZuPw4+a67piMcOT59x8JnG99snTaIWlFnaMYpPwvMbNRE2ZcF4/o7mOsaBHFWqB4d4jhjTrgWGwlZxz6EFkyIh7Us2vnsu70R7LU7suEYUbkSixfMt5R+UuDSSNhfXpDS5uL4mkPK0jyuTiNJo3n88HUBpctnYiCPFg6zy9mvrU73woYM3R878hDG/sTvuK9zCvey6+kamXJa2molQDiGo4jxtc0WNvIXwadZ1z5BmyuKA0cbTvHDh9GPCgpLyeXzmS923fK9vyXia0KalibE/4i7yssM2/Lv0/a4XhuBY3joxELfsrSpmVFQf/GDwMVOj2JhFiaVGCQq2A6oS+pd0/nuuk5zk0uHaksRBxwT4O6WDw4xZhw10/w/ZW0qD2KY16Zab7qHPsHFw/7ja8oePklpcoreRhn/8BYHFIa3Vehr5ToXwFhtvmcLP7CeKTz8nTjlsy64EP2lis47iAKX7gw8r82B2MjCwKH7+PErLqRURbv7e3FO74HH2GuSpQ4Q4v3azzROH8QzM3p1akiNK0/VOiTYz6qFkbKc3h+OsYtZ3HBJzstVxzHYUiZ8AvWn2tzjMUYCWT4PqEvr6tiiXw5yVij1iy5+Z0iPbZxzLITBUO9uOK9PTSEOu0PUnbVcez6FI/ax5+F6jGfUEMGKNkVn4exKwZ/4LLV3/QYJdGsoKwYLTiK85iKpAqQIvui0lPFQ59aklLgOj6ikaGmCH7B2rSAfM9XyMhiE3P47+9N4bZbeCf7aPWLowzJGSX3I4yUQP0M1J11ikOTDMMbXcocj42kQeuNfDffyekNpuEOrRDuzKlFJamVCNJLT/luE/m7eRZReq048DUrP044czUgFVWGLsU8+U0MeixnmDIRPhKXzCq9D0L4cnMH47sPZtPNb6St/A8HTkl9WOgSRM0ppSjVLw/2D23aFvEXe07wytKECoNcyWs2gb6pdzNdemqdOzeZyOySyFQHA+oK0cmpMaopohHf8yNzpCNI6mbctzCmxwis7wWQuf5cDjvLBR/uLPhibUqBXo74ppZUuNeSCqcaQPaXqG3htmx5lyyOAlUfzk83pqUoZT7KhrDHHRgSdWiZY2yEReBw9p2Yhep2THxXhPBk53iJ0hkyYqwZFVR6iX05OZLazVZyX5GLztvc5X7KyY87c6hVSWqwgvRIX74bE/9uThahmbY68JWsP07gfDVAeiUMZal5cm4a9GD1sIpEzTkO2aEy50bCHHQ0GnOQpusZtUdDnljRsf5AHD2CEZ5OUuUsRaVS2QjyuMvtJyHUmHeCw+Mke0GL+ahimrgs0XyPJL5mKk98sca0gDCESkpeaysPSVMN31BfDjGomgkbHoeQ2Xg5Z/dJ+lR4kFIbuab9vlVZQ2NxKhwcGK3Hj7/UPxYXpdhDvywTzymba0ZFUhVvHOhX35wtjwND19AgXV7KGRYlwzcP7t58RtouOzhr1SFMT43EITUmm18LZW60g8X+3oVDSU2SNRQH3rFhYb+JfTFgVqAzOz8ni5+gItJIkR53Geoy69QhJhmGe3CkafOxkQ1ovfE75jtPs8E0zLkcotUe0x63KCxSSs+ol5IlFE0KRmHRSNLpjg5BRbRHMjP6KgmdPITQKfJq8+bMlKa0nnsJn2wtWH58N8PKhisNgbdYaFyPOb6DRP4I6+lPtBdM1EgJ7a55bBpmfdbiUaErnQz1uLHHnjvCcLVozUxMC0er8gstQK415xbfZSH0Mxqz0t2ZITEKwBVvXLC0OsKV03bYnHhGgDRLTJG3Ht3MGlK9WT8GGuWOY7eoOw5JTdlljqGZLW9CEjJQlAPMTrddD6XBWnQEFe9dWDBwIPMP+1G6bUealssK729zbN8FMJ7JRoselFHxIipeShFj8dG4BMr3xMKvPM0Vt2mqRfcaiZhQr8+xaWb0WetBha6dMNS7wR77O+TruYg1M02JDnmEVy8UcTIar8TdeUiUARWqC73BxdKKI1dOY2dzgmdKKuUUeanXzYyG1ZsxdaBR3APUZBzhb9BubcN+HJp6UXcT5RNJ9VK8F29Ekf44S3O4lMLMc9tlbGR6lVpIS575tglzWWvnyIXXgaTMmp+8GZPHg0EQvh89eefznR+h20mPNEWb0LVDPWq3aIrX1Pr87SLGi/x72nLDsDu+jBaSVuh/w57VTm5csNuI010fFHrJyVOvF32lQWjdDK6sm72cPXe/kcPUkgv2vcQjH8DNXRZs3r4dy/338VWeiXwN6NXbnJ7DelFLi1Cp4s0p1q/fjbPtFg4+9OOHXkoKNe5N1zqFqGg6ko7lotdHKN6fYcnQgcza+4hkZVtj1saQzN7XOXTCkzIDLLAYViu0GDnkiTMrthzgqK01Rx77y3v/oqic2x5dujHMvDqZ4gnxqft+tdYw0YdEXpzZzKYjbhzZvIUzb0Qx0c9CFbP+dOrQi3EmylQg5dHQDCOlPHx/ZglDB85i76NklG1tRhvDzHhfP8QJzzIMsLBgWK0ssRwzwS/2M6XvEJadfEfGKu3p2qI0qd+eY+/JbzSesY55XUuFe5p8uLJ9GTa229jo/JBvsg/0kqchW44sJA/wwi95DkpINKfDoLEMMU7GuXXWHDuzh43216WXkzSdzVOPXn27YjZQSD7ivHXjBs7v2k6WWtuybcN+HvjLbv6rKM369aBLt2GYV37D3gVWbN9pidOdr7KXU5C/YV96d+nCoD71Qi+0CCMlOEc1jPJ+5EPe5rSplkvq6ETm2N8Wr+EKrBd2iCa7FJ+PM75xO5Zek/OhPFnJpeh9ghU2k3OzqU5Vpl0JFOrm4nRd7YRVr/zcs13Clu02obj4Cy76KTOQM2cmUgT74PUtJTmKG1K/TW9GDmlHaRHpsedUjJaDRzFm7CAaZJM+IHHOqSPNv87EaKyLYC9jSluOYXbHWdZCulv738BexuJ2wY6NTnfxicS7C10HDKDae7voGMqZT501B1lTBODll1zGV4kG7YU+dVhriioNFL9r7Fxqje22Dex/EHaOihj3oUfX7gw3r8ybvQuw2r4TS6c7fJVvpchvRO9eXTAb3Jd6EVqEOMjOLBnKwFl7eZSsLK3N2mCY2Zvrh07gWWYAFhbDqKUVC2WInJ+VTJq1B4/shlQtkR29dxext3HmYUghWk3bypYxtcPOunS+Pz6+Me2WXhNMQheS3EYTsLKZTO5NdagqJC+BsruLd12N08oKXFsTfc5RsiOuOTekb+8udBnUh8qeMfD9S531jNqjyp3vf2cLI3r8zZZrXwhTD2QfpZd+D9OtWDeyJqH2mCbzsepFyXAxqo4sibUnE9sjico51Qf8uLZzKdYiOzbsfxB6RlIXa0FfMyMaCeOhSUl9SWnrR9UOW3gRkoJ8ouz3GzGO/9fe+cc0dUVx/GuME7IN3YAxRVAxOmBBfggGgwOKECIIBgYqKghzOIxhmowZp8mmi7jhj0WHRtCx6TKQKKAlKgEBoQhkLAiGAoIE50+YgIIUgox2uxVUKJ32PUptu/Mvue/e7/mc9y739N57ztdB8rmQw7w2hvd2lA/Z/6Sp081hbDj0T+OffnS13EN7r3QwkJzuCEFoHI4cCHt+tKv/Zha2R32ORNE99A8t8SZMnIr56w4i7cg62BqM5mA4xxefRIQhPHYtFtw/i4SfU3HqJyFqH8vYWsgSgqhIrFq9EdHu7w8CZWumy8nJyLyQjhMXG9HDWE6e7Y2osMWY7RCEzaF2wwo+P9tJGYDZQgFmtLdhxtJALJzGikOyNe4ZMdsx/vFX7A2xenEMjOM7ZlGnMD+rzC0QnadHvhOGc/2xccsXiIvxhGl95igWXuujsGoVO/roeBdpiaeRlXYUWbUSNj+9iXnLohG+YjWbn1wGd4tYECbaH4PP4s+h6en8sxyOJixj46UC3JoTib37N2Mxj7XL8LdahSBlqLmkGVfyilHTNgkWLGuOt4uF0u1jWacY5zNEaDc2hnj3BjTF3maR/BjCKMWPVEUdnL5tpY0H8KihFIXl9bjfNQAD0zlw8vDAAnNlaUF60JR/BhevtaGz8iT23YpAlWJFVB6CJM1XkFdcg7ZJFmxsb7hYDN8UfdYhKyokPo8MEdvFMRZj94YmxN5mF5bUilwVHTwMVHikuzIdx0UTIIheCcdRqVqHNx5Aa0UWzlX+DVv/ELhbciwS1JuKYNNwnJUvxtiib+HqTdgYtgzuTnNhYcyOeCgssmX9EnTcbcBVkRApPxxGllj+D24w93fZp93IFFai28QJvoFumKnMRWNHo8EeZOhqLEE+e+9betjCz8oOrp7OUPrq8VI13v3zEsX9IVkXGkvyUV7fgp7JZrCyc4Wns/I58UXn/firugCFlc1of2IAEyt2xM7LHmZc819wVzvuT4wo5li1DUaiPJTd6IDMyBIOnj5YNFPJRWW5qp5mFAlzUdNlBGuBP5ZYswrY7M9Pbl5Get4dmAuC4T3vpZOB+m3rv4eyTCEqu03g5BsINx34qGVdjSjJL0d9Sw8mm1nBztUTzmr5aPtwv7IQxdU38YD9KPTWNGu4CjzwoaniHdQeNBcJkVvTBSNrAfyXWGPqoCNxOT0Pd8wFCPaeN1RgU/0u49SjtBMNxbkQ1T2A9J25cGOnQuze02F7OBn/isa85jW1CoC07zFam8Uou3AC+xJOoHraVpRW7YHLCBf14s7v+Si8+iceTzSFzWK2i2377pjqAPG3YmQK4qptRhDlleFGhwxGlg7w9FkE5dOfOr8ZmYrc+Fv5sielnQ0ouVSKutY+GLL5Z76bJ1srq2cxpHqQwtU2+VlaxxB0JDQhZZl6xHKVoPn2LNlAkh/sLq5EHTsPPHxDTRNa5OerHUM6kNAkz/ijiRF1dIyhIOWc9AOsT8vFUXapTeW0D301OBK6FFsuPIA9SynIt0CRjpIj2URAKYGXV5wnaESACBAB7gQe5cfio61v45cKxSCFe1/j98Sr6qSM38j/1bNucFONyzgFKSyrVkoofI7ZI120Ey4cf+hWTboWtmLn7r/yjkH3tyIc9tVEZqphDNi9iZRQHxyzT4dop8uwrUgt5PS6JT0NUjbg7pfFjJUzpwulcumyjmxEL1iBa1F/UJDyun1J42sFAQpStMINJIII6BcBaS2+iz4N72O7FHZStMlM7QtS2KUXHeCmmg/VHqTIJE3ISdyBhKJZiDsej0BLlX+jVk2xVrZiFyPZme7vd6Wi++MDOBhuy3nhy98sGSRNOUjckYCiWXE4Hh+I/wVy/sDYweRUhDgUYl1lCgJ4JWiToi7eHesHklD+jd1YlNCzREAvCEhOLodJZDak8jS04uFpaPXCPDKCCBCB10KA1T+qqMY7zs4Y49WGcVQvwcnlJojMlj5Npy7mUzNQ7ep0gZtqRqs5SBnA9YxDKDDww1o/G0zhniNXNdVa1krWegnJ6V1YtCYIDqa803rxs2rgOjIOFcDAby38bKbwSEvMb1idfqr3FMuCZoQDhxUKlHIwakC8B5uyA5C8nYIUDtioqV4SYNmg9nnAZmsppKZrcKb5NwRr+BqJXmIlo4gAEdB+As9rB0lhylIqN7OUyjT9qc9tag5S1CeMeiIC40egH319E2FgMJaAUh19jJ+F1DMR0ASBzopUJAmLUCjMQe1DGcsA8wbMWd2hAC8/RMT4jKwjowlBNAYRIAJEQCMEOlGRmgRhUSGEObV4KJNnTTWHa1AAvPwiEOMzsm6IRiTp4SAUpOihU8kkIkAEiAARIAJEgAgQASKgywQoSNFl75F2IkAEiAARIAJEgAgQASKghwQoSNFDp5JJRIAIEAEiQASIABEgAkRAlwlQkKLL3iPtRIAIEAEiQASIABEgAkRADwlQkKKHTiWTiAARIAJEgAgQASJABIiALhOgIEWXvUfaiQARIAJEgAgQASJABIiAHhKgIEUPnUomEQEiQASIABEgAkSACBABXSbwLwmNqZ/YeroWAAAAAElFTkSuQmCC)"
      ],
      "metadata": {
        "id": "Sgfg8wTFbbvl"
      }
    },
    {
      "cell_type": "code",
      "source": [
        "raw = '0,1018; 0,1021; 0,1019; 0,1014; 0,1017; 0,1028; 0,1017'\n",
        "raw = raw.replace(',', '.')\n",
        "raw"
      ],
      "metadata": {
        "colab": {
          "base_uri": "https://localhost:8080/",
          "height": 35
        },
        "id": "VCy_78jNeuXM",
        "outputId": "1987e9d7-d906-4586-8357-1bc7af501533"
      },
      "execution_count": 123,
      "outputs": [
        {
          "output_type": "execute_result",
          "data": {
            "text/plain": [
              "'0.1018; 0.1021; 0.1019; 0.1014; 0.1017; 0.1028; 0.1017'"
            ],
            "application/vnd.google.colaboratory.intrinsic+json": {
              "type": "string"
            }
          },
          "metadata": {},
          "execution_count": 123
        }
      ]
    },
    {
      "cell_type": "code",
      "source": [
        "znach_titr = raw.split(';')\n",
        "znach_titr"
      ],
      "metadata": {
        "colab": {
          "base_uri": "https://localhost:8080/"
        },
        "id": "_ryHEtOATZG5",
        "outputId": "e92e2e0b-a37d-483a-ae45-156026b625f7"
      },
      "execution_count": 125,
      "outputs": [
        {
          "output_type": "execute_result",
          "data": {
            "text/plain": [
              "['0.1018', ' 0.1021', ' 0.1019', ' 0.1014', ' 0.1017', ' 0.1028', ' 0.1017']"
            ]
          },
          "metadata": {},
          "execution_count": 125
        }
      ]
    },
    {
      "cell_type": "code",
      "source": [
        "for i in znach_titr:\n",
        "  print(type(znach_titr), '\\t', i)"
      ],
      "metadata": {
        "colab": {
          "base_uri": "https://localhost:8080/"
        },
        "id": "qMX6XUy6bs05",
        "outputId": "18dba1a3-5a54-488f-8dc4-8d33832779b8"
      },
      "execution_count": 126,
      "outputs": [
        {
          "output_type": "stream",
          "name": "stdout",
          "text": [
            "<class 'list'> \t 0.1018\n",
            "<class 'list'> \t  0.1021\n",
            "<class 'list'> \t  0.1019\n",
            "<class 'list'> \t  0.1014\n",
            "<class 'list'> \t  0.1017\n",
            "<class 'list'> \t  0.1028\n",
            "<class 'list'> \t  0.1017\n"
          ]
        }
      ]
    },
    {
      "cell_type": "code",
      "source": [
        "titr = []\n",
        "\n",
        "for i in znach_titr:\n",
        "  titr.append(float(i))\n",
        "\n",
        "print(type(titr[0]))"
      ],
      "metadata": {
        "colab": {
          "base_uri": "https://localhost:8080/"
        },
        "id": "T3jg__MLWiWT",
        "outputId": "6e62916e-ecd8-4042-f265-21d37f033241"
      },
      "execution_count": 127,
      "outputs": [
        {
          "output_type": "stream",
          "name": "stdout",
          "text": [
            "<class 'float'>\n"
          ]
        }
      ]
    },
    {
      "cell_type": "code",
      "source": [
        "for i in titr:\n",
        "  print(type(i), '\\t', i)"
      ],
      "metadata": {
        "colab": {
          "base_uri": "https://localhost:8080/"
        },
        "id": "rr7pFP3kc8Pd",
        "outputId": "1d1c6435-8ab8-471c-d4e6-893749327bea"
      },
      "execution_count": 130,
      "outputs": [
        {
          "output_type": "stream",
          "name": "stdout",
          "text": [
            "<class 'float'> \t 0.1018\n",
            "<class 'float'> \t 0.1021\n",
            "<class 'float'> \t 0.1019\n",
            "<class 'float'> \t 0.1014\n",
            "<class 'float'> \t 0.1017\n",
            "<class 'float'> \t 0.1028\n",
            "<class 'float'> \t 0.1017\n"
          ]
        }
      ]
    },
    {
      "cell_type": "markdown",
      "source": [
        "1. Определяем среднее значение"
      ],
      "metadata": {
        "id": "8u3C4KD1btP2"
      }
    },
    {
      "cell_type": "code",
      "source": [
        "c = 0\n",
        "chislitel = 0\n",
        "znamenatel = len(titr)\n",
        "\n",
        "for i in titr:\n",
        "  c += 1\n",
        "  chislitel += i\n",
        "  print(f'Шаг №{c}, сумма для числителя = {chislitel}')\n",
        "print()\n",
        "print(f'Финальное значение числителя {chislitel}')"
      ],
      "metadata": {
        "colab": {
          "base_uri": "https://localhost:8080/"
        },
        "id": "wuxPIdmrdLUR",
        "outputId": "11c0cb9f-a690-43fb-834e-4d7859240889"
      },
      "execution_count": 138,
      "outputs": [
        {
          "output_type": "stream",
          "name": "stdout",
          "text": [
            "Шаг №1, сумма для числителя = 0.1018\n",
            "Шаг №2, сумма для числителя = 0.2039\n",
            "Шаг №3, сумма для числителя = 0.3058\n",
            "Шаг №4, сумма для числителя = 0.4072\n",
            "Шаг №5, сумма для числителя = 0.5089\n",
            "Шаг №6, сумма для числителя = 0.6117\n",
            "Шаг №7, сумма для числителя = 0.7134\n",
            "\n",
            "Финальное значение числителя 0.7134\n"
          ]
        }
      ]
    },
    {
      "cell_type": "code",
      "source": [
        "mean_znach = chislitel/znamenatel\n",
        "\n",
        "mean_znach"
      ],
      "metadata": {
        "colab": {
          "base_uri": "https://localhost:8080/"
        },
        "id": "Mr_MpvmqhB3s",
        "outputId": "9c2cbc6a-ea12-4979-93a4-d2815e0ca4ae"
      },
      "execution_count": 139,
      "outputs": [
        {
          "output_type": "execute_result",
          "data": {
            "text/plain": [
              "0.10191428571428572"
            ]
          },
          "metadata": {},
          "execution_count": 139
        }
      ]
    },
    {
      "cell_type": "markdown",
      "source": [
        "Упростим и сделам красивее"
      ],
      "metadata": {
        "id": "3jwMDfe6lLI0"
      }
    },
    {
      "cell_type": "code",
      "source": [
        "c, chislitel, znamenatel = 0, 0, len(titr)\n",
        "\n",
        "for i in titr:\n",
        "  c += 1\n",
        "  chislitel += i"
      ],
      "metadata": {
        "colab": {
          "base_uri": "https://localhost:8080/"
        },
        "id": "yWiP80mOlK50",
        "outputId": "3b163d2f-84d8-491e-e296-e6747443f149"
      },
      "execution_count": 140,
      "outputs": [
        {
          "output_type": "stream",
          "name": "stdout",
          "text": [
            "Шаг №1, сумма для числителя = 0.1018\n",
            "Шаг №2, сумма для числителя = 0.2039\n",
            "Шаг №3, сумма для числителя = 0.3058\n",
            "Шаг №4, сумма для числителя = 0.4072\n",
            "Шаг №5, сумма для числителя = 0.5089\n",
            "Шаг №6, сумма для числителя = 0.6117\n",
            "Шаг №7, сумма для числителя = 0.7134\n",
            "\n",
            "Финальное значение числителя 0.7134\n"
          ]
        }
      ]
    },
    {
      "cell_type": "markdown",
      "source": [
        "Создадим функцию"
      ],
      "metadata": {
        "id": "7N1uEwymlaO2"
      }
    },
    {
      "cell_type": "code",
      "source": [
        "# просто пример\n",
        "\n",
        "def f(x):\n",
        "  \n",
        "  return x**2 + 3*x + 5\n",
        "\n",
        "f(5)\n",
        "f(1)\n",
        "f(x)"
      ],
      "metadata": {
        "colab": {
          "base_uri": "https://localhost:8080/"
        },
        "id": "gvIJLPOrlZ4d",
        "outputId": "6297966c-14fd-448e-ee51-0484ed1091f1"
      },
      "execution_count": 145,
      "outputs": [
        {
          "output_type": "execute_result",
          "data": {
            "text/plain": [
              "38.708888343171225"
            ]
          },
          "metadata": {},
          "execution_count": 145
        }
      ]
    },
    {
      "cell_type": "code",
      "source": [
        "def mean_znach(titr):\n",
        "  c, chislitel, znamenatel = 0, 0, len(titr)\n",
        "\n",
        "  for i in titr:\n",
        "    c += 1\n",
        "    chislitel += i\n",
        "  return titr"
      ],
      "metadata": {
        "id": "moGy9LOBlGE_"
      },
      "execution_count": 146,
      "outputs": []
    },
    {
      "cell_type": "code",
      "source": [],
      "metadata": {
        "id": "0G2qU-1RmH1u"
      },
      "execution_count": null,
      "outputs": []
    }
  ]
}